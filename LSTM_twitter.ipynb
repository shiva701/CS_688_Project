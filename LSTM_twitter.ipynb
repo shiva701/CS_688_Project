{
 "cells": [
  {
   "cell_type": "markdown",
   "metadata": {
    "id": "vRPNX11FVV1J"
   },
   "source": [
    "#Importing all the Libraries and mounting google drive"
   ]
  },
  {
   "cell_type": "code",
   "execution_count": 1,
   "metadata": {
    "colab": {
     "base_uri": "https://localhost:8080/"
    },
    "executionInfo": {
     "elapsed": 10972,
     "status": "ok",
     "timestamp": 1668294075140,
     "user": {
      "displayName": "BHAVYA ANTIYA",
      "userId": "05493129355923018689"
     },
     "user_tz": 300
    },
    "id": "QOOtjq9KWpGj",
    "outputId": "3b00dfb5-e9c5-435a-ed96-0d9778a402f0"
   },
   "outputs": [
    {
     "name": "stdout",
     "output_type": "stream",
     "text": [
      "Collecting emoji\n",
      "  Downloading emoji-2.2.0.tar.gz (240 kB)\n",
      "Building wheels for collected packages: emoji\n",
      "  Building wheel for emoji (setup.py): started\n",
      "  Building wheel for emoji (setup.py): finished with status 'done'\n",
      "  Created wheel for emoji: filename=emoji-2.2.0-py3-none-any.whl size=234925 sha256=8a4e24d81a7d3d92e9aecd20457164abb65d72e4275b51ceb81b1eb3e851af99\n",
      "  Stored in directory: c:\\users\\rahul\\appdata\\local\\pip\\cache\\wheels\\9a\\b8\\0f\\f580817231cbf59f6ade9fd132ff60ada1de9f7dc85521f857\n",
      "Successfully built emoji\n",
      "Installing collected packages: emoji\n",
      "Successfully installed emoji-2.2.0\n",
      "Note: you may need to restart the kernel to use updated packages.\n"
     ]
    }
   ],
   "source": [
    "!pip install emoji\n",
    "!pip install wordcloud"
   ]
  },
  {
   "cell_type": "code",
   "execution_count": null,
   "metadata": {},
   "outputs": [],
   "source": [
    "!pip install tensorflow"
   ]
  },
  {
   "cell_type": "code",
   "execution_count": 2,
   "metadata": {
    "colab": {
     "base_uri": "https://localhost:8080/"
    },
    "executionInfo": {
     "elapsed": 3106,
     "status": "ok",
     "timestamp": 1668294078242,
     "user": {
      "displayName": "BHAVYA ANTIYA",
      "userId": "05493129355923018689"
     },
     "user_tz": 300
    },
    "id": "h8g9Ubv3lODi",
    "outputId": "5bc7c5e9-538d-4053-8b54-5d7f18797798"
   },
   "outputs": [
    {
     "name": "stderr",
     "output_type": "stream",
     "text": [
      "[nltk_data] Downloading package stopwords to\n",
      "[nltk_data]     C:\\Users\\Rahul\\AppData\\Roaming\\nltk_data...\n",
      "[nltk_data]   Unzipping corpora\\stopwords.zip.\n",
      "[nltk_data] Downloading package wordnet to\n",
      "[nltk_data]     C:\\Users\\Rahul\\AppData\\Roaming\\nltk_data...\n",
      "[nltk_data] Downloading package omw-1.4 to\n",
      "[nltk_data]     C:\\Users\\Rahul\\AppData\\Roaming\\nltk_data...\n",
      "[nltk_data] Downloading package punkt to\n",
      "[nltk_data]     C:\\Users\\Rahul\\AppData\\Roaming\\nltk_data...\n",
      "[nltk_data]   Unzipping tokenizers\\punkt.zip.\n"
     ]
    },
    {
     "data": {
      "text/plain": [
       "True"
      ]
     },
     "execution_count": 2,
     "metadata": {},
     "output_type": "execute_result"
    }
   ],
   "source": [
    "import nltk\n",
    "nltk.download('stopwords')\n",
    "nltk.download('wordnet')\n",
    "nltk.download('omw-1.4')\n",
    "nltk.download('punkt')"
   ]
  },
  {
   "cell_type": "code",
   "execution_count": 6,
   "metadata": {
    "executionInfo": {
     "elapsed": 1950,
     "status": "ok",
     "timestamp": 1668294080184,
     "user": {
      "displayName": "BHAVYA ANTIYA",
      "userId": "05493129355923018689"
     },
     "user_tz": 300
    },
    "id": "LsmLu6lzVaYS"
   },
   "outputs": [
    {
     "name": "stdout",
     "output_type": "stream",
     "text": [
      "Requirement already satisfied: wordcloud in c:\\users\\rahul\\anaconda3\\lib\\site-packages (1.8.2.2)\n",
      "Requirement already satisfied: numpy>=1.6.1 in c:\\users\\rahul\\anaconda3\\lib\\site-packages (from wordcloud) (1.20.3)\n",
      "Requirement already satisfied: matplotlib in c:\\users\\rahul\\anaconda3\\lib\\site-packages (from wordcloud) (3.4.3)\n",
      "Requirement already satisfied: pillow in c:\\users\\rahul\\anaconda3\\lib\\site-packages (from wordcloud) (8.4.0)\n",
      "Requirement already satisfied: cycler>=0.10 in c:\\users\\rahul\\anaconda3\\lib\\site-packages (from matplotlib->wordcloud) (0.10.0)\n",
      "Requirement already satisfied: pyparsing>=2.2.1 in c:\\users\\rahul\\anaconda3\\lib\\site-packages (from matplotlib->wordcloud) (3.0.4)\n",
      "Requirement already satisfied: python-dateutil>=2.7 in c:\\users\\rahul\\anaconda3\\lib\\site-packages (from matplotlib->wordcloud) (2.8.2)\n",
      "Requirement already satisfied: kiwisolver>=1.0.1 in c:\\users\\rahul\\anaconda3\\lib\\site-packages (from matplotlib->wordcloud) (1.3.1)\n",
      "Requirement already satisfied: six in c:\\users\\rahul\\anaconda3\\lib\\site-packages (from cycler>=0.10->matplotlib->wordcloud) (1.16.0)\n",
      "Collecting tensorflow\n",
      "  Downloading tensorflow-2.10.0-cp39-cp39-win_amd64.whl (455.9 MB)\n",
      "Requirement already satisfied: six>=1.12.0 in c:\\users\\rahul\\anaconda3\\lib\\site-packages (from tensorflow) (1.16.0)\n",
      "Collecting astunparse>=1.6.0\n",
      "  Downloading astunparse-1.6.3-py2.py3-none-any.whl (12 kB)\n",
      "Collecting keras<2.11,>=2.10.0\n",
      "  Downloading keras-2.10.0-py2.py3-none-any.whl (1.7 MB)\n",
      "Collecting google-pasta>=0.1.1\n",
      "  Downloading google_pasta-0.2.0-py3-none-any.whl (57 kB)\n",
      "Collecting protobuf<3.20,>=3.9.2\n",
      "  Downloading protobuf-3.19.6-cp39-cp39-win_amd64.whl (895 kB)\n",
      "Collecting tensorflow-estimator<2.11,>=2.10.0\n",
      "  Downloading tensorflow_estimator-2.10.0-py2.py3-none-any.whl (438 kB)\n",
      "Collecting gast<=0.4.0,>=0.2.1\n",
      "  Downloading gast-0.4.0-py3-none-any.whl (9.8 kB)\n",
      "Collecting absl-py>=1.0.0\n",
      "  Downloading absl_py-1.3.0-py3-none-any.whl (124 kB)\n",
      "Requirement already satisfied: wrapt>=1.11.0 in c:\\users\\rahul\\anaconda3\\lib\\site-packages (from tensorflow) (1.12.1)\n",
      "Collecting flatbuffers>=2.0\n",
      "  Downloading flatbuffers-22.10.26-py2.py3-none-any.whl (26 kB)\n",
      "Collecting opt-einsum>=2.3.2\n",
      "  Downloading opt_einsum-3.3.0-py3-none-any.whl (65 kB)\n",
      "Collecting libclang>=13.0.0\n",
      "  Downloading libclang-14.0.6-py2.py3-none-win_amd64.whl (14.2 MB)\n",
      "Collecting tensorflow-io-gcs-filesystem>=0.23.1\n",
      "  Downloading tensorflow_io_gcs_filesystem-0.27.0-cp39-cp39-win_amd64.whl (1.5 MB)\n",
      "Requirement already satisfied: packaging in c:\\users\\rahul\\anaconda3\\lib\\site-packages (from tensorflow) (21.0)\n",
      "Collecting tensorboard<2.11,>=2.10\n",
      "  Downloading tensorboard-2.10.1-py3-none-any.whl (5.9 MB)\n",
      "Requirement already satisfied: setuptools in c:\\users\\rahul\\anaconda3\\lib\\site-packages (from tensorflow) (58.0.4)\n",
      "Collecting termcolor>=1.1.0\n",
      "  Downloading termcolor-2.1.0-py3-none-any.whl (5.8 kB)\n",
      "Collecting grpcio<2.0,>=1.24.3\n",
      "  Downloading grpcio-1.50.0-cp39-cp39-win_amd64.whl (3.7 MB)\n",
      "Requirement already satisfied: numpy>=1.20 in c:\\users\\rahul\\anaconda3\\lib\\site-packages (from tensorflow) (1.20.3)\n",
      "Requirement already satisfied: typing-extensions>=3.6.6 in c:\\users\\rahul\\anaconda3\\lib\\site-packages (from tensorflow) (3.10.0.2)\n",
      "Collecting keras-preprocessing>=1.1.1\n",
      "  Downloading Keras_Preprocessing-1.1.2-py2.py3-none-any.whl (42 kB)\n",
      "Requirement already satisfied: h5py>=2.9.0 in c:\\users\\rahul\\anaconda3\\lib\\site-packages (from tensorflow) (3.2.1)\n",
      "Requirement already satisfied: wheel<1.0,>=0.23.0 in c:\\users\\rahul\\anaconda3\\lib\\site-packages (from astunparse>=1.6.0->tensorflow) (0.37.0)\n",
      "Collecting tensorboard-plugin-wit>=1.6.0\n",
      "  Downloading tensorboard_plugin_wit-1.8.1-py3-none-any.whl (781 kB)\n",
      "Collecting google-auth<3,>=1.6.3\n",
      "  Downloading google_auth-2.14.1-py2.py3-none-any.whl (175 kB)\n",
      "Requirement already satisfied: werkzeug>=1.0.1 in c:\\users\\rahul\\anaconda3\\lib\\site-packages (from tensorboard<2.11,>=2.10->tensorflow) (2.0.2)\n",
      "Collecting markdown>=2.6.8\n",
      "  Downloading Markdown-3.4.1-py3-none-any.whl (93 kB)\n",
      "Requirement already satisfied: requests<3,>=2.21.0 in c:\\users\\rahul\\anaconda3\\lib\\site-packages (from tensorboard<2.11,>=2.10->tensorflow) (2.26.0)\n",
      "Collecting tensorboard-data-server<0.7.0,>=0.6.0\n",
      "  Downloading tensorboard_data_server-0.6.1-py3-none-any.whl (2.4 kB)\n",
      "Collecting google-auth-oauthlib<0.5,>=0.4.1\n",
      "  Downloading google_auth_oauthlib-0.4.6-py2.py3-none-any.whl (18 kB)\n",
      "Collecting pyasn1-modules>=0.2.1\n",
      "  Downloading pyasn1_modules-0.2.8-py2.py3-none-any.whl (155 kB)\n",
      "Collecting cachetools<6.0,>=2.0.0\n",
      "  Downloading cachetools-5.2.0-py3-none-any.whl (9.3 kB)\n",
      "Collecting rsa<5,>=3.1.4\n",
      "  Downloading rsa-4.9-py3-none-any.whl (34 kB)\n",
      "Collecting requests-oauthlib>=0.7.0\n",
      "  Downloading requests_oauthlib-1.3.1-py2.py3-none-any.whl (23 kB)\n",
      "Requirement already satisfied: importlib-metadata>=4.4 in c:\\users\\rahul\\anaconda3\\lib\\site-packages (from markdown>=2.6.8->tensorboard<2.11,>=2.10->tensorflow) (4.8.1)\n",
      "Requirement already satisfied: zipp>=0.5 in c:\\users\\rahul\\anaconda3\\lib\\site-packages (from importlib-metadata>=4.4->markdown>=2.6.8->tensorboard<2.11,>=2.10->tensorflow) (3.6.0)\n",
      "Collecting pyasn1<0.5.0,>=0.4.6\n",
      "  Downloading pyasn1-0.4.8-py2.py3-none-any.whl (77 kB)\n",
      "Requirement already satisfied: charset-normalizer~=2.0.0 in c:\\users\\rahul\\anaconda3\\lib\\site-packages (from requests<3,>=2.21.0->tensorboard<2.11,>=2.10->tensorflow) (2.0.4)\n",
      "Requirement already satisfied: idna<4,>=2.5 in c:\\users\\rahul\\anaconda3\\lib\\site-packages (from requests<3,>=2.21.0->tensorboard<2.11,>=2.10->tensorflow) (3.2)\n",
      "Requirement already satisfied: certifi>=2017.4.17 in c:\\users\\rahul\\anaconda3\\lib\\site-packages (from requests<3,>=2.21.0->tensorboard<2.11,>=2.10->tensorflow) (2021.10.8)\n",
      "Requirement already satisfied: urllib3<1.27,>=1.21.1 in c:\\users\\rahul\\anaconda3\\lib\\site-packages (from requests<3,>=2.21.0->tensorboard<2.11,>=2.10->tensorflow) (1.26.7)\n",
      "Collecting oauthlib>=3.0.0\n",
      "  Downloading oauthlib-3.2.2-py3-none-any.whl (151 kB)\n",
      "Requirement already satisfied: pyparsing>=2.0.2 in c:\\users\\rahul\\anaconda3\\lib\\site-packages (from packaging->tensorflow) (3.0.4)\n",
      "Installing collected packages: pyasn1, rsa, pyasn1-modules, oauthlib, cachetools, requests-oauthlib, google-auth, tensorboard-plugin-wit, tensorboard-data-server, protobuf, markdown, grpcio, google-auth-oauthlib, absl-py, termcolor, tensorflow-io-gcs-filesystem, tensorflow-estimator, tensorboard, opt-einsum, libclang, keras-preprocessing, keras, google-pasta, gast, flatbuffers, astunparse, tensorflow\n",
      "Successfully installed absl-py-1.3.0 astunparse-1.6.3 cachetools-5.2.0 flatbuffers-22.10.26 gast-0.4.0 google-auth-2.14.1 google-auth-oauthlib-0.4.6 google-pasta-0.2.0 grpcio-1.50.0 keras-2.10.0 keras-preprocessing-1.1.2 libclang-14.0.6 markdown-3.4.1 oauthlib-3.2.2 opt-einsum-3.3.0 protobuf-3.19.6 pyasn1-0.4.8 pyasn1-modules-0.2.8 requests-oauthlib-1.3.1 rsa-4.9 tensorboard-2.10.1 tensorboard-data-server-0.6.1 tensorboard-plugin-wit-1.8.1 tensorflow-2.10.0 tensorflow-estimator-2.10.0 tensorflow-io-gcs-filesystem-0.27.0 termcolor-2.1.0\n"
     ]
    }
   ],
   "source": [
    "from tqdm import tqdm\n",
    "import pandas as pd\n",
    "import numpy as np\n",
    "import matplotlib.pyplot as plt\n",
    "%matplotlib inline\n",
    "plt.style.use(\"fivethirtyeight\")\n",
    "import seaborn as sns\n",
    "sns.set_style(\"darkgrid\")\n",
    "from wordcloud import WordCloud\n",
    "from sklearn.model_selection import train_test_split\n",
    "import re, string, nltk\n",
    "import emoji, bz2\n",
    "from nltk.stem.snowball import SnowballStemmer\n",
    "from nltk.corpus import stopwords\n",
    "from nltk.stem.wordnet import WordNetLemmatizer\n",
    "from nltk import word_tokenize\n",
    "from sklearn.ensemble import RandomForestClassifier, AdaBoostClassifier, GradientBoostingClassifier\n",
    "from sklearn.tree import DecisionTreeClassifier\n",
    "from tensorflow import keras\n",
    "from keras.models import Sequential\n",
    "from keras.layers import Dense, LSTM, Bidirectional, Dropout\n",
    "from tensorflow.keras.layers import Embedding\n",
    "#from tensorflow.keras.preprocessing.sequence import pad_sequences   -------------------------> this ibrary is not working\n",
    "from sklearn.metrics import accuracy_score,confusion_matrix, classification_report\n",
    "import warnings\n",
    "warnings.filterwarnings(\"ignore\")"
   ]
  },
  {
   "cell_type": "markdown",
   "metadata": {
    "id": "p9mH3iItVj1N"
   },
   "source": [
    "#Importing datasets"
   ]
  },
  {
   "cell_type": "code",
   "execution_count": 107,
   "metadata": {
    "colab": {
     "base_uri": "https://localhost:8080/",
     "height": 206
    },
    "executionInfo": {
     "elapsed": 36476,
     "status": "ok",
     "timestamp": 1668294141330,
     "user": {
      "displayName": "BHAVYA ANTIYA",
      "userId": "05493129355923018689"
     },
     "user_tz": 300
    },
    "id": "_uiW7uQgVVRu",
    "outputId": "d7e0a45c-4aa8-4079-fea4-7912441bdf26"
   },
   "outputs": [
    {
     "data": {
      "text/html": [
       "<div>\n",
       "<style scoped>\n",
       "    .dataframe tbody tr th:only-of-type {\n",
       "        vertical-align: middle;\n",
       "    }\n",
       "\n",
       "    .dataframe tbody tr th {\n",
       "        vertical-align: top;\n",
       "    }\n",
       "\n",
       "    .dataframe thead th {\n",
       "        text-align: right;\n",
       "    }\n",
       "</style>\n",
       "<table border=\"1\" class=\"dataframe\">\n",
       "  <thead>\n",
       "    <tr style=\"text-align: right;\">\n",
       "      <th></th>\n",
       "      <th>0</th>\n",
       "      <th>1</th>\n",
       "      <th>2</th>\n",
       "      <th>3</th>\n",
       "      <th>4</th>\n",
       "      <th>5</th>\n",
       "    </tr>\n",
       "  </thead>\n",
       "  <tbody>\n",
       "    <tr>\n",
       "      <th>0</th>\n",
       "      <td>3799</td>\n",
       "      <td>48751</td>\n",
       "      <td>London</td>\n",
       "      <td>16-03-2020</td>\n",
       "      <td>@MeNyrbie @Phil_Gahan @Chrisitv https://t.co/i...</td>\n",
       "      <td>0</td>\n",
       "    </tr>\n",
       "    <tr>\n",
       "      <th>1</th>\n",
       "      <td>3800</td>\n",
       "      <td>48752</td>\n",
       "      <td>UK</td>\n",
       "      <td>16-03-2020</td>\n",
       "      <td>advice Talk to your neighbours family to excha...</td>\n",
       "      <td>1</td>\n",
       "    </tr>\n",
       "    <tr>\n",
       "      <th>2</th>\n",
       "      <td>3801</td>\n",
       "      <td>48753</td>\n",
       "      <td>Vagabonds</td>\n",
       "      <td>16-03-2020</td>\n",
       "      <td>Coronavirus Australia: Woolworths to give elde...</td>\n",
       "      <td>1</td>\n",
       "    </tr>\n",
       "    <tr>\n",
       "      <th>3</th>\n",
       "      <td>3802</td>\n",
       "      <td>48754</td>\n",
       "      <td>NaN</td>\n",
       "      <td>16-03-2020</td>\n",
       "      <td>My food stock is not the only one which is emp...</td>\n",
       "      <td>1</td>\n",
       "    </tr>\n",
       "    <tr>\n",
       "      <th>4</th>\n",
       "      <td>3803</td>\n",
       "      <td>48755</td>\n",
       "      <td>NaN</td>\n",
       "      <td>16-03-2020</td>\n",
       "      <td>Me, ready to go at supermarket during the #COV...</td>\n",
       "      <td>0</td>\n",
       "    </tr>\n",
       "  </tbody>\n",
       "</table>\n",
       "</div>"
      ],
      "text/plain": [
       "      0      1          2           3  \\\n",
       "0  3799  48751     London  16-03-2020   \n",
       "1  3800  48752         UK  16-03-2020   \n",
       "2  3801  48753  Vagabonds  16-03-2020   \n",
       "3  3802  48754        NaN  16-03-2020   \n",
       "4  3803  48755        NaN  16-03-2020   \n",
       "\n",
       "                                                   4  5  \n",
       "0  @MeNyrbie @Phil_Gahan @Chrisitv https://t.co/i...  0  \n",
       "1  advice Talk to your neighbours family to excha...  1  \n",
       "2  Coronavirus Australia: Woolworths to give elde...  1  \n",
       "3  My food stock is not the only one which is emp...  1  \n",
       "4  Me, ready to go at supermarket during the #COV...  0  "
      ]
     },
     "execution_count": 107,
     "metadata": {},
     "output_type": "execute_result"
    }
   ],
   "source": [
    "df = pd.read_csv('Twitter_Corona_NLP_train.csv',sep=\",\", encoding='latin-1')\n",
    "df.columns=[0,1,2,3,4,5]\n",
    "df[5]=df[5].apply(lambda x: +1 if x==\"Positive\" else 0)\n",
    "df.head()"
   ]
  },
  {
   "cell_type": "code",
   "execution_count": 108,
   "metadata": {},
   "outputs": [
    {
     "data": {
      "text/html": [
       "<div>\n",
       "<style scoped>\n",
       "    .dataframe tbody tr th:only-of-type {\n",
       "        vertical-align: middle;\n",
       "    }\n",
       "\n",
       "    .dataframe tbody tr th {\n",
       "        vertical-align: top;\n",
       "    }\n",
       "\n",
       "    .dataframe thead th {\n",
       "        text-align: right;\n",
       "    }\n",
       "</style>\n",
       "<table border=\"1\" class=\"dataframe\">\n",
       "  <thead>\n",
       "    <tr style=\"text-align: right;\">\n",
       "      <th></th>\n",
       "      <th>0</th>\n",
       "      <th>1</th>\n",
       "      <th>2</th>\n",
       "      <th>3</th>\n",
       "      <th>4</th>\n",
       "      <th>5</th>\n",
       "    </tr>\n",
       "  </thead>\n",
       "  <tbody>\n",
       "    <tr>\n",
       "      <th>0</th>\n",
       "      <td>1</td>\n",
       "      <td>44953</td>\n",
       "      <td>NYC</td>\n",
       "      <td>02-03-2020</td>\n",
       "      <td>TRENDING: New Yorkers encounter empty supermar...</td>\n",
       "      <td>0</td>\n",
       "    </tr>\n",
       "    <tr>\n",
       "      <th>1</th>\n",
       "      <td>2</td>\n",
       "      <td>44954</td>\n",
       "      <td>Seattle, WA</td>\n",
       "      <td>02-03-2020</td>\n",
       "      <td>When I couldn't find hand sanitizer at Fred Me...</td>\n",
       "      <td>1</td>\n",
       "    </tr>\n",
       "    <tr>\n",
       "      <th>2</th>\n",
       "      <td>3</td>\n",
       "      <td>44955</td>\n",
       "      <td>NaN</td>\n",
       "      <td>02-03-2020</td>\n",
       "      <td>Find out how you can protect yourself and love...</td>\n",
       "      <td>0</td>\n",
       "    </tr>\n",
       "    <tr>\n",
       "      <th>3</th>\n",
       "      <td>4</td>\n",
       "      <td>44956</td>\n",
       "      <td>Chicagoland</td>\n",
       "      <td>02-03-2020</td>\n",
       "      <td>#Panic buying hits #NewYork City as anxious sh...</td>\n",
       "      <td>0</td>\n",
       "    </tr>\n",
       "    <tr>\n",
       "      <th>4</th>\n",
       "      <td>5</td>\n",
       "      <td>44957</td>\n",
       "      <td>Melbourne, Victoria</td>\n",
       "      <td>03-03-2020</td>\n",
       "      <td>#toiletpaper #dunnypaper #coronavirus #coronav...</td>\n",
       "      <td>0</td>\n",
       "    </tr>\n",
       "  </tbody>\n",
       "</table>\n",
       "</div>"
      ],
      "text/plain": [
       "   0      1                    2           3  \\\n",
       "0  1  44953                  NYC  02-03-2020   \n",
       "1  2  44954          Seattle, WA  02-03-2020   \n",
       "2  3  44955                  NaN  02-03-2020   \n",
       "3  4  44956          Chicagoland  02-03-2020   \n",
       "4  5  44957  Melbourne, Victoria  03-03-2020   \n",
       "\n",
       "                                                   4  5  \n",
       "0  TRENDING: New Yorkers encounter empty supermar...  0  \n",
       "1  When I couldn't find hand sanitizer at Fred Me...  1  \n",
       "2  Find out how you can protect yourself and love...  0  \n",
       "3  #Panic buying hits #NewYork City as anxious sh...  0  \n",
       "4  #toiletpaper #dunnypaper #coronavirus #coronav...  0  "
      ]
     },
     "execution_count": 108,
     "metadata": {},
     "output_type": "execute_result"
    }
   ],
   "source": [
    "df1 = pd.read_csv('Twitter_Corona_NLP_test.csv',sep=\",\",encoding='latin-1')\n",
    "df1.columns=[0,1,2,3,4,5]\n",
    "df1[5]=df1[5].apply(lambda x: +1 if x==\"Positive\" else 0)\n",
    "df1.head()"
   ]
  },
  {
   "cell_type": "code",
   "execution_count": 109,
   "metadata": {
    "colab": {
     "base_uri": "https://localhost:8080/"
    },
    "executionInfo": {
     "elapsed": 22,
     "status": "ok",
     "timestamp": 1668294141332,
     "user": {
      "displayName": "BHAVYA ANTIYA",
      "userId": "05493129355923018689"
     },
     "user_tz": 300
    },
    "id": "AVFh3xjXXf2n",
    "outputId": "f2f98899-aef6-4988-e631-dd1598529702"
   },
   "outputs": [
    {
     "data": {
      "text/plain": [
       "(41157, 6)"
      ]
     },
     "execution_count": 109,
     "metadata": {},
     "output_type": "execute_result"
    }
   ],
   "source": [
    "df.shape"
   ]
  },
  {
   "cell_type": "code",
   "execution_count": 110,
   "metadata": {
    "colab": {
     "base_uri": "https://localhost:8080/"
    },
    "executionInfo": {
     "elapsed": 15,
     "status": "ok",
     "timestamp": 1668294141332,
     "user": {
      "displayName": "BHAVYA ANTIYA",
      "userId": "05493129355923018689"
     },
     "user_tz": 300
    },
    "id": "n1z5R9E2aEEl",
    "outputId": "db8c52f0-0306-4717-92c6-da676c0ee768"
   },
   "outputs": [
    {
     "data": {
      "text/plain": [
       "(3798, 6)"
      ]
     },
     "execution_count": 110,
     "metadata": {},
     "output_type": "execute_result"
    }
   ],
   "source": [
    "df1.shape"
   ]
  },
  {
   "cell_type": "code",
   "execution_count": 111,
   "metadata": {
    "colab": {
     "base_uri": "https://localhost:8080/"
    },
    "executionInfo": {
     "elapsed": 14,
     "status": "ok",
     "timestamp": 1668294141333,
     "user": {
      "displayName": "BHAVYA ANTIYA",
      "userId": "05493129355923018689"
     },
     "user_tz": 300
    },
    "id": "MG3ezAKcc6Vo",
    "outputId": "edf65100-f80d-440f-e23b-621c6ad3ade8"
   },
   "outputs": [
    {
     "name": "stdout",
     "output_type": "stream",
     "text": [
      "Trainning Data consists of 41157 rows and 6 columns.\n",
      "\n",
      "\n",
      "Testing Data consists of 3798 rows and 6 columns.\n"
     ]
    }
   ],
   "source": [
    "print(f\"Trainning Data consists of {df.shape[0]} rows and {df.shape[1]} columns.\")\n",
    "print(\"\\n\")\n",
    "print(f\"Testing Data consists of {df1.shape[0]} rows and {df1.shape[1]} columns.\")"
   ]
  },
  {
   "cell_type": "code",
   "execution_count": 112,
   "metadata": {
    "colab": {
     "base_uri": "https://localhost:8080/",
     "height": 343
    },
    "executionInfo": {
     "elapsed": 11,
     "status": "ok",
     "timestamp": 1668294142044,
     "user": {
      "displayName": "BHAVYA ANTIYA",
      "userId": "05493129355923018689"
     },
     "user_tz": 300
    },
    "id": "RCx1XgkNbqm2",
    "outputId": "3caae90e-a501-4e35-f02e-159a2543352d"
   },
   "outputs": [
    {
     "data": {
      "text/plain": [
       "Text(0.5, 1.0, 'Countplot for Sentiment Labels')"
      ]
     },
     "execution_count": 112,
     "metadata": {},
     "output_type": "execute_result"
    },
    {
     "data": {
      "image/png": "[encoded data removed]",
      "text/plain": [
       "<Figure size 864x432 with 1 Axes>"
      ]
     },
     "metadata": {},
     "output_type": "display_data"
    }
   ],
   "source": [
    "#sns.countplot(df[5],palette=\"mako\")\n",
    "f = plt.figure()\n",
    "f.set_figwidth(12)\n",
    "f.set_figheight(6)\n",
    "sns.countplot(df[5],palette=\"mako\")\n",
    "plt.title(\"Countplot for Sentiment Labels\")"
   ]
  },
  {
   "cell_type": "code",
   "execution_count": 113,
   "metadata": {},
   "outputs": [
    {
     "name": "stdout",
     "output_type": "stream",
     "text": [
      "menyrbie philgahan chrisitv httpstcoifzfanpa and httpstcoxxghgfzcc and httpstcoinlzdxno\n",
      "\n",
      "trending new yorkers encounter empty supermarket shelves pictured wegmans in brooklyn soldout online grocers foodkick maxdelivery as coronavirusfearing shoppers stock up httpstcogrpcrlwh httpstcoivmkmsqdt\n"
     ]
    }
   ],
   "source": [
    "#using regex on both trainig and test data to remove numeric as well as any special character after converting it to lowercase\n",
    "df[4]=df[4].str.lower()\n",
    "df1[4]=df1[4].str.lower()\n",
    "df[4] = [re.sub(\"[^a-z ]\",\"\", str(x)) for x in df[4]]\n",
    "df1[4] = [re.sub(\"[^a-z ]\",\"\", str(x)) for x in df1[4]]\n",
    "print(df[4][0])\n",
    "print()\n",
    "print(df1[4][0])"
   ]
  },
  {
   "cell_type": "code",
   "execution_count": 114,
   "metadata": {},
   "outputs": [
    {
     "name": "stdout",
     "output_type": "stream",
     "text": [
      "['menyrbi', 'philgahan', 'chrisitv', 'httpstcoifzfanpa', 'httpstcoxxghgfzcc', 'httpstcoinlzdxno']\n"
     ]
    }
   ],
   "source": [
    "#performing stemming and removing stopwords from training data\n",
    "stemmer=SnowballStemmer(\"english\")\n",
    "stopWords = set(stopwords.words('english'))\n",
    "df[4] = df[4].apply(lambda x: ' '.join([stemmer.stem(word) for word in x.split() if word not in (stopWords)]))\n",
    "df[4] = [word_tokenize(str(x)) for x in df[4]]\n",
    "print(df[4][0])\n"
   ]
  },
  {
   "cell_type": "code",
   "execution_count": 115,
   "metadata": {},
   "outputs": [
    {
     "name": "stdout",
     "output_type": "stream",
     "text": [
      "['trend', 'new', 'yorker', 'encount', 'empti', 'supermarket', 'shelv', 'pictur', 'wegman', 'brooklyn', 'soldout', 'onlin', 'grocer', 'foodkick', 'maxdeliveri', 'coronavirusfear', 'shopper', 'stock', 'httpstcogrpcrlwh', 'httpstcoivmkmsqdt']\n"
     ]
    }
   ],
   "source": [
    "#performing stemming and removing stopwords from test data\n",
    "df1[4] = df1[4].apply(lambda x: ' '.join([stemmer.stem(word) for word in x.split() if word not in (stopWords)]))\n",
    "df1[4] = [word_tokenize(str(x)) for x in df1[4]]\n",
    "print(df1[4][0])"
   ]
  },
  {
   "cell_type": "code",
   "execution_count": 116,
   "metadata": {},
   "outputs": [],
   "source": [
    "\n",
    "df1[4]=[' '.join(map(str, l)) for l in df1[4]]"
   ]
  },
  {
   "cell_type": "code",
   "execution_count": 117,
   "metadata": {},
   "outputs": [
    {
     "data": {
      "text/html": [
       "<div>\n",
       "<style scoped>\n",
       "    .dataframe tbody tr th:only-of-type {\n",
       "        vertical-align: middle;\n",
       "    }\n",
       "\n",
       "    .dataframe tbody tr th {\n",
       "        vertical-align: top;\n",
       "    }\n",
       "\n",
       "    .dataframe thead th {\n",
       "        text-align: right;\n",
       "    }\n",
       "</style>\n",
       "<table border=\"1\" class=\"dataframe\">\n",
       "  <thead>\n",
       "    <tr style=\"text-align: right;\">\n",
       "      <th></th>\n",
       "      <th>0</th>\n",
       "      <th>1</th>\n",
       "      <th>2</th>\n",
       "      <th>3</th>\n",
       "      <th>4</th>\n",
       "      <th>5</th>\n",
       "    </tr>\n",
       "  </thead>\n",
       "  <tbody>\n",
       "    <tr>\n",
       "      <th>0</th>\n",
       "      <td>1</td>\n",
       "      <td>44953</td>\n",
       "      <td>NYC</td>\n",
       "      <td>02-03-2020</td>\n",
       "      <td>trend new yorker encount empti supermarket she...</td>\n",
       "      <td>0</td>\n",
       "    </tr>\n",
       "    <tr>\n",
       "      <th>1</th>\n",
       "      <td>2</td>\n",
       "      <td>44954</td>\n",
       "      <td>Seattle, WA</td>\n",
       "      <td>02-03-2020</td>\n",
       "      <td>couldnt find hand sanit fred meyer turn amazon...</td>\n",
       "      <td>1</td>\n",
       "    </tr>\n",
       "    <tr>\n",
       "      <th>2</th>\n",
       "      <td>3</td>\n",
       "      <td>44955</td>\n",
       "      <td>NaN</td>\n",
       "      <td>02-03-2020</td>\n",
       "      <td>find protect love one coronavirus</td>\n",
       "      <td>0</td>\n",
       "    </tr>\n",
       "    <tr>\n",
       "      <th>3</th>\n",
       "      <td>4</td>\n",
       "      <td>44956</td>\n",
       "      <td>Chicagoland</td>\n",
       "      <td>02-03-2020</td>\n",
       "      <td>panic buy hit newyork citi anxious shopper sto...</td>\n",
       "      <td>0</td>\n",
       "    </tr>\n",
       "    <tr>\n",
       "      <th>4</th>\n",
       "      <td>5</td>\n",
       "      <td>44957</td>\n",
       "      <td>Melbourne, Victoria</td>\n",
       "      <td>03-03-2020</td>\n",
       "      <td>toiletpap dunnypap coronavirus coronavirusaust...</td>\n",
       "      <td>0</td>\n",
       "    </tr>\n",
       "  </tbody>\n",
       "</table>\n",
       "</div>"
      ],
      "text/plain": [
       "   0      1                    2           3  \\\n",
       "0  1  44953                  NYC  02-03-2020   \n",
       "1  2  44954          Seattle, WA  02-03-2020   \n",
       "2  3  44955                  NaN  02-03-2020   \n",
       "3  4  44956          Chicagoland  02-03-2020   \n",
       "4  5  44957  Melbourne, Victoria  03-03-2020   \n",
       "\n",
       "                                                   4  5  \n",
       "0  trend new yorker encount empti supermarket she...  0  \n",
       "1  couldnt find hand sanit fred meyer turn amazon...  1  \n",
       "2                  find protect love one coronavirus  0  \n",
       "3  panic buy hit newyork citi anxious shopper sto...  0  \n",
       "4  toiletpap dunnypap coronavirus coronavirusaust...  0  "
      ]
     },
     "execution_count": 117,
     "metadata": {},
     "output_type": "execute_result"
    }
   ],
   "source": [
    "df1.head()"
   ]
  },
  {
   "cell_type": "code",
   "execution_count": 118,
   "metadata": {},
   "outputs": [
    {
     "data": {
      "text/html": [
       "<div>\n",
       "<style scoped>\n",
       "    .dataframe tbody tr th:only-of-type {\n",
       "        vertical-align: middle;\n",
       "    }\n",
       "\n",
       "    .dataframe tbody tr th {\n",
       "        vertical-align: top;\n",
       "    }\n",
       "\n",
       "    .dataframe thead th {\n",
       "        text-align: right;\n",
       "    }\n",
       "</style>\n",
       "<table border=\"1\" class=\"dataframe\">\n",
       "  <thead>\n",
       "    <tr style=\"text-align: right;\">\n",
       "      <th></th>\n",
       "      <th>0</th>\n",
       "      <th>1</th>\n",
       "      <th>2</th>\n",
       "      <th>3</th>\n",
       "      <th>4</th>\n",
       "      <th>5</th>\n",
       "    </tr>\n",
       "  </thead>\n",
       "  <tbody>\n",
       "    <tr>\n",
       "      <th>0</th>\n",
       "      <td>3799</td>\n",
       "      <td>48751</td>\n",
       "      <td>London</td>\n",
       "      <td>16-03-2020</td>\n",
       "      <td>menyrbi philgahan chrisitv httpstcoifzfanpa ht...</td>\n",
       "      <td>0</td>\n",
       "    </tr>\n",
       "    <tr>\n",
       "      <th>1</th>\n",
       "      <td>3800</td>\n",
       "      <td>48752</td>\n",
       "      <td>UK</td>\n",
       "      <td>16-03-2020</td>\n",
       "      <td>advic talk neighbour famili exchang phone numb...</td>\n",
       "      <td>1</td>\n",
       "    </tr>\n",
       "    <tr>\n",
       "      <th>2</th>\n",
       "      <td>3801</td>\n",
       "      <td>48753</td>\n",
       "      <td>Vagabonds</td>\n",
       "      <td>16-03-2020</td>\n",
       "      <td>coronavirus australia woolworth give elder dis...</td>\n",
       "      <td>1</td>\n",
       "    </tr>\n",
       "    <tr>\n",
       "      <th>3</th>\n",
       "      <td>3802</td>\n",
       "      <td>48754</td>\n",
       "      <td>NaN</td>\n",
       "      <td>16-03-2020</td>\n",
       "      <td>food stock one emptypleas dont panic enough fo...</td>\n",
       "      <td>1</td>\n",
       "    </tr>\n",
       "    <tr>\n",
       "      <th>4</th>\n",
       "      <td>3803</td>\n",
       "      <td>48755</td>\n",
       "      <td>NaN</td>\n",
       "      <td>16-03-2020</td>\n",
       "      <td>readi go supermarket covid outbreaknot im para...</td>\n",
       "      <td>0</td>\n",
       "    </tr>\n",
       "  </tbody>\n",
       "</table>\n",
       "</div>"
      ],
      "text/plain": [
       "      0      1          2           3  \\\n",
       "0  3799  48751     London  16-03-2020   \n",
       "1  3800  48752         UK  16-03-2020   \n",
       "2  3801  48753  Vagabonds  16-03-2020   \n",
       "3  3802  48754        NaN  16-03-2020   \n",
       "4  3803  48755        NaN  16-03-2020   \n",
       "\n",
       "                                                   4  5  \n",
       "0  menyrbi philgahan chrisitv httpstcoifzfanpa ht...  0  \n",
       "1  advic talk neighbour famili exchang phone numb...  1  \n",
       "2  coronavirus australia woolworth give elder dis...  1  \n",
       "3  food stock one emptypleas dont panic enough fo...  1  \n",
       "4  readi go supermarket covid outbreaknot im para...  0  "
      ]
     },
     "execution_count": 118,
     "metadata": {},
     "output_type": "execute_result"
    }
   ],
   "source": [
    "df[4]=[' '.join(map(str, l)) for l in df[4]]\n",
    "df.head()"
   ]
  },
  {
   "cell_type": "code",
   "execution_count": 119,
   "metadata": {
    "colab": {
     "base_uri": "https://localhost:8080/",
     "height": 424
    },
    "executionInfo": {
     "elapsed": 414,
     "status": "ok",
     "timestamp": 1668295015621,
     "user": {
      "displayName": "BHAVYA ANTIYA",
      "userId": "05493129355923018689"
     },
     "user_tz": 300
    },
    "id": "vhRIus0Qbq7q",
    "outputId": "32a777c7-c0e9-4efa-c25f-4ee00057983b"
   },
   "outputs": [
    {
     "data": {
      "text/html": [
       "<div>\n",
       "<style scoped>\n",
       "    .dataframe tbody tr th:only-of-type {\n",
       "        vertical-align: middle;\n",
       "    }\n",
       "\n",
       "    .dataframe tbody tr th {\n",
       "        vertical-align: top;\n",
       "    }\n",
       "\n",
       "    .dataframe thead th {\n",
       "        text-align: right;\n",
       "    }\n",
       "</style>\n",
       "<table border=\"1\" class=\"dataframe\">\n",
       "  <thead>\n",
       "    <tr style=\"text-align: right;\">\n",
       "      <th></th>\n",
       "      <th>4</th>\n",
       "      <th>5</th>\n",
       "    </tr>\n",
       "  </thead>\n",
       "  <tbody>\n",
       "    <tr>\n",
       "      <th>0</th>\n",
       "      <td>menyrbi philgahan chrisitv httpstcoifzfanpa ht...</td>\n",
       "      <td>0</td>\n",
       "    </tr>\n",
       "    <tr>\n",
       "      <th>1</th>\n",
       "      <td>advic talk neighbour famili exchang phone numb...</td>\n",
       "      <td>1</td>\n",
       "    </tr>\n",
       "    <tr>\n",
       "      <th>2</th>\n",
       "      <td>coronavirus australia woolworth give elder dis...</td>\n",
       "      <td>1</td>\n",
       "    </tr>\n",
       "    <tr>\n",
       "      <th>3</th>\n",
       "      <td>food stock one emptypleas dont panic enough fo...</td>\n",
       "      <td>1</td>\n",
       "    </tr>\n",
       "    <tr>\n",
       "      <th>4</th>\n",
       "      <td>readi go supermarket covid outbreaknot im para...</td>\n",
       "      <td>0</td>\n",
       "    </tr>\n",
       "    <tr>\n",
       "      <th>...</th>\n",
       "      <td>...</td>\n",
       "      <td>...</td>\n",
       "    </tr>\n",
       "    <tr>\n",
       "      <th>41152</th>\n",
       "      <td>airlin pilot offer stock supermarket shelv nz ...</td>\n",
       "      <td>0</td>\n",
       "    </tr>\n",
       "    <tr>\n",
       "      <th>41153</th>\n",
       "      <td>respons complaint provid cite covid relat dela...</td>\n",
       "      <td>0</td>\n",
       "    </tr>\n",
       "    <tr>\n",
       "      <th>41154</th>\n",
       "      <td>know get tough kameronwild ration toilet paper...</td>\n",
       "      <td>1</td>\n",
       "    </tr>\n",
       "    <tr>\n",
       "      <th>41155</th>\n",
       "      <td>wrong smell hand sanit start turn oncoronaviru...</td>\n",
       "      <td>0</td>\n",
       "    </tr>\n",
       "    <tr>\n",
       "      <th>41156</th>\n",
       "      <td>tartiicat well newus rift go amazon rn althoug...</td>\n",
       "      <td>0</td>\n",
       "    </tr>\n",
       "  </tbody>\n",
       "</table>\n",
       "<p>41157 rows × 2 columns</p>\n",
       "</div>"
      ],
      "text/plain": [
       "                                                       4  5\n",
       "0      menyrbi philgahan chrisitv httpstcoifzfanpa ht...  0\n",
       "1      advic talk neighbour famili exchang phone numb...  1\n",
       "2      coronavirus australia woolworth give elder dis...  1\n",
       "3      food stock one emptypleas dont panic enough fo...  1\n",
       "4      readi go supermarket covid outbreaknot im para...  0\n",
       "...                                                  ... ..\n",
       "41152  airlin pilot offer stock supermarket shelv nz ...  0\n",
       "41153  respons complaint provid cite covid relat dela...  0\n",
       "41154  know get tough kameronwild ration toilet paper...  1\n",
       "41155  wrong smell hand sanit start turn oncoronaviru...  0\n",
       "41156  tartiicat well newus rift go amazon rn althoug...  0\n",
       "\n",
       "[41157 rows x 2 columns]"
      ]
     },
     "execution_count": 119,
     "metadata": {},
     "output_type": "execute_result"
    }
   ],
   "source": [
    "new_df = df[[4,5]]\n",
    "new_df"
   ]
  },
  {
   "cell_type": "code",
   "execution_count": 120,
   "metadata": {
    "colab": {
     "base_uri": "https://localhost:8080/"
    },
    "executionInfo": {
     "elapsed": 12,
     "status": "ok",
     "timestamp": 1668295015621,
     "user": {
      "displayName": "BHAVYA ANTIYA",
      "userId": "05493129355923018689"
     },
     "user_tz": 300
    },
    "id": "SID3gd0Sbq9b",
    "outputId": "c7c56dd2-82fa-4070-aad7-a9917d6ba5bc"
   },
   "outputs": [
    {
     "data": {
      "text/html": [
       "<div>\n",
       "<style scoped>\n",
       "    .dataframe tbody tr th:only-of-type {\n",
       "        vertical-align: middle;\n",
       "    }\n",
       "\n",
       "    .dataframe tbody tr th {\n",
       "        vertical-align: top;\n",
       "    }\n",
       "\n",
       "    .dataframe thead th {\n",
       "        text-align: right;\n",
       "    }\n",
       "</style>\n",
       "<table border=\"1\" class=\"dataframe\">\n",
       "  <thead>\n",
       "    <tr style=\"text-align: right;\">\n",
       "      <th></th>\n",
       "      <th>4</th>\n",
       "      <th>5</th>\n",
       "    </tr>\n",
       "  </thead>\n",
       "  <tbody>\n",
       "    <tr>\n",
       "      <th>0</th>\n",
       "      <td>trend new yorker encount empti supermarket she...</td>\n",
       "      <td>0</td>\n",
       "    </tr>\n",
       "    <tr>\n",
       "      <th>1</th>\n",
       "      <td>couldnt find hand sanit fred meyer turn amazon...</td>\n",
       "      <td>1</td>\n",
       "    </tr>\n",
       "    <tr>\n",
       "      <th>2</th>\n",
       "      <td>find protect love one coronavirus</td>\n",
       "      <td>0</td>\n",
       "    </tr>\n",
       "    <tr>\n",
       "      <th>3</th>\n",
       "      <td>panic buy hit newyork citi anxious shopper sto...</td>\n",
       "      <td>0</td>\n",
       "    </tr>\n",
       "    <tr>\n",
       "      <th>4</th>\n",
       "      <td>toiletpap dunnypap coronavirus coronavirusaust...</td>\n",
       "      <td>0</td>\n",
       "    </tr>\n",
       "    <tr>\n",
       "      <th>...</th>\n",
       "      <td>...</td>\n",
       "      <td>...</td>\n",
       "    </tr>\n",
       "    <tr>\n",
       "      <th>3793</th>\n",
       "      <td>meanwhil supermarket israel peopl danc sing to...</td>\n",
       "      <td>1</td>\n",
       "    </tr>\n",
       "    <tr>\n",
       "      <th>3794</th>\n",
       "      <td>panic buy lot nonperish item echo need food do...</td>\n",
       "      <td>0</td>\n",
       "    </tr>\n",
       "    <tr>\n",
       "      <th>3795</th>\n",
       "      <td>asst prof econom cconc nbcphiladelphia talk re...</td>\n",
       "      <td>0</td>\n",
       "    </tr>\n",
       "    <tr>\n",
       "      <th>3796</th>\n",
       "      <td>gov need someth instead biar je rakyat assum l...</td>\n",
       "      <td>0</td>\n",
       "    </tr>\n",
       "    <tr>\n",
       "      <th>3797</th>\n",
       "      <td>forestandpap member commit safeti employe endu...</td>\n",
       "      <td>0</td>\n",
       "    </tr>\n",
       "  </tbody>\n",
       "</table>\n",
       "<p>3798 rows × 2 columns</p>\n",
       "</div>"
      ],
      "text/plain": [
       "                                                      4  5\n",
       "0     trend new yorker encount empti supermarket she...  0\n",
       "1     couldnt find hand sanit fred meyer turn amazon...  1\n",
       "2                     find protect love one coronavirus  0\n",
       "3     panic buy hit newyork citi anxious shopper sto...  0\n",
       "4     toiletpap dunnypap coronavirus coronavirusaust...  0\n",
       "...                                                 ... ..\n",
       "3793  meanwhil supermarket israel peopl danc sing to...  1\n",
       "3794  panic buy lot nonperish item echo need food do...  0\n",
       "3795  asst prof econom cconc nbcphiladelphia talk re...  0\n",
       "3796  gov need someth instead biar je rakyat assum l...  0\n",
       "3797  forestandpap member commit safeti employe endu...  0\n",
       "\n",
       "[3798 rows x 2 columns]"
      ]
     },
     "execution_count": 120,
     "metadata": {},
     "output_type": "execute_result"
    }
   ],
   "source": [
    "new_testdf1=df1[[4,5]]\n",
    "new_testdf1"
   ]
  },
  {
   "cell_type": "code",
   "execution_count": 121,
   "metadata": {
    "colab": {
     "base_uri": "https://localhost:8080/"
    },
    "executionInfo": {
     "elapsed": 9,
     "status": "ok",
     "timestamp": 1668295015622,
     "user": {
      "displayName": "BHAVYA ANTIYA",
      "userId": "05493129355923018689"
     },
     "user_tz": 300
    },
    "id": "7D2bYg5Gbq-g",
    "outputId": "73891aa0-c372-4dd6-ef22-e3d7011f256a"
   },
   "outputs": [
    {
     "name": "stdout",
     "output_type": "stream",
     "text": [
      "(30867,)\n",
      "(10290,)\n"
     ]
    }
   ],
   "source": [
    "X_train, X_test, y_train, y_test = train_test_split(np.array(df[4]),np.array(df[5]), test_size=0.25,random_state=42)\n",
    "print(X_train.shape)\n",
    "print(X_test.shape)"
   ]
  },
  {
   "cell_type": "code",
   "execution_count": 122,
   "metadata": {
    "executionInfo": {
     "elapsed": 20593,
     "status": "ok",
     "timestamp": 1668295036207,
     "user": {
      "displayName": "BHAVYA ANTIYA",
      "userId": "05493129355923018689"
     },
     "user_tz": 300
    },
    "id": "6muN_T7WbrAC"
   },
   "outputs": [],
   "source": [
    "from sklearn.feature_extraction.text import TfidfVectorizer\n",
    "tfidf2 = TfidfVectorizer(use_idf=True, tokenizer=word_tokenize)\n",
    "X_train_tf2 = tfidf2.fit_transform(X_train)\n",
    "X_test_tf2 = tfidf2.transform(X_test)"
   ]
  },
  {
   "cell_type": "code",
   "execution_count": 158,
   "metadata": {},
   "outputs": [
    {
     "name": "stdout",
     "output_type": "stream",
     "text": [
      "  (0, 5727)\t0.343725228611898\n",
      "  (0, 17140)\t0.15842360863605895\n",
      "  (0, 47151)\t0.324849913953672\n",
      "  (0, 48251)\t0.44605751545384525\n",
      "  (0, 48268)\t0.34271087362644803\n",
      "  (0, 53042)\t0.2648128930218668\n",
      "  (0, 54427)\t0.15053240208893912\n",
      "  (0, 60417)\t0.5848277853033162\n",
      "  (1, 288)\t0.1980808440171304\n",
      "  (1, 2806)\t0.2088028647681597\n",
      "  (1, 4317)\t0.3366873184244766\n",
      "  (1, 7761)\t0.18260247942756064\n",
      "  (1, 8133)\t0.062195163143637246\n",
      "  (1, 12496)\t0.21808796153595764\n",
      "  (1, 13936)\t0.20588919570611047\n",
      "  (1, 17587)\t0.122179920222087\n",
      "  (1, 18653)\t0.2382047175639126\n",
      "  (1, 40287)\t0.13667191078206184\n",
      "  (1, 44362)\t0.1279720026469935\n",
      "  (1, 44634)\t0.2709131721543983\n",
      "  (1, 44647)\t0.26547743197652657\n",
      "  (1, 45135)\t0.23424572246485872\n",
      "  (1, 46611)\t0.21170679981621796\n",
      "  (1, 47684)\t0.1393340053529187\n",
      "  (1, 50758)\t0.12026548860443723\n",
      "  :\t:\n",
      "  (30865, 12767)\t0.30674582973236647\n",
      "  (30865, 16788)\t0.3150283894249131\n",
      "  (30865, 38111)\t0.22839140739943595\n",
      "  (30865, 39233)\t0.16636414678310196\n",
      "  (30865, 47658)\t0.2145722919205512\n",
      "  (30865, 49516)\t0.13142990742740346\n",
      "  (30865, 49780)\t0.14887616174219404\n",
      "  (30865, 52822)\t0.17531311279509346\n",
      "  (30865, 54427)\t0.08639203089776994\n",
      "  (30865, 55553)\t0.12998289875673208\n",
      "  (30865, 56517)\t0.14513876844090065\n",
      "  (30865, 59071)\t0.29192560987941046\n",
      "  (30865, 59752)\t0.3137820232497508\n",
      "  (30865, 59769)\t0.3356384366200911\n",
      "  (30865, 60583)\t0.21892846762143187\n",
      "  (30865, 60884)\t0.11809130451276521\n",
      "  (30865, 61464)\t0.1904275693632806\n",
      "  (30866, 7983)\t0.24171790682804642\n",
      "  (30866, 8015)\t0.23889273083747828\n",
      "  (30866, 8850)\t0.08488067424014967\n",
      "  (30866, 11809)\t0.5028302649176909\n",
      "  (30866, 31296)\t0.5028302649176909\n",
      "  (30866, 34783)\t0.2786831467372105\n",
      "  (30866, 57077)\t0.20277787252379972\n",
      "  (30866, 57122)\t0.5028302649176909\n"
     ]
    }
   ],
   "source": [
    "print(X_train_tf2)"
   ]
  },
  {
   "cell_type": "code",
   "execution_count": 123,
   "metadata": {
    "colab": {
     "base_uri": "https://localhost:8080/"
    },
    "executionInfo": {
     "elapsed": 265646,
     "status": "ok",
     "timestamp": 1668295301843,
     "user": {
      "displayName": "BHAVYA ANTIYA",
      "userId": "05493129355923018689"
     },
     "user_tz": 300
    },
    "id": "U62uo-rMbrBo",
    "outputId": "4865038f-447f-4e25-954b-1aef10b1bee4"
   },
   "outputs": [
    {
     "data": {
      "text/plain": [
       "RandomForestClassifier()"
      ]
     },
     "execution_count": 123,
     "metadata": {},
     "output_type": "execute_result"
    }
   ],
   "source": [
    "rf = RandomForestClassifier()\n",
    "rf.fit(X_train_tf2, y_train)"
   ]
  },
  {
   "cell_type": "code",
   "execution_count": 124,
   "metadata": {
    "colab": {
     "base_uri": "https://localhost:8080/"
    },
    "executionInfo": {
     "elapsed": 1797,
     "status": "ok",
     "timestamp": 1668295303629,
     "user": {
      "displayName": "BHAVYA ANTIYA",
      "userId": "05493129355923018689"
     },
     "user_tz": 300
    },
    "id": "ywhpjdCibrDK",
    "outputId": "1706543e-f43d-4594-d412-26c33b5a9520"
   },
   "outputs": [
    {
     "name": "stdout",
     "output_type": "stream",
     "text": [
      "Accuracy: 73.13896987366375% and Roc Auc Score:0.5386434217955957\n",
      "              precision    recall  f1-score   support\n",
      "\n",
      "           0       0.73      0.98      0.84      7392\n",
      "           1       0.66      0.10      0.17      2898\n",
      "\n",
      "    accuracy                           0.73     10290\n",
      "   macro avg       0.70      0.54      0.50     10290\n",
      "weighted avg       0.71      0.73      0.65     10290\n",
      "\n"
     ]
    }
   ],
   "source": [
    "from sklearn.metrics import roc_auc_score\n",
    "y_pred = rf.predict(X_test_tf2)\n",
    "acc = accuracy_score(y_pred, y_test)\n",
    "report = classification_report(y_test, y_pred)\n",
    "roc = roc_auc_score(y_test,y_pred)\n",
    "print(f\"Accuracy: {acc*100}% and Roc Auc Score:{roc_auc_score(y_test,y_pred)}\")\n",
    "print(report)"
   ]
  },
  {
   "cell_type": "code",
   "execution_count": 128,
   "metadata": {},
   "outputs": [
    {
     "name": "stdout",
     "output_type": "stream",
     "text": [
      "Collecting xgboost\n",
      "  Downloading xgboost-1.7.1-py3-none-win_amd64.whl (89.1 MB)\n",
      "Requirement already satisfied: numpy in c:\\users\\rahul\\anaconda3\\lib\\site-packages (from xgboost) (1.20.3)\n",
      "Requirement already satisfied: scipy in c:\\users\\rahul\\anaconda3\\lib\\site-packages (from xgboost) (1.7.1)\n",
      "Installing collected packages: xgboost\n",
      "Successfully installed xgboost-1.7.1\n"
     ]
    }
   ],
   "source": [
    "!pip install xgboost"
   ]
  },
  {
   "cell_type": "code",
   "execution_count": 131,
   "metadata": {},
   "outputs": [
    {
     "name": "stdout",
     "output_type": "stream",
     "text": [
      "Collecting lightgbm\n",
      "  Downloading lightgbm-3.3.3-py3-none-win_amd64.whl (1.0 MB)\n",
      "Requirement already satisfied: scipy in c:\\users\\rahul\\anaconda3\\lib\\site-packages (from lightgbm) (1.7.1)\n",
      "Requirement already satisfied: scikit-learn!=0.22.0 in c:\\users\\rahul\\anaconda3\\lib\\site-packages (from lightgbm) (0.24.2)\n",
      "Requirement already satisfied: wheel in c:\\users\\rahul\\anaconda3\\lib\\site-packages (from lightgbm) (0.37.0)\n",
      "Requirement already satisfied: numpy in c:\\users\\rahul\\anaconda3\\lib\\site-packages (from lightgbm) (1.20.3)\n",
      "Requirement already satisfied: threadpoolctl>=2.0.0 in c:\\users\\rahul\\anaconda3\\lib\\site-packages (from scikit-learn!=0.22.0->lightgbm) (2.2.0)\n",
      "Requirement already satisfied: joblib>=0.11 in c:\\users\\rahul\\anaconda3\\lib\\site-packages (from scikit-learn!=0.22.0->lightgbm) (1.1.0)\n",
      "Installing collected packages: lightgbm\n",
      "Successfully installed lightgbm-3.3.3\n"
     ]
    }
   ],
   "source": [
    "!pip install lightgbm"
   ]
  },
  {
   "cell_type": "code",
   "execution_count": 132,
   "metadata": {
    "colab": {
     "base_uri": "https://localhost:8080/"
    },
    "executionInfo": {
     "elapsed": 35393,
     "status": "ok",
     "timestamp": 1668295339019,
     "user": {
      "displayName": "BHAVYA ANTIYA",
      "userId": "05493129355923018689"
     },
     "user_tz": 300
    },
    "id": "gegzCtYWbrEQ",
    "outputId": "552883ef-918a-4074-bb4f-34984f337f2b"
   },
   "outputs": [
    {
     "data": {
      "text/plain": [
       "XGBClassifier(base_score=0.5, booster='gbtree', callbacks=None,\n",
       "              colsample_bylevel=1, colsample_bynode=1, colsample_bytree=1,\n",
       "              early_stopping_rounds=None, enable_categorical=False,\n",
       "              eval_metric='mlogloss', feature_types=None, gamma=0, gpu_id=-1,\n",
       "              grow_policy='depthwise', importance_type=None,\n",
       "              interaction_constraints='', learning_rate=0.300000012,\n",
       "              max_bin=256, max_cat_threshold=64, max_cat_to_onehot=4,\n",
       "              max_delta_step=0, max_depth=6, max_leaves=0, min_child_weight=1,\n",
       "              missing=nan, monotone_constraints='()', n_estimators=100,\n",
       "              n_jobs=0, num_parallel_tree=1, predictor='auto', random_state=0, ...)"
      ]
     },
     "execution_count": 132,
     "metadata": {},
     "output_type": "execute_result"
    }
   ],
   "source": [
    "import xgboost\n",
    "import lightgbm\n",
    "from xgboost import XGBClassifier\n",
    "from lightgbm import LGBMClassifier\n",
    "xgb = XGBClassifier(eval_metric=\"mlogloss\")\n",
    "xgb.fit(X_train_tf2, y_train)"
   ]
  },
  {
   "cell_type": "code",
   "execution_count": 133,
   "metadata": {
    "colab": {
     "base_uri": "https://localhost:8080/"
    },
    "executionInfo": {
     "elapsed": 17,
     "status": "ok",
     "timestamp": 1668295339020,
     "user": {
      "displayName": "BHAVYA ANTIYA",
      "userId": "05493129355923018689"
     },
     "user_tz": 300
    },
    "id": "Vu-CLvl-brFx",
    "outputId": "318bc41b-663a-4de4-ff31-9ec850986475"
   },
   "outputs": [
    {
     "name": "stdout",
     "output_type": "stream",
     "text": [
      "Accuracy: 71.1175898931001% and Roc Auc Score:0.52279099222034\n",
      "              precision    recall  f1-score   support\n",
      "\n",
      "           0       0.73      0.95      0.83      7392\n",
      "           1       0.44      0.09      0.15      2898\n",
      "\n",
      "    accuracy                           0.71     10290\n",
      "   macro avg       0.58      0.52      0.49     10290\n",
      "weighted avg       0.65      0.71      0.64     10290\n",
      "\n"
     ]
    }
   ],
   "source": [
    "y_pred2 = xgb.predict(X_test_tf2)\n",
    "acc2 = accuracy_score(y_pred2, y_test)\n",
    "report2 = classification_report(y_test, y_pred2)\n",
    "roc2 = roc_auc_score(y_test,y_pred2)\n",
    "print(f\"Accuracy: {acc2*100}% and Roc Auc Score:{roc_auc_score(y_test,y_pred2)}\")\n",
    "print(report2)"
   ]
  },
  {
   "cell_type": "code",
   "execution_count": 134,
   "metadata": {
    "colab": {
     "base_uri": "https://localhost:8080/"
    },
    "executionInfo": {
     "elapsed": 54882,
     "status": "ok",
     "timestamp": 1668295393894,
     "user": {
      "displayName": "BHAVYA ANTIYA",
      "userId": "05493129355923018689"
     },
     "user_tz": 300
    },
    "id": "6k99Q8v_brG1",
    "outputId": "57db712b-ccef-47e9-83a7-beebe44f6df7"
   },
   "outputs": [
    {
     "data": {
      "text/plain": [
       "LGBMClassifier()"
      ]
     },
     "execution_count": 134,
     "metadata": {},
     "output_type": "execute_result"
    }
   ],
   "source": [
    "lgb = LGBMClassifier()\n",
    "lgb.fit(X_train_tf2, y_train)"
   ]
  },
  {
   "cell_type": "code",
   "execution_count": 135,
   "metadata": {
    "colab": {
     "base_uri": "https://localhost:8080/"
    },
    "executionInfo": {
     "elapsed": 1114,
     "status": "ok",
     "timestamp": 1668295395006,
     "user": {
      "displayName": "BHAVYA ANTIYA",
      "userId": "05493129355923018689"
     },
     "user_tz": 300
    },
    "id": "FODLby2GbrJq",
    "outputId": "329ce823-4968-48e4-9eb6-3925f3470065"
   },
   "outputs": [
    {
     "name": "stdout",
     "output_type": "stream",
     "text": [
      "Accuracy: 71.72983479105928% and Roc Auc Score:0.5310382552230378\n",
      "              precision    recall  f1-score   support\n",
      "\n",
      "           0       0.73      0.96      0.83      7392\n",
      "           1       0.49      0.10      0.17      2898\n",
      "\n",
      "    accuracy                           0.72     10290\n",
      "   macro avg       0.61      0.53      0.50     10290\n",
      "weighted avg       0.66      0.72      0.64     10290\n",
      "\n"
     ]
    }
   ],
   "source": [
    "y_pred_lgb = lgb.predict(X_test_tf2)\n",
    "acc_lgb = accuracy_score(y_pred_lgb, y_test)\n",
    "report_lgb = classification_report(y_test, y_pred_lgb)\n",
    "roc_lgb = roc_auc_score(y_test,y_pred_lgb)\n",
    "print(f\"Accuracy: {acc_lgb*100}% and Roc Auc Score:{roc_auc_score(y_test,y_pred_lgb)}\")\n",
    "print(report_lgb)"
   ]
  },
  {
   "cell_type": "code",
   "execution_count": 136,
   "metadata": {
    "colab": {
     "base_uri": "https://localhost:8080/"
    },
    "executionInfo": {
     "elapsed": 15,
     "status": "ok",
     "timestamp": 1668295395007,
     "user": {
      "displayName": "BHAVYA ANTIYA",
      "userId": "05493129355923018689"
     },
     "user_tz": 300
    },
    "id": "YirX-lRjbrLe",
    "outputId": "51d656fc-fe17-47b5-fe4e-d05bc479f257"
   },
   "outputs": [
    {
     "data": {
      "text/plain": [
       "MultinomialNB()"
      ]
     },
     "execution_count": 136,
     "metadata": {},
     "output_type": "execute_result"
    }
   ],
   "source": [
    "from sklearn.naive_bayes import MultinomialNB\n",
    "nb = MultinomialNB()\n",
    "nb.fit(X_train_tf2, y_train)"
   ]
  },
  {
   "cell_type": "code",
   "execution_count": 137,
   "metadata": {
    "colab": {
     "base_uri": "https://localhost:8080/"
    },
    "executionInfo": {
     "elapsed": 11,
     "status": "ok",
     "timestamp": 1668295395008,
     "user": {
      "displayName": "BHAVYA ANTIYA",
      "userId": "05493129355923018689"
     },
     "user_tz": 300
    },
    "id": "_UnZO_k9brMk",
    "outputId": "0d410ea2-9afe-49ef-be16-24ebcba00253"
   },
   "outputs": [
    {
     "name": "stdout",
     "output_type": "stream",
     "text": [
      "Accuracy: 71.92419825072886% and Roc Auc Score:0.5018674712968192\n",
      "              precision    recall  f1-score   support\n",
      "\n",
      "           0       0.72      1.00      0.84      7392\n",
      "           1       0.80      0.00      0.01      2898\n",
      "\n",
      "    accuracy                           0.72     10290\n",
      "   macro avg       0.76      0.50      0.42     10290\n",
      "weighted avg       0.74      0.72      0.60     10290\n",
      "\n"
     ]
    }
   ],
   "source": [
    "y_pred3 = nb.predict(X_test_tf2)\n",
    "acc3 = accuracy_score(y_pred3, y_test)\n",
    "report3 = classification_report(y_test, y_pred3)\n",
    "roc3 = roc_auc_score(y_test,y_pred3)\n",
    "print(f\"Accuracy: {acc3*100}% and Roc Auc Score:{roc_auc_score(y_test,y_pred3)}\")\n",
    "print(report3)"
   ]
  },
  {
   "cell_type": "code",
   "execution_count": 138,
   "metadata": {
    "colab": {
     "base_uri": "https://localhost:8080/"
    },
    "executionInfo": {
     "elapsed": 85431,
     "status": "ok",
     "timestamp": 1668295480433,
     "user": {
      "displayName": "BHAVYA ANTIYA",
      "userId": "05493129355923018689"
     },
     "user_tz": 300
    },
    "id": "aN7mc3JGbrOX",
    "outputId": "ce4e9c75-28ec-4955-bece-2abe48e4a961"
   },
   "outputs": [
    {
     "data": {
      "text/plain": [
       "GradientBoostingClassifier()"
      ]
     },
     "execution_count": 138,
     "metadata": {},
     "output_type": "execute_result"
    }
   ],
   "source": [
    "gb = GradientBoostingClassifier()\n",
    "gb.fit(X_train_tf2, y_train)"
   ]
  },
  {
   "cell_type": "code",
   "execution_count": 139,
   "metadata": {
    "colab": {
     "base_uri": "https://localhost:8080/"
    },
    "executionInfo": {
     "elapsed": 380,
     "status": "ok",
     "timestamp": 1668295480805,
     "user": {
      "displayName": "BHAVYA ANTIYA",
      "userId": "05493129355923018689"
     },
     "user_tz": 300
    },
    "id": "nsSeZfq0brPd",
    "outputId": "510566e2-7205-44e2-ce11-5d796b439e1b"
   },
   "outputs": [
    {
     "name": "stdout",
     "output_type": "stream",
     "text": [
      "Accuracy: 71.82701652089408% and Roc Auc Score:0.503288906142167\n",
      "              precision    recall  f1-score   support\n",
      "\n",
      "           0       0.72      1.00      0.84      7392\n",
      "           1       0.49      0.01      0.02      2898\n",
      "\n",
      "    accuracy                           0.72     10290\n",
      "   macro avg       0.61      0.50      0.43     10290\n",
      "weighted avg       0.66      0.72      0.61     10290\n",
      "\n"
     ]
    }
   ],
   "source": [
    "y_pred4 = gb.predict(X_test_tf2)\n",
    "acc4 = accuracy_score(y_pred4, y_test)\n",
    "report4 = classification_report(y_test, y_pred4)\n",
    "roc4 = roc_auc_score(y_test,y_pred4)\n",
    "print(f\"Accuracy: {acc4*100}% and Roc Auc Score:{roc_auc_score(y_test,y_pred4)}\")\n",
    "print(report4)"
   ]
  },
  {
   "cell_type": "code",
   "execution_count": 140,
   "metadata": {
    "colab": {
     "base_uri": "https://localhost:8080/"
    },
    "executionInfo": {
     "elapsed": 87397,
     "status": "ok",
     "timestamp": 1668295568199,
     "user": {
      "displayName": "BHAVYA ANTIYA",
      "userId": "05493129355923018689"
     },
     "user_tz": 300
    },
    "id": "vZSNI0mBbrRS",
    "outputId": "8cee2b62-33d5-43cf-cae4-50ce78822c69"
   },
   "outputs": [
    {
     "name": "stdout",
     "output_type": "stream",
     "text": [
      "Accuracy: 67.82312925170068% and Roc Auc Score:0.5981446844218584\n",
      "              precision    recall  f1-score   support\n",
      "\n",
      "           0       0.77      0.78      0.78      7392\n",
      "           1       0.43      0.41      0.42      2898\n",
      "\n",
      "    accuracy                           0.68     10290\n",
      "   macro avg       0.60      0.60      0.60     10290\n",
      "weighted avg       0.68      0.68      0.68     10290\n",
      "\n"
     ]
    }
   ],
   "source": [
    "dt = DecisionTreeClassifier()\n",
    "dt.fit(X_train_tf2, y_train)\n",
    "y_pred5 = dt.predict(X_test_tf2)\n",
    "acc5 = accuracy_score(y_pred5, y_test)\n",
    "report5 = classification_report(y_test, y_pred5)\n",
    "roc5 = roc_auc_score(y_test,y_pred5)\n",
    "print(f\"Accuracy: {acc5*100}% and Roc Auc Score:{roc_auc_score(y_test,y_pred5)}\")\n",
    "print(report5)"
   ]
  },
  {
   "cell_type": "code",
   "execution_count": 141,
   "metadata": {
    "executionInfo": {
     "elapsed": 24,
     "status": "ok",
     "timestamp": 1668295568201,
     "user": {
      "displayName": "BHAVYA ANTIYA",
      "userId": "05493129355923018689"
     },
     "user_tz": 300
    },
    "id": "eExi7lekbrSU"
   },
   "outputs": [],
   "source": [
    "from sklearn.metrics import precision_score\n",
    "ps = precision_score(y_test, y_pred)\n",
    "ps_lgb = precision_score(y_test,y_pred_lgb)\n",
    "ps2 = precision_score(y_test, y_pred2)\n",
    "ps3 = precision_score(y_test, y_pred3)\n",
    "ps4 = precision_score(y_test, y_pred4)\n",
    "ps5 = precision_score(y_pred5,y_test)"
   ]
  },
  {
   "cell_type": "code",
   "execution_count": 142,
   "metadata": {
    "executionInfo": {
     "elapsed": 21,
     "status": "ok",
     "timestamp": 1668295568202,
     "user": {
      "displayName": "BHAVYA ANTIYA",
      "userId": "05493129355923018689"
     },
     "user_tz": 300
    },
    "id": "xDrnZxy_brUF"
   },
   "outputs": [],
   "source": [
    "accuracys = [acc,acc2,acc3,acc4,acc5,acc_lgb]\n",
    "roc_scores = [roc, roc2, roc3, roc4,roc5, roc_lgb]\n",
    "precision_scores = [ps,ps2,ps3,ps4,ps5,ps_lgb]\n",
    "models = {\"Random Forest\":rf,\"XGboost\":xgb,\"Naive Bayes\":nb,\"Gradient Boosting\":gb,\"Decision Tree\":dt,\"LGB Machine\":lgb}\n",
    "\n",
    "model_df = pd.DataFrame({\"Models\":models.keys(),\"Accuracy\":accuracys,\"Precision Score\":precision_scores,\"Roc Scores\": roc_scores}).sort_values(\"Roc Scores\",ascending=False)"
   ]
  },
  {
   "cell_type": "code",
   "execution_count": 143,
   "metadata": {
    "colab": {
     "base_uri": "https://localhost:8080/",
     "height": 238
    },
    "executionInfo": {
     "elapsed": 20,
     "status": "ok",
     "timestamp": 1668295568203,
     "user": {
      "displayName": "BHAVYA ANTIYA",
      "userId": "05493129355923018689"
     },
     "user_tz": 300
    },
    "id": "yoDMImrMbrVL",
    "outputId": "7be41978-ea02-4156-907a-68d9b619e328"
   },
   "outputs": [
    {
     "data": {
      "text/html": [
       "<div>\n",
       "<style scoped>\n",
       "    .dataframe tbody tr th:only-of-type {\n",
       "        vertical-align: middle;\n",
       "    }\n",
       "\n",
       "    .dataframe tbody tr th {\n",
       "        vertical-align: top;\n",
       "    }\n",
       "\n",
       "    .dataframe thead th {\n",
       "        text-align: right;\n",
       "    }\n",
       "</style>\n",
       "<table border=\"1\" class=\"dataframe\">\n",
       "  <thead>\n",
       "    <tr style=\"text-align: right;\">\n",
       "      <th></th>\n",
       "      <th>Models</th>\n",
       "      <th>Accuracy</th>\n",
       "      <th>Precision Score</th>\n",
       "      <th>Roc Scores</th>\n",
       "    </tr>\n",
       "  </thead>\n",
       "  <tbody>\n",
       "    <tr>\n",
       "      <th>4</th>\n",
       "      <td>Decision Tree</td>\n",
       "      <td>0.678231</td>\n",
       "      <td>0.414769</td>\n",
       "      <td>0.598145</td>\n",
       "    </tr>\n",
       "    <tr>\n",
       "      <th>0</th>\n",
       "      <td>Random Forest</td>\n",
       "      <td>0.731390</td>\n",
       "      <td>0.655814</td>\n",
       "      <td>0.538643</td>\n",
       "    </tr>\n",
       "    <tr>\n",
       "      <th>5</th>\n",
       "      <td>LGB Machine</td>\n",
       "      <td>0.717298</td>\n",
       "      <td>0.491086</td>\n",
       "      <td>0.531038</td>\n",
       "    </tr>\n",
       "    <tr>\n",
       "      <th>1</th>\n",
       "      <td>XGboost</td>\n",
       "      <td>0.711176</td>\n",
       "      <td>0.438742</td>\n",
       "      <td>0.522791</td>\n",
       "    </tr>\n",
       "    <tr>\n",
       "      <th>3</th>\n",
       "      <td>Gradient Boosting</td>\n",
       "      <td>0.718270</td>\n",
       "      <td>0.492308</td>\n",
       "      <td>0.503289</td>\n",
       "    </tr>\n",
       "    <tr>\n",
       "      <th>2</th>\n",
       "      <td>Naive Bayes</td>\n",
       "      <td>0.719242</td>\n",
       "      <td>0.800000</td>\n",
       "      <td>0.501867</td>\n",
       "    </tr>\n",
       "  </tbody>\n",
       "</table>\n",
       "</div>"
      ],
      "text/plain": [
       "              Models  Accuracy  Precision Score  Roc Scores\n",
       "4      Decision Tree  0.678231         0.414769    0.598145\n",
       "0      Random Forest  0.731390         0.655814    0.538643\n",
       "5        LGB Machine  0.717298         0.491086    0.531038\n",
       "1            XGboost  0.711176         0.438742    0.522791\n",
       "3  Gradient Boosting  0.718270         0.492308    0.503289\n",
       "2        Naive Bayes  0.719242         0.800000    0.501867"
      ]
     },
     "execution_count": 143,
     "metadata": {},
     "output_type": "execute_result"
    }
   ],
   "source": [
    "# Summary of Machine Learning Models Performance\n",
    "model_df"
   ]
  },
  {
   "cell_type": "code",
   "execution_count": 145,
   "metadata": {
    "colab": {
     "base_uri": "https://localhost:8080/",
     "height": 54
    },
    "executionInfo": {
     "elapsed": 16,
     "status": "ok",
     "timestamp": 1668295568203,
     "user": {
      "displayName": "BHAVYA ANTIYA",
      "userId": "05493129355923018689"
     },
     "user_tz": 300
    },
    "id": "IfcAodk7brXC",
    "outputId": "8c3bddf9-d96f-4a70-db66-1227a6a0c118"
   },
   "outputs": [
    {
     "data": {
      "text/plain": [
       "(30867,)"
      ]
     },
     "metadata": {},
     "output_type": "display_data"
    },
    {
     "data": {
      "text/plain": [
       "(10290,)"
      ]
     },
     "metadata": {},
     "output_type": "display_data"
    }
   ],
   "source": [
    "from sklearn.model_selection import train_test_split\n",
    "X = new_df[4]\n",
    "y = new_df[5]\n",
    "X_train, X_test, y_train, y_test = train_test_split(X, y, test_size=0.25, random_state=42)\n",
    "display(X_train.shape)\n",
    "display(X_test.shape)"
   ]
  },
  {
   "cell_type": "code",
   "execution_count": 146,
   "metadata": {
    "executionInfo": {
     "elapsed": 2039,
     "status": "ok",
     "timestamp": 1668295570228,
     "user": {
      "displayName": "BHAVYA ANTIYA",
      "userId": "05493129355923018689"
     },
     "user_tz": 300
    },
    "id": "x17FPT9obrYP"
   },
   "outputs": [],
   "source": [
    "from keras.preprocessing.text import Tokenizer\n",
    "from keras_preprocessing.sequence import pad_sequences\n",
    "\n",
    "tokenizer = Tokenizer()\n",
    "tokenizer.fit_on_texts(X_train)"
   ]
  },
  {
   "cell_type": "code",
   "execution_count": 147,
   "metadata": {
    "executionInfo": {
     "elapsed": 2383,
     "status": "ok",
     "timestamp": 1668295572607,
     "user": {
      "displayName": "BHAVYA ANTIYA",
      "userId": "05493129355923018689"
     },
     "user_tz": 300
    },
    "id": "EPXI2olBbrZ3"
   },
   "outputs": [],
   "source": [
    "# using tokenizer to transform text messages into training and testing set\n",
    "X_train_seq = tokenizer.texts_to_sequences(X_train)\n",
    "X_test_seq = tokenizer.texts_to_sequences(X_test)"
   ]
  },
  {
   "cell_type": "code",
   "execution_count": 148,
   "metadata": {
    "executionInfo": {
     "elapsed": 884,
     "status": "ok",
     "timestamp": 1668295573486,
     "user": {
      "displayName": "BHAVYA ANTIYA",
      "userId": "05493129355923018689"
     },
     "user_tz": 300
    },
    "id": "YxShNhmpbrbJ"
   },
   "outputs": [],
   "source": [
    "X_train_seq_padded = pad_sequences(X_train_seq, maxlen=64)\n",
    "X_test_seq_padded = pad_sequences(X_test_seq, maxlen=64)"
   ]
  },
  {
   "cell_type": "code",
   "execution_count": 149,
   "metadata": {
    "colab": {
     "base_uri": "https://localhost:8080/"
    },
    "executionInfo": {
     "elapsed": 11,
     "status": "ok",
     "timestamp": 1668295573487,
     "user": {
      "displayName": "BHAVYA ANTIYA",
      "userId": "05493129355923018689"
     },
     "user_tz": 300
    },
    "id": "FettSIUAbrcw",
    "outputId": "93e64658-8c8d-4daa-8e78-731c4a501908"
   },
   "outputs": [
    {
     "data": {
      "text/plain": [
       "array([    0,     0,     0,     0,     0,     0,     0,     0,     0,\n",
       "           0,     0,     0,     0,     0,     0,     0,     0,     0,\n",
       "           0,     0,     0,     0,     0,     0,     0,     0,     0,\n",
       "           0,     0,     0,     0,     0,     0,     0,     0,     0,\n",
       "           0,     0,     0,     0,     0,     0,     0,     0,     0,\n",
       "           0,     0,     0,     0,     0,     0,     0,     0,     0,\n",
       "           0,     0, 14164,     7,     4,   413,   112,   572,  2375,\n",
       "         580])"
      ]
     },
     "execution_count": 149,
     "metadata": {},
     "output_type": "execute_result"
    }
   ],
   "source": [
    "X_train_seq_padded[0]"
   ]
  },
  {
   "cell_type": "markdown",
   "metadata": {
    "id": "CTrSs84xbZVX"
   },
   "source": [
    "Bidirectional LSTM¶"
   ]
  },
  {
   "cell_type": "code",
   "execution_count": 150,
   "metadata": {
    "colab": {
     "base_uri": "https://localhost:8080/",
     "height": 864
    },
    "executionInfo": {
     "elapsed": 2999,
     "status": "ok",
     "timestamp": 1668295576483,
     "user": {
      "displayName": "BHAVYA ANTIYA",
      "userId": "05493129355923018689"
     },
     "user_tz": 300
    },
    "id": "fNuER-NtbYfD",
    "outputId": "31f58407-c6e8-485b-b503-b3624c2e478e"
   },
   "outputs": [
    {
     "name": "stdout",
     "output_type": "stream",
     "text": [
      "Model: \"sequential\"\n",
      "_________________________________________________________________\n",
      " Layer (type)                Output Shape              Param #   \n",
      "=================================================================\n",
      " embedding (Embedding)       (None, None, 64)          3959488   \n",
      "                                                                 \n",
      " bidirectional (Bidirectiona  (None, 200)              132000    \n",
      " l)                                                              \n",
      "                                                                 \n",
      " dense (Dense)               (None, 128)               25728     \n",
      "                                                                 \n",
      " dense_1 (Dense)             (None, 1)                 129       \n",
      "                                                                 \n",
      "=================================================================\n",
      "Total params: 4,117,345\n",
      "Trainable params: 4,117,345\n",
      "Non-trainable params: 0\n",
      "_________________________________________________________________\n",
      "You must install pydot (`pip install pydot`) and install graphviz (see instructions at https://graphviz.gitlab.io/download/) for plot_model to work.\n"
     ]
    }
   ],
   "source": [
    "# construct model\n",
    "BATCH_SIZE = 64\n",
    "\n",
    "from keras.utils.vis_utils import plot_model\n",
    "model = Sequential()\n",
    "model.add(Embedding(len(tokenizer.index_word)+1,64))\n",
    "model.add(Bidirectional(LSTM(100, dropout=0,recurrent_dropout=0)))\n",
    "model.add(Dense(128, activation=\"relu\"))\n",
    "model.add(Dense(1,activation=\"sigmoid\"))\n",
    "\n",
    "model.compile(\"adam\",\"binary_crossentropy\",metrics=[\"accuracy\"])\n",
    "model.summary()\n",
    "plot_model(model, to_file='model_plot.png', show_shapes=True, show_layer_names=True)"
   ]
  },
  {
   "cell_type": "code",
   "execution_count": 151,
   "metadata": {
    "executionInfo": {
     "elapsed": 6,
     "status": "ok",
     "timestamp": 1668295576483,
     "user": {
      "displayName": "BHAVYA ANTIYA",
      "userId": "05493129355923018689"
     },
     "user_tz": 300
    },
    "id": "q8KM-90ZbYvp"
   },
   "outputs": [],
   "source": [
    "# Used for preventing ovefitting\n",
    "from keras.callbacks import EarlyStopping\n",
    "early_stop = EarlyStopping(monitor=\"val_loss\",patience=5,verbose=True)"
   ]
  },
  {
   "cell_type": "code",
   "execution_count": 152,
   "metadata": {
    "colab": {
     "base_uri": "https://localhost:8080/"
    },
    "executionInfo": {
     "elapsed": 291164,
     "status": "ok",
     "timestamp": 1668295867642,
     "user": {
      "displayName": "BHAVYA ANTIYA",
      "userId": "05493129355923018689"
     },
     "user_tz": 300
    },
    "id": "2wtM93nwbreB",
    "outputId": "a79bb456-a571-4a2e-ee44-e1c23fd297a6"
   },
   "outputs": [
    {
     "name": "stdout",
     "output_type": "stream",
     "text": [
      "Epoch 1/15\n",
      "483/483 [==============================] - 62s 115ms/step - loss: 0.5659 - accuracy: 0.7233 - val_loss: 0.5332 - val_accuracy: 0.7184\n",
      "Epoch 2/15\n",
      "483/483 [==============================] - 56s 117ms/step - loss: 0.4065 - accuracy: 0.8024 - val_loss: 0.5617 - val_accuracy: 0.7266\n",
      "Epoch 3/15\n",
      "483/483 [==============================] - 55s 114ms/step - loss: 0.1937 - accuracy: 0.9192 - val_loss: 0.6809 - val_accuracy: 0.7198\n",
      "Epoch 4/15\n",
      "483/483 [==============================] - 54s 111ms/step - loss: 0.0892 - accuracy: 0.9659 - val_loss: 0.9133 - val_accuracy: 0.7205\n",
      "Epoch 5/15\n",
      "483/483 [==============================] - 55s 115ms/step - loss: 0.0463 - accuracy: 0.9833 - val_loss: 1.0295 - val_accuracy: 0.7176\n",
      "Epoch 6/15\n",
      "483/483 [==============================] - 55s 115ms/step - loss: 0.0309 - accuracy: 0.9891 - val_loss: 1.2077 - val_accuracy: 0.7121\n",
      "Epoch 6: early stopping\n"
     ]
    }
   ],
   "source": [
    "history = model.fit(X_train_seq_padded, y_train,batch_size=BATCH_SIZE,epochs=15,\n",
    "                    validation_data=(X_test_seq_padded, y_test),callbacks=[early_stop])"
   ]
  },
  {
   "cell_type": "code",
   "execution_count": 153,
   "metadata": {
    "colab": {
     "base_uri": "https://localhost:8080/"
    },
    "executionInfo": {
     "elapsed": 15972,
     "status": "ok",
     "timestamp": 1668295883610,
     "user": {
      "displayName": "BHAVYA ANTIYA",
      "userId": "05493129355923018689"
     },
     "user_tz": 300
    },
    "id": "pIv6pLtIbrfz",
    "outputId": "4c580325-517e-46a2-b43d-855d96dfb89e"
   },
   "outputs": [
    {
     "name": "stdout",
     "output_type": "stream",
     "text": [
      "965/965 [==============================] - 17s 15ms/step\n",
      "322/322 [==============================] - 5s 14ms/step\n",
      "LSTM Recurrent Neural Network baseline: 0.9997853419364021\n",
      "LSTM Recurrent Neural Network: 0.7071047841622377\n"
     ]
    }
   ],
   "source": [
    "from sklearn.metrics import roc_auc_score\n",
    "pred_train = model.predict(X_train_seq_padded)\n",
    "pred_test = model.predict(X_test_seq_padded)\n",
    "print('LSTM Recurrent Neural Network baseline: ' + str(roc_auc_score(y_train, pred_train)))\n",
    "print('LSTM Recurrent Neural Network: ' + str(roc_auc_score(y_test, pred_test)))"
   ]
  },
  {
   "cell_type": "code",
   "execution_count": 154,
   "metadata": {
    "colab": {
     "base_uri": "https://localhost:8080/"
    },
    "executionInfo": {
     "elapsed": 4864,
     "status": "ok",
     "timestamp": 1668295888469,
     "user": {
      "displayName": "BHAVYA ANTIYA",
      "userId": "05493129355923018689"
     },
     "user_tz": 300
    },
    "id": "L6OdmbJNbqF8",
    "outputId": "8f243715-e639-45a7-e948-f81b34071f94"
   },
   "outputs": [
    {
     "name": "stdout",
     "output_type": "stream",
     "text": [
      "322/322 [==============================] - 5s 15ms/step - loss: 1.2077 - accuracy: 0.7121\n"
     ]
    },
    {
     "data": {
      "text/plain": [
       "[1.20771062374115, 0.7120505571365356]"
      ]
     },
     "execution_count": 154,
     "metadata": {},
     "output_type": "execute_result"
    }
   ],
   "source": [
    "model.evaluate(X_test_seq_padded, y_test)"
   ]
  },
  {
   "cell_type": "code",
   "execution_count": 155,
   "metadata": {
    "colab": {
     "base_uri": "https://localhost:8080/",
     "height": 437
    },
    "executionInfo": {
     "elapsed": 774,
     "status": "ok",
     "timestamp": 1668295889239,
     "user": {
      "displayName": "BHAVYA ANTIYA",
      "userId": "05493129355923018689"
     },
     "user_tz": 300
    },
    "id": "Mp74urAmbqIg",
    "outputId": "8c885d36-447f-4747-c3c0-9155cd7267aa"
   },
   "outputs": [
    {
     "data": {
      "text/plain": [
       "Text(0.5, 1.0, 'Training and Validation Accuracy')"
      ]
     },
     "execution_count": 155,
     "metadata": {},
     "output_type": "execute_result"
    },
    {
     "data": {
      "image/png": "[encoded data removed]",
      "text/plain": [
       "<Figure size 648x432 with 1 Axes>"
      ]
     },
     "metadata": {},
     "output_type": "display_data"
    }
   ],
   "source": [
    "acc = history.history[\"accuracy\"]\n",
    "loss = history.history[\"loss\"]\n",
    "\n",
    "val_acc = history.history[\"val_accuracy\"]\n",
    "val_loss = history.history[\"val_loss\"]\n",
    "\n",
    "plt.figure(figsize=(9,6))\n",
    "plt.plot(acc,label=\"Training Accuracy\")\n",
    "plt.plot(val_acc,label=\"Validation Accuracy\")\n",
    "plt.legend()\n",
    "plt.ylabel(\"Accuracy\")\n",
    "plt.title(\"Training and Validation Accuracy\")"
   ]
  },
  {
   "cell_type": "code",
   "execution_count": 156,
   "metadata": {
    "colab": {
     "base_uri": "https://localhost:8080/",
     "height": 437
    },
    "executionInfo": {
     "elapsed": 16,
     "status": "ok",
     "timestamp": 1668295889240,
     "user": {
      "displayName": "BHAVYA ANTIYA",
      "userId": "05493129355923018689"
     },
     "user_tz": 300
    },
    "id": "TljmOg6obqP7",
    "outputId": "3c81105b-8e02-404c-c13e-a2f2b4c20d32"
   },
   "outputs": [
    {
     "data": {
      "text/plain": [
       "Text(0.5, 1.0, 'Training and Validation Loss')"
      ]
     },
     "execution_count": 156,
     "metadata": {},
     "output_type": "execute_result"
    },
    {
     "data": {
      "image/png": "[encoded data removed]",
      "text/plain": [
       "<Figure size 648x432 with 1 Axes>"
      ]
     },
     "metadata": {},
     "output_type": "display_data"
    }
   ],
   "source": [
    "plt.figure(figsize=(9,6))\n",
    "plt.plot(loss,label=\"Training Loss\")\n",
    "plt.plot(val_loss, label=\"Validation Loss\")\n",
    "plt.legend()\n",
    "plt.ylabel(\"Loss\")\n",
    "plt.title(\"Training and Validation Loss\")"
   ]
  },
  {
   "cell_type": "code",
   "execution_count": 57,
   "metadata": {
    "executionInfo": {
     "elapsed": 12,
     "status": "ok",
     "timestamp": 1668295889240,
     "user": {
      "displayName": "BHAVYA ANTIYA",
      "userId": "05493129355923018689"
     },
     "user_tz": 300
    },
    "id": "uHLWTfyXbqRt"
   },
   "outputs": [],
   "source": []
  },
  {
   "cell_type": "code",
   "execution_count": 57,
   "metadata": {
    "executionInfo": {
     "elapsed": 11,
     "status": "ok",
     "timestamp": 1668295889240,
     "user": {
      "displayName": "BHAVYA ANTIYA",
      "userId": "05493129355923018689"
     },
     "user_tz": 300
    },
    "id": "t9ift_XKbqUV"
   },
   "outputs": [],
   "source": []
  },
  {
   "cell_type": "code",
   "execution_count": 57,
   "metadata": {
    "executionInfo": {
     "elapsed": 12,
     "status": "ok",
     "timestamp": 1668295889241,
     "user": {
      "displayName": "BHAVYA ANTIYA",
      "userId": "05493129355923018689"
     },
     "user_tz": 300
    },
    "id": "586brS7HbqVs"
   },
   "outputs": [],
   "source": []
  },
  {
   "cell_type": "code",
   "execution_count": 57,
   "metadata": {
    "executionInfo": {
     "elapsed": 11,
     "status": "ok",
     "timestamp": 1668295889241,
     "user": {
      "displayName": "BHAVYA ANTIYA",
      "userId": "05493129355923018689"
     },
     "user_tz": 300
    },
    "id": "bTdhlUqvbqYC"
   },
   "outputs": [],
   "source": []
  },
  {
   "cell_type": "code",
   "execution_count": 57,
   "metadata": {
    "executionInfo": {
     "elapsed": 12,
     "status": "ok",
     "timestamp": 1668295889242,
     "user": {
      "displayName": "BHAVYA ANTIYA",
      "userId": "05493129355923018689"
     },
     "user_tz": 300
    },
    "id": "ypUsXOg1bqao"
   },
   "outputs": [],
   "source": []
  },
  {
   "cell_type": "code",
   "execution_count": 57,
   "metadata": {
    "executionInfo": {
     "elapsed": 11,
     "status": "ok",
     "timestamp": 1668295889242,
     "user": {
      "displayName": "BHAVYA ANTIYA",
      "userId": "05493129355923018689"
     },
     "user_tz": 300
    },
    "id": "tqjKPZYmbrg5"
   },
   "outputs": [],
   "source": []
  },
  {
   "cell_type": "code",
   "execution_count": 57,
   "metadata": {
    "executionInfo": {
     "elapsed": 11,
     "status": "ok",
     "timestamp": 1668295889242,
     "user": {
      "displayName": "BHAVYA ANTIYA",
      "userId": "05493129355923018689"
     },
     "user_tz": 300
    },
    "id": "x3lRmKZQbrit"
   },
   "outputs": [],
   "source": []
  },
  {
   "cell_type": "code",
   "execution_count": 57,
   "metadata": {
    "executionInfo": {
     "elapsed": 11,
     "status": "ok",
     "timestamp": 1668295889242,
     "user": {
      "displayName": "BHAVYA ANTIYA",
      "userId": "05493129355923018689"
     },
     "user_tz": 300
    },
    "id": "OGAgcSNXbrkC"
   },
   "outputs": [],
   "source": []
  },
  {
   "cell_type": "code",
   "execution_count": 57,
   "metadata": {
    "executionInfo": {
     "elapsed": 10,
     "status": "ok",
     "timestamp": 1668295889242,
     "user": {
      "displayName": "BHAVYA ANTIYA",
      "userId": "05493129355923018689"
     },
     "user_tz": 300
    },
    "id": "FGRb6cxobrlj"
   },
   "outputs": [],
   "source": []
  }
 ],
 "metadata": {
  "accelerator": "GPU",
  "colab": {
   "authorship_tag": "ABX9TyPnayqSPGFhZ4NTClkq1k5x",
   "provenance": []
  },
  "gpuClass": "standard",
  "kernelspec": {
   "display_name": "Python 3 (ipykernel)",
   "language": "python",
   "name": "python3"
  },
  "language_info": {
   "codemirror_mode": {
    "name": "ipython",
    "version": 3
   },
   "file_extension": ".py",
   "mimetype": "text/x-python",
   "name": "python",
   "nbconvert_exporter": "python",
   "pygments_lexer": "ipython3",
   "version": "3.9.7"
  }
 },
 "nbformat": 4,
 "nbformat_minor": 1
}
