{
  "cells": [
    {
      "cell_type": "markdown",
      "metadata": {
        "id": "vRPNX11FVV1J"
      },
      "source": [
        "#Importing all the Libraries and mounting google drive"
      ]
    },
    {
      "cell_type": "code",
      "execution_count": 1,
      "metadata": {
        "colab": {
          "base_uri": "https://localhost:8080/"
        },
        "id": "QOOtjq9KWpGj",
        "outputId": "4427c347-9f64-4379-9f7d-2bad16269193"
      },
      "outputs": [
        {
          "output_type": "stream",
          "name": "stdout",
          "text": [
            "Looking in indexes: https://pypi.org/simple, https://us-python.pkg.dev/colab-wheels/public/simple/\n",
            "Collecting emoji\n",
            "  Downloading emoji-2.2.0.tar.gz (240 kB)\n",
            "\u001b[K     |████████████████████████████████| 240 kB 5.0 MB/s \n",
            "\u001b[?25hBuilding wheels for collected packages: emoji\n",
            "  Building wheel for emoji (setup.py) ... \u001b[?25l\u001b[?25hdone\n",
            "  Created wheel for emoji: filename=emoji-2.2.0-py3-none-any.whl size=234926 sha256=7e9ab54c5dbf9bc7ea8cbae1c9924e2fdb4774d7a462b9f96f4e6c900fd1cd4c\n",
            "  Stored in directory: /root/.cache/pip/wheels/f3/e3/f2/1de1c2e3ed742e1df73e0f15d58864e50c7e64f607b548d6cf\n",
            "Successfully built emoji\n",
            "Installing collected packages: emoji\n",
            "Successfully installed emoji-2.2.0\n"
          ]
        }
      ],
      "source": [
        "pip install emoji"
      ]
    },
    {
      "cell_type": "code",
      "execution_count": 2,
      "metadata": {
        "colab": {
          "base_uri": "https://localhost:8080/"
        },
        "id": "h8g9Ubv3lODi",
        "outputId": "99922a9d-8d81-4370-dd9d-e70470c351e3"
      },
      "outputs": [
        {
          "output_type": "stream",
          "name": "stderr",
          "text": [
            "[nltk_data] Downloading package stopwords to /root/nltk_data...\n",
            "[nltk_data]   Unzipping corpora/stopwords.zip.\n",
            "[nltk_data] Downloading package wordnet to /root/nltk_data...\n",
            "[nltk_data] Downloading package omw-1.4 to /root/nltk_data...\n",
            "[nltk_data] Downloading package punkt to /root/nltk_data...\n",
            "[nltk_data]   Unzipping tokenizers/punkt.zip.\n"
          ]
        },
        {
          "output_type": "execute_result",
          "data": {
            "text/plain": [
              "True"
            ]
          },
          "metadata": {},
          "execution_count": 2
        }
      ],
      "source": [
        "import nltk\n",
        "nltk.download('stopwords')\n",
        "nltk.download('wordnet')\n",
        "nltk.download('omw-1.4')\n",
        "nltk.download('punkt')"
      ]
    },
    {
      "cell_type": "code",
      "execution_count": 3,
      "metadata": {
        "id": "LsmLu6lzVaYS"
      },
      "outputs": [],
      "source": [
        "from tqdm import tqdm\n",
        "import pandas as pd\n",
        "import numpy as np\n",
        "import matplotlib.pyplot as plt\n",
        "%matplotlib inline\n",
        "plt.style.use(\"fivethirtyeight\")\n",
        "import seaborn as sns\n",
        "sns.set_style(\"darkgrid\")\n",
        "from wordcloud import WordCloud\n",
        "from sklearn.model_selection import train_test_split\n",
        "import re, string, nltk\n",
        "import emoji, bz2\n",
        "from nltk.corpus import stopwords\n",
        "from nltk.stem.wordnet import WordNetLemmatizer\n",
        "from nltk import word_tokenize\n",
        "from sklearn.ensemble import RandomForestClassifier, AdaBoostClassifier, GradientBoostingClassifier\n",
        "from sklearn.tree import DecisionTreeClassifier\n",
        "from tensorflow import keras\n",
        "from keras.models import Sequential\n",
        "from keras.layers import Dense, LSTM, Bidirectional, Dropout\n",
        "from tensorflow.keras.layers import Embedding\n",
        "#from tensorflow.keras.preprocessing.sequence import pad_sequences   -------------------------> this ibrary is not working\n",
        "from sklearn.metrics import accuracy_score,confusion_matrix, classification_report\n",
        "import warnings\n",
        "warnings.filterwarnings(\"ignore\")"
      ]
    },
    {
      "cell_type": "code",
      "execution_count": 4,
      "metadata": {
        "colab": {
          "base_uri": "https://localhost:8080/"
        },
        "id": "J1S8SpEdR8GM",
        "outputId": "a3c71dbc-a798-495f-ed67-3a3af8d70f6c"
      },
      "outputs": [
        {
          "output_type": "stream",
          "name": "stdout",
          "text": [
            "Mounted at /content/gdrive\n"
          ]
        }
      ],
      "source": [
        "\n",
        "from google.colab import drive \n",
        "drive.mount('/content/gdrive')"
      ]
    },
    {
      "cell_type": "markdown",
      "metadata": {
        "id": "p9mH3iItVj1N"
      },
      "source": [
        "#Importing datasets"
      ]
    },
    {
      "cell_type": "code",
      "execution_count": 5,
      "metadata": {
        "colab": {
          "base_uri": "https://localhost:8080/",
          "height": 206
        },
        "id": "_uiW7uQgVVRu",
        "outputId": "90af4b15-b437-4478-e4db-61fb9dcc566e"
      },
      "outputs": [
        {
          "output_type": "execute_result",
          "data": {
            "text/plain": [
              "   0                                                  1  \\\n",
              "0  2                     Stuning even for the non-gamer   \n",
              "1  2              The best soundtrack ever to anything.   \n",
              "2  2                                           Amazing!   \n",
              "3  2                               Excellent Soundtrack   \n",
              "4  2  Remember, Pull Your Jaw Off The Floor After He...   \n",
              "\n",
              "                                                   2  \n",
              "0  This sound track was beautiful! It paints the ...  \n",
              "1  I'm reading a lot of reviews saying that this ...  \n",
              "2  This soundtrack is my favorite music of all ti...  \n",
              "3  I truly like this soundtrack and I enjoy video...  \n",
              "4  If you've played the game, you know how divine...  "
            ],
            "text/html": [
              "\n",
              "  <div id=\"df-2b46f4d1-9f56-4a0b-a890-f3826c593f8b\">\n",
              "    <div class=\"colab-df-container\">\n",
              "      <div>\n",
              "<style scoped>\n",
              "    .dataframe tbody tr th:only-of-type {\n",
              "        vertical-align: middle;\n",
              "    }\n",
              "\n",
              "    .dataframe tbody tr th {\n",
              "        vertical-align: top;\n",
              "    }\n",
              "\n",
              "    .dataframe thead th {\n",
              "        text-align: right;\n",
              "    }\n",
              "</style>\n",
              "<table border=\"1\" class=\"dataframe\">\n",
              "  <thead>\n",
              "    <tr style=\"text-align: right;\">\n",
              "      <th></th>\n",
              "      <th>0</th>\n",
              "      <th>1</th>\n",
              "      <th>2</th>\n",
              "    </tr>\n",
              "  </thead>\n",
              "  <tbody>\n",
              "    <tr>\n",
              "      <th>0</th>\n",
              "      <td>2</td>\n",
              "      <td>Stuning even for the non-gamer</td>\n",
              "      <td>This sound track was beautiful! It paints the ...</td>\n",
              "    </tr>\n",
              "    <tr>\n",
              "      <th>1</th>\n",
              "      <td>2</td>\n",
              "      <td>The best soundtrack ever to anything.</td>\n",
              "      <td>I'm reading a lot of reviews saying that this ...</td>\n",
              "    </tr>\n",
              "    <tr>\n",
              "      <th>2</th>\n",
              "      <td>2</td>\n",
              "      <td>Amazing!</td>\n",
              "      <td>This soundtrack is my favorite music of all ti...</td>\n",
              "    </tr>\n",
              "    <tr>\n",
              "      <th>3</th>\n",
              "      <td>2</td>\n",
              "      <td>Excellent Soundtrack</td>\n",
              "      <td>I truly like this soundtrack and I enjoy video...</td>\n",
              "    </tr>\n",
              "    <tr>\n",
              "      <th>4</th>\n",
              "      <td>2</td>\n",
              "      <td>Remember, Pull Your Jaw Off The Floor After He...</td>\n",
              "      <td>If you've played the game, you know how divine...</td>\n",
              "    </tr>\n",
              "  </tbody>\n",
              "</table>\n",
              "</div>\n",
              "      <button class=\"colab-df-convert\" onclick=\"convertToInteractive('df-2b46f4d1-9f56-4a0b-a890-f3826c593f8b')\"\n",
              "              title=\"Convert this dataframe to an interactive table.\"\n",
              "              style=\"display:none;\">\n",
              "        \n",
              "  <svg xmlns=\"http://www.w3.org/2000/svg\" height=\"24px\"viewBox=\"0 0 24 24\"\n",
              "       width=\"24px\">\n",
              "    <path d=\"M0 0h24v24H0V0z\" fill=\"none\"/>\n",
              "    <path d=\"M18.56 5.44l.94 2.06.94-2.06 2.06-.94-2.06-.94-.94-2.06-.94 2.06-2.06.94zm-11 1L8.5 8.5l.94-2.06 2.06-.94-2.06-.94L8.5 2.5l-.94 2.06-2.06.94zm10 10l.94 2.06.94-2.06 2.06-.94-2.06-.94-.94-2.06-.94 2.06-2.06.94z\"/><path d=\"M17.41 7.96l-1.37-1.37c-.4-.4-.92-.59-1.43-.59-.52 0-1.04.2-1.43.59L10.3 9.45l-7.72 7.72c-.78.78-.78 2.05 0 2.83L4 21.41c.39.39.9.59 1.41.59.51 0 1.02-.2 1.41-.59l7.78-7.78 2.81-2.81c.8-.78.8-2.07 0-2.86zM5.41 20L4 18.59l7.72-7.72 1.47 1.35L5.41 20z\"/>\n",
              "  </svg>\n",
              "      </button>\n",
              "      \n",
              "  <style>\n",
              "    .colab-df-container {\n",
              "      display:flex;\n",
              "      flex-wrap:wrap;\n",
              "      gap: 12px;\n",
              "    }\n",
              "\n",
              "    .colab-df-convert {\n",
              "      background-color: #E8F0FE;\n",
              "      border: none;\n",
              "      border-radius: 50%;\n",
              "      cursor: pointer;\n",
              "      display: none;\n",
              "      fill: #1967D2;\n",
              "      height: 32px;\n",
              "      padding: 0 0 0 0;\n",
              "      width: 32px;\n",
              "    }\n",
              "\n",
              "    .colab-df-convert:hover {\n",
              "      background-color: #E2EBFA;\n",
              "      box-shadow: 0px 1px 2px rgba(60, 64, 67, 0.3), 0px 1px 3px 1px rgba(60, 64, 67, 0.15);\n",
              "      fill: #174EA6;\n",
              "    }\n",
              "\n",
              "    [theme=dark] .colab-df-convert {\n",
              "      background-color: #3B4455;\n",
              "      fill: #D2E3FC;\n",
              "    }\n",
              "\n",
              "    [theme=dark] .colab-df-convert:hover {\n",
              "      background-color: #434B5C;\n",
              "      box-shadow: 0px 1px 3px 1px rgba(0, 0, 0, 0.15);\n",
              "      filter: drop-shadow(0px 1px 2px rgba(0, 0, 0, 0.3));\n",
              "      fill: #FFFFFF;\n",
              "    }\n",
              "  </style>\n",
              "\n",
              "      <script>\n",
              "        const buttonEl =\n",
              "          document.querySelector('#df-2b46f4d1-9f56-4a0b-a890-f3826c593f8b button.colab-df-convert');\n",
              "        buttonEl.style.display =\n",
              "          google.colab.kernel.accessAllowed ? 'block' : 'none';\n",
              "\n",
              "        async function convertToInteractive(key) {\n",
              "          const element = document.querySelector('#df-2b46f4d1-9f56-4a0b-a890-f3826c593f8b');\n",
              "          const dataTable =\n",
              "            await google.colab.kernel.invokeFunction('convertToInteractive',\n",
              "                                                     [key], {});\n",
              "          if (!dataTable) return;\n",
              "\n",
              "          const docLinkHtml = 'Like what you see? Visit the ' +\n",
              "            '<a target=\"_blank\" href=https://colab.research.google.com/notebooks/data_table.ipynb>data table notebook</a>'\n",
              "            + ' to learn more about interactive tables.';\n",
              "          element.innerHTML = '';\n",
              "          dataTable['output_type'] = 'display_data';\n",
              "          await google.colab.output.renderOutput(dataTable, element);\n",
              "          const docLink = document.createElement('div');\n",
              "          docLink.innerHTML = docLinkHtml;\n",
              "          element.appendChild(docLink);\n",
              "        }\n",
              "      </script>\n",
              "    </div>\n",
              "  </div>\n",
              "  "
            ]
          },
          "metadata": {},
          "execution_count": 5
        }
      ],
      "source": [
        "df = pd.read_csv('/content/gdrive/MyDrive/sem3/688/project/phase 2/datasets/amazon/train.csv',sep=\",\", header=None)\n",
        "df1 = pd.read_csv('/content/gdrive/MyDrive/sem3/688/project/phase 2/datasets/amazon/test.csv',sep=\",\", header=None)\n",
        "df.head()"
      ]
    },
    {
      "cell_type": "code",
      "execution_count": 6,
      "metadata": {
        "colab": {
          "base_uri": "https://localhost:8080/"
        },
        "id": "AVFh3xjXXf2n",
        "outputId": "b236fecb-eef2-42cd-f48f-ae2a7573c474"
      },
      "outputs": [
        {
          "output_type": "execute_result",
          "data": {
            "text/plain": [
              "(3600000, 3)"
            ]
          },
          "metadata": {},
          "execution_count": 6
        }
      ],
      "source": [
        "df.shape"
      ]
    },
    {
      "cell_type": "code",
      "execution_count": 7,
      "metadata": {
        "colab": {
          "base_uri": "https://localhost:8080/"
        },
        "id": "n1z5R9E2aEEl",
        "outputId": "59b98a3b-5d60-4560-f005-6c8b0421367b"
      },
      "outputs": [
        {
          "output_type": "execute_result",
          "data": {
            "text/plain": [
              "(400000, 3)"
            ]
          },
          "metadata": {},
          "execution_count": 7
        }
      ],
      "source": [
        "df1.shape"
      ]
    },
    {
      "cell_type": "code",
      "execution_count": 8,
      "metadata": {
        "colab": {
          "base_uri": "https://localhost:8080/"
        },
        "id": "MG3ezAKcc6Vo",
        "outputId": "0e28e7a9-4119-41eb-a350-6a04eddc824a"
      },
      "outputs": [
        {
          "output_type": "stream",
          "name": "stdout",
          "text": [
            "Trainning Data consists of 3600000 rows and 3 columns.\n",
            "\n",
            "\n",
            "Testing Data consists of 400000 rows and 3 columns.\n"
          ]
        }
      ],
      "source": [
        "print(f\"Trainning Data consists of {df.shape[0]} rows and {df.shape[1]} columns.\")\n",
        "print(\"\\n\")\n",
        "print(f\"Testing Data consists of {df1.shape[0]} rows and {df1.shape[1]} columns.\")"
      ]
    },
    {
      "cell_type": "code",
      "execution_count": 9,
      "metadata": {
        "id": "oNbSzPHwh2Fu"
      },
      "outputs": [],
      "source": [
        "izuo1 = df.loc[df[0] == 1]\n",
        "izuo2 = df.loc[df[0] == 2]"
      ]
    },
    {
      "cell_type": "code",
      "execution_count": 10,
      "metadata": {
        "id": "G77rwWlSh2IW"
      },
      "outputs": [],
      "source": [
        "train1 = izuo1[:100000]\n",
        "train2 = izuo2[:100000]"
      ]
    },
    {
      "cell_type": "code",
      "execution_count": 11,
      "metadata": {
        "id": "4SL2L2aMh2Ni"
      },
      "outputs": [],
      "source": [
        "train1 = train1.reset_index(drop=True)\n",
        "train2 = train2.reset_index(drop=True)"
      ]
    },
    {
      "cell_type": "code",
      "execution_count": 12,
      "metadata": {
        "id": "pyLNWiMVoYFE"
      },
      "outputs": [],
      "source": [
        "#concading tran1 and train2\n",
        "frames = [train1, train2]\n",
        "result = pd.concat(frames)"
      ]
    },
    {
      "cell_type": "code",
      "execution_count": 13,
      "metadata": {
        "id": "-_t0YJGhYuPn"
      },
      "outputs": [],
      "source": [
        "result = result.reset_index(drop=True)"
      ]
    },
    {
      "cell_type": "code",
      "execution_count": 14,
      "metadata": {
        "colab": {
          "base_uri": "https://localhost:8080/",
          "height": 424
        },
        "id": "yxSluJDIYvfO",
        "outputId": "30facc8b-f991-467b-dbb3-0020bbad6185"
      },
      "outputs": [
        {
          "output_type": "execute_result",
          "data": {
            "text/plain": [
              "        0                                        1  \\\n",
              "0       1                             Buyer beware   \n",
              "1       1                               The Worst!   \n",
              "2       1                                Oh please   \n",
              "3       1                     Awful beyond belief!   \n",
              "4       1  Don't try to fool us with fake reviews.   \n",
              "...    ..                                      ...   \n",
              "199995  2                                It Works!   \n",
              "199996  2                          Love this book!   \n",
              "199997  2                         Good basics book   \n",
              "199998  2                Must read for new parents   \n",
              "199999  2                              great book!   \n",
              "\n",
              "                                                        2  \n",
              "0       This is a self-published book, and if you want...  \n",
              "1       A complete waste of time. Typographical errors...  \n",
              "2       I guess you have to be a romance novel lover f...  \n",
              "3       I feel I have to write to keep others from was...  \n",
              "4       It's glaringly obvious that all of the glowing...  \n",
              "...                                                   ...  \n",
              "199995  Dr. Harvey Karp has come up with a way to help...  \n",
              "199996  We are expecting our first child and this book...  \n",
              "199997  We got this book upon a recommendation from an...  \n",
              "199998  I enjoyed this book and suggest reading it BEF...  \n",
              "199999  Great book! It takes things you may already kn...  \n",
              "\n",
              "[200000 rows x 3 columns]"
            ],
            "text/html": [
              "\n",
              "  <div id=\"df-5cc7ca7c-6c55-4993-b3dd-c93985363139\">\n",
              "    <div class=\"colab-df-container\">\n",
              "      <div>\n",
              "<style scoped>\n",
              "    .dataframe tbody tr th:only-of-type {\n",
              "        vertical-align: middle;\n",
              "    }\n",
              "\n",
              "    .dataframe tbody tr th {\n",
              "        vertical-align: top;\n",
              "    }\n",
              "\n",
              "    .dataframe thead th {\n",
              "        text-align: right;\n",
              "    }\n",
              "</style>\n",
              "<table border=\"1\" class=\"dataframe\">\n",
              "  <thead>\n",
              "    <tr style=\"text-align: right;\">\n",
              "      <th></th>\n",
              "      <th>0</th>\n",
              "      <th>1</th>\n",
              "      <th>2</th>\n",
              "    </tr>\n",
              "  </thead>\n",
              "  <tbody>\n",
              "    <tr>\n",
              "      <th>0</th>\n",
              "      <td>1</td>\n",
              "      <td>Buyer beware</td>\n",
              "      <td>This is a self-published book, and if you want...</td>\n",
              "    </tr>\n",
              "    <tr>\n",
              "      <th>1</th>\n",
              "      <td>1</td>\n",
              "      <td>The Worst!</td>\n",
              "      <td>A complete waste of time. Typographical errors...</td>\n",
              "    </tr>\n",
              "    <tr>\n",
              "      <th>2</th>\n",
              "      <td>1</td>\n",
              "      <td>Oh please</td>\n",
              "      <td>I guess you have to be a romance novel lover f...</td>\n",
              "    </tr>\n",
              "    <tr>\n",
              "      <th>3</th>\n",
              "      <td>1</td>\n",
              "      <td>Awful beyond belief!</td>\n",
              "      <td>I feel I have to write to keep others from was...</td>\n",
              "    </tr>\n",
              "    <tr>\n",
              "      <th>4</th>\n",
              "      <td>1</td>\n",
              "      <td>Don't try to fool us with fake reviews.</td>\n",
              "      <td>It's glaringly obvious that all of the glowing...</td>\n",
              "    </tr>\n",
              "    <tr>\n",
              "      <th>...</th>\n",
              "      <td>...</td>\n",
              "      <td>...</td>\n",
              "      <td>...</td>\n",
              "    </tr>\n",
              "    <tr>\n",
              "      <th>199995</th>\n",
              "      <td>2</td>\n",
              "      <td>It Works!</td>\n",
              "      <td>Dr. Harvey Karp has come up with a way to help...</td>\n",
              "    </tr>\n",
              "    <tr>\n",
              "      <th>199996</th>\n",
              "      <td>2</td>\n",
              "      <td>Love this book!</td>\n",
              "      <td>We are expecting our first child and this book...</td>\n",
              "    </tr>\n",
              "    <tr>\n",
              "      <th>199997</th>\n",
              "      <td>2</td>\n",
              "      <td>Good basics book</td>\n",
              "      <td>We got this book upon a recommendation from an...</td>\n",
              "    </tr>\n",
              "    <tr>\n",
              "      <th>199998</th>\n",
              "      <td>2</td>\n",
              "      <td>Must read for new parents</td>\n",
              "      <td>I enjoyed this book and suggest reading it BEF...</td>\n",
              "    </tr>\n",
              "    <tr>\n",
              "      <th>199999</th>\n",
              "      <td>2</td>\n",
              "      <td>great book!</td>\n",
              "      <td>Great book! It takes things you may already kn...</td>\n",
              "    </tr>\n",
              "  </tbody>\n",
              "</table>\n",
              "<p>200000 rows × 3 columns</p>\n",
              "</div>\n",
              "      <button class=\"colab-df-convert\" onclick=\"convertToInteractive('df-5cc7ca7c-6c55-4993-b3dd-c93985363139')\"\n",
              "              title=\"Convert this dataframe to an interactive table.\"\n",
              "              style=\"display:none;\">\n",
              "        \n",
              "  <svg xmlns=\"http://www.w3.org/2000/svg\" height=\"24px\"viewBox=\"0 0 24 24\"\n",
              "       width=\"24px\">\n",
              "    <path d=\"M0 0h24v24H0V0z\" fill=\"none\"/>\n",
              "    <path d=\"M18.56 5.44l.94 2.06.94-2.06 2.06-.94-2.06-.94-.94-2.06-.94 2.06-2.06.94zm-11 1L8.5 8.5l.94-2.06 2.06-.94-2.06-.94L8.5 2.5l-.94 2.06-2.06.94zm10 10l.94 2.06.94-2.06 2.06-.94-2.06-.94-.94-2.06-.94 2.06-2.06.94z\"/><path d=\"M17.41 7.96l-1.37-1.37c-.4-.4-.92-.59-1.43-.59-.52 0-1.04.2-1.43.59L10.3 9.45l-7.72 7.72c-.78.78-.78 2.05 0 2.83L4 21.41c.39.39.9.59 1.41.59.51 0 1.02-.2 1.41-.59l7.78-7.78 2.81-2.81c.8-.78.8-2.07 0-2.86zM5.41 20L4 18.59l7.72-7.72 1.47 1.35L5.41 20z\"/>\n",
              "  </svg>\n",
              "      </button>\n",
              "      \n",
              "  <style>\n",
              "    .colab-df-container {\n",
              "      display:flex;\n",
              "      flex-wrap:wrap;\n",
              "      gap: 12px;\n",
              "    }\n",
              "\n",
              "    .colab-df-convert {\n",
              "      background-color: #E8F0FE;\n",
              "      border: none;\n",
              "      border-radius: 50%;\n",
              "      cursor: pointer;\n",
              "      display: none;\n",
              "      fill: #1967D2;\n",
              "      height: 32px;\n",
              "      padding: 0 0 0 0;\n",
              "      width: 32px;\n",
              "    }\n",
              "\n",
              "    .colab-df-convert:hover {\n",
              "      background-color: #E2EBFA;\n",
              "      box-shadow: 0px 1px 2px rgba(60, 64, 67, 0.3), 0px 1px 3px 1px rgba(60, 64, 67, 0.15);\n",
              "      fill: #174EA6;\n",
              "    }\n",
              "\n",
              "    [theme=dark] .colab-df-convert {\n",
              "      background-color: #3B4455;\n",
              "      fill: #D2E3FC;\n",
              "    }\n",
              "\n",
              "    [theme=dark] .colab-df-convert:hover {\n",
              "      background-color: #434B5C;\n",
              "      box-shadow: 0px 1px 3px 1px rgba(0, 0, 0, 0.15);\n",
              "      filter: drop-shadow(0px 1px 2px rgba(0, 0, 0, 0.3));\n",
              "      fill: #FFFFFF;\n",
              "    }\n",
              "  </style>\n",
              "\n",
              "      <script>\n",
              "        const buttonEl =\n",
              "          document.querySelector('#df-5cc7ca7c-6c55-4993-b3dd-c93985363139 button.colab-df-convert');\n",
              "        buttonEl.style.display =\n",
              "          google.colab.kernel.accessAllowed ? 'block' : 'none';\n",
              "\n",
              "        async function convertToInteractive(key) {\n",
              "          const element = document.querySelector('#df-5cc7ca7c-6c55-4993-b3dd-c93985363139');\n",
              "          const dataTable =\n",
              "            await google.colab.kernel.invokeFunction('convertToInteractive',\n",
              "                                                     [key], {});\n",
              "          if (!dataTable) return;\n",
              "\n",
              "          const docLinkHtml = 'Like what you see? Visit the ' +\n",
              "            '<a target=\"_blank\" href=https://colab.research.google.com/notebooks/data_table.ipynb>data table notebook</a>'\n",
              "            + ' to learn more about interactive tables.';\n",
              "          element.innerHTML = '';\n",
              "          dataTable['output_type'] = 'display_data';\n",
              "          await google.colab.output.renderOutput(dataTable, element);\n",
              "          const docLink = document.createElement('div');\n",
              "          docLink.innerHTML = docLinkHtml;\n",
              "          element.appendChild(docLink);\n",
              "        }\n",
              "      </script>\n",
              "    </div>\n",
              "  </div>\n",
              "  "
            ]
          },
          "metadata": {},
          "execution_count": 14
        }
      ],
      "source": [
        "result"
      ]
    },
    {
      "cell_type": "code",
      "execution_count": 15,
      "metadata": {
        "colab": {
          "base_uri": "https://localhost:8080/"
        },
        "id": "5sNLGmPcZGiv",
        "outputId": "d26b12aa-159e-4e9b-90d4-01ff59a4e458"
      },
      "outputs": [
        {
          "output_type": "stream",
          "name": "stdout",
          "text": [
            "Data consists of 200000 rows and 3 columns.\n"
          ]
        }
      ],
      "source": [
        "# shape of data\n",
        "print(f\"Data consists of {result.shape[0]} rows and {result.shape[1]} columns.\")"
      ]
    },
    {
      "cell_type": "code",
      "execution_count": 16,
      "metadata": {
        "colab": {
          "base_uri": "https://localhost:8080/"
        },
        "id": "ZlM4YuxJbqcg",
        "outputId": "1b0a82f0-db21-482e-8417-2890f32593c4"
      },
      "outputs": [
        {
          "output_type": "execute_result",
          "data": {
            "text/plain": [
              "0    0\n",
              "1    9\n",
              "2    0\n",
              "dtype: int64"
            ]
          },
          "metadata": {},
          "execution_count": 16
        }
      ],
      "source": [
        "# checking for null values\n",
        "result.isna().sum()"
      ]
    },
    {
      "cell_type": "code",
      "execution_count": 17,
      "metadata": {
        "id": "f4k42PnMbqfA"
      },
      "outputs": [],
      "source": [
        "# dropping null values\n",
        "result = result.dropna()"
      ]
    },
    {
      "cell_type": "code",
      "execution_count": 18,
      "metadata": {
        "colab": {
          "base_uri": "https://localhost:8080/"
        },
        "id": "CL7oUTQDbqh1",
        "outputId": "1e962f11-efbf-43ab-bdd2-b40e581f4b45"
      },
      "outputs": [
        {
          "output_type": "execute_result",
          "data": {
            "text/plain": [
              "0"
            ]
          },
          "metadata": {},
          "execution_count": 18
        }
      ],
      "source": [
        "# checking for any duplicate in the data\n",
        "result.duplicated().sum()"
      ]
    },
    {
      "cell_type": "code",
      "execution_count": 19,
      "metadata": {
        "colab": {
          "base_uri": "https://localhost:8080/"
        },
        "id": "K02tQxrTbqkL",
        "outputId": "5b42e093-26ee-482c-dc56-abb4d34c9b00"
      },
      "outputs": [
        {
          "output_type": "execute_result",
          "data": {
            "text/plain": [
              "1    99997\n",
              "2    99994\n",
              "Name: 0, dtype: int64"
            ]
          },
          "metadata": {},
          "execution_count": 19
        }
      ],
      "source": [
        "result[0].value_counts()"
      ]
    },
    {
      "cell_type": "code",
      "execution_count": 20,
      "metadata": {
        "colab": {
          "base_uri": "https://localhost:8080/",
          "height": 343
        },
        "id": "RCx1XgkNbqm2",
        "outputId": "183ac69a-fd94-449e-f483-037e4aaa2a3f"
      },
      "outputs": [
        {
          "output_type": "execute_result",
          "data": {
            "text/plain": [
              "Text(0.5, 1.0, 'Countplot for Sentiment Labels')"
            ]
          },
          "metadata": {},
          "execution_count": 20
        },
        {
          "output_type": "display_data",
          "data": {
            "text/plain": [
              "<Figure size 432x288 with 1 Axes>"
            ],
            "image/png": "[encoded data removed]"
          },
          "metadata": {}
        }
      ],
      "source": [
        "sns.countplot(result[0],palette=\"mako\")\n",
        "plt.title(\"Countplot for Sentiment Labels\")"
      ]
    },
    {
      "cell_type": "code",
      "execution_count": 21,
      "metadata": {
        "colab": {
          "base_uri": "https://localhost:8080/",
          "height": 424
        },
        "id": "JeL4uYHxbqpK",
        "outputId": "652ae914-f067-41c5-f8db-f8e50ecbedbc"
      },
      "outputs": [
        {
          "output_type": "execute_result",
          "data": {
            "text/plain": [
              "        0                                        1  \\\n",
              "0       1                             buyer beware   \n",
              "1       1                               the worst    \n",
              "2       1                                oh please   \n",
              "3       1                     awful beyond belief    \n",
              "4       1  don't try to fool us with fake reviews    \n",
              "...    ..                                      ...   \n",
              "199995  2                                it works    \n",
              "199996  2                          love this book    \n",
              "199997  2                         good basics book   \n",
              "199998  2                must read for new parents   \n",
              "199999  2                              great book    \n",
              "\n",
              "                                                        2  \n",
              "0       this is a self published book, and if you want...  \n",
              "1       a complete waste of time  typographical errors...  \n",
              "2       i guess you have to be a romance novel lover f...  \n",
              "3       i feel i have to write to keep others from was...  \n",
              "4       it's glaringly obvious that all of the glowing...  \n",
              "...                                                   ...  \n",
              "199995  dr  harvey karp has come up with a way to help...  \n",
              "199996  we are expecting our first child and this book...  \n",
              "199997  we got this book upon a recommendation from an...  \n",
              "199998  i enjoyed this book and suggest reading it bef...  \n",
              "199999  great book  it takes things you may already kn...  \n",
              "\n",
              "[199991 rows x 3 columns]"
            ],
            "text/html": [
              "\n",
              "  <div id=\"df-5812542e-063d-4a57-b729-7b680cffbb4e\">\n",
              "    <div class=\"colab-df-container\">\n",
              "      <div>\n",
              "<style scoped>\n",
              "    .dataframe tbody tr th:only-of-type {\n",
              "        vertical-align: middle;\n",
              "    }\n",
              "\n",
              "    .dataframe tbody tr th {\n",
              "        vertical-align: top;\n",
              "    }\n",
              "\n",
              "    .dataframe thead th {\n",
              "        text-align: right;\n",
              "    }\n",
              "</style>\n",
              "<table border=\"1\" class=\"dataframe\">\n",
              "  <thead>\n",
              "    <tr style=\"text-align: right;\">\n",
              "      <th></th>\n",
              "      <th>0</th>\n",
              "      <th>1</th>\n",
              "      <th>2</th>\n",
              "    </tr>\n",
              "  </thead>\n",
              "  <tbody>\n",
              "    <tr>\n",
              "      <th>0</th>\n",
              "      <td>1</td>\n",
              "      <td>buyer beware</td>\n",
              "      <td>this is a self published book, and if you want...</td>\n",
              "    </tr>\n",
              "    <tr>\n",
              "      <th>1</th>\n",
              "      <td>1</td>\n",
              "      <td>the worst</td>\n",
              "      <td>a complete waste of time  typographical errors...</td>\n",
              "    </tr>\n",
              "    <tr>\n",
              "      <th>2</th>\n",
              "      <td>1</td>\n",
              "      <td>oh please</td>\n",
              "      <td>i guess you have to be a romance novel lover f...</td>\n",
              "    </tr>\n",
              "    <tr>\n",
              "      <th>3</th>\n",
              "      <td>1</td>\n",
              "      <td>awful beyond belief</td>\n",
              "      <td>i feel i have to write to keep others from was...</td>\n",
              "    </tr>\n",
              "    <tr>\n",
              "      <th>4</th>\n",
              "      <td>1</td>\n",
              "      <td>don't try to fool us with fake reviews</td>\n",
              "      <td>it's glaringly obvious that all of the glowing...</td>\n",
              "    </tr>\n",
              "    <tr>\n",
              "      <th>...</th>\n",
              "      <td>...</td>\n",
              "      <td>...</td>\n",
              "      <td>...</td>\n",
              "    </tr>\n",
              "    <tr>\n",
              "      <th>199995</th>\n",
              "      <td>2</td>\n",
              "      <td>it works</td>\n",
              "      <td>dr  harvey karp has come up with a way to help...</td>\n",
              "    </tr>\n",
              "    <tr>\n",
              "      <th>199996</th>\n",
              "      <td>2</td>\n",
              "      <td>love this book</td>\n",
              "      <td>we are expecting our first child and this book...</td>\n",
              "    </tr>\n",
              "    <tr>\n",
              "      <th>199997</th>\n",
              "      <td>2</td>\n",
              "      <td>good basics book</td>\n",
              "      <td>we got this book upon a recommendation from an...</td>\n",
              "    </tr>\n",
              "    <tr>\n",
              "      <th>199998</th>\n",
              "      <td>2</td>\n",
              "      <td>must read for new parents</td>\n",
              "      <td>i enjoyed this book and suggest reading it bef...</td>\n",
              "    </tr>\n",
              "    <tr>\n",
              "      <th>199999</th>\n",
              "      <td>2</td>\n",
              "      <td>great book</td>\n",
              "      <td>great book  it takes things you may already kn...</td>\n",
              "    </tr>\n",
              "  </tbody>\n",
              "</table>\n",
              "<p>199991 rows × 3 columns</p>\n",
              "</div>\n",
              "      <button class=\"colab-df-convert\" onclick=\"convertToInteractive('df-5812542e-063d-4a57-b729-7b680cffbb4e')\"\n",
              "              title=\"Convert this dataframe to an interactive table.\"\n",
              "              style=\"display:none;\">\n",
              "        \n",
              "  <svg xmlns=\"http://www.w3.org/2000/svg\" height=\"24px\"viewBox=\"0 0 24 24\"\n",
              "       width=\"24px\">\n",
              "    <path d=\"M0 0h24v24H0V0z\" fill=\"none\"/>\n",
              "    <path d=\"M18.56 5.44l.94 2.06.94-2.06 2.06-.94-2.06-.94-.94-2.06-.94 2.06-2.06.94zm-11 1L8.5 8.5l.94-2.06 2.06-.94-2.06-.94L8.5 2.5l-.94 2.06-2.06.94zm10 10l.94 2.06.94-2.06 2.06-.94-2.06-.94-.94-2.06-.94 2.06-2.06.94z\"/><path d=\"M17.41 7.96l-1.37-1.37c-.4-.4-.92-.59-1.43-.59-.52 0-1.04.2-1.43.59L10.3 9.45l-7.72 7.72c-.78.78-.78 2.05 0 2.83L4 21.41c.39.39.9.59 1.41.59.51 0 1.02-.2 1.41-.59l7.78-7.78 2.81-2.81c.8-.78.8-2.07 0-2.86zM5.41 20L4 18.59l7.72-7.72 1.47 1.35L5.41 20z\"/>\n",
              "  </svg>\n",
              "      </button>\n",
              "      \n",
              "  <style>\n",
              "    .colab-df-container {\n",
              "      display:flex;\n",
              "      flex-wrap:wrap;\n",
              "      gap: 12px;\n",
              "    }\n",
              "\n",
              "    .colab-df-convert {\n",
              "      background-color: #E8F0FE;\n",
              "      border: none;\n",
              "      border-radius: 50%;\n",
              "      cursor: pointer;\n",
              "      display: none;\n",
              "      fill: #1967D2;\n",
              "      height: 32px;\n",
              "      padding: 0 0 0 0;\n",
              "      width: 32px;\n",
              "    }\n",
              "\n",
              "    .colab-df-convert:hover {\n",
              "      background-color: #E2EBFA;\n",
              "      box-shadow: 0px 1px 2px rgba(60, 64, 67, 0.3), 0px 1px 3px 1px rgba(60, 64, 67, 0.15);\n",
              "      fill: #174EA6;\n",
              "    }\n",
              "\n",
              "    [theme=dark] .colab-df-convert {\n",
              "      background-color: #3B4455;\n",
              "      fill: #D2E3FC;\n",
              "    }\n",
              "\n",
              "    [theme=dark] .colab-df-convert:hover {\n",
              "      background-color: #434B5C;\n",
              "      box-shadow: 0px 1px 3px 1px rgba(0, 0, 0, 0.15);\n",
              "      filter: drop-shadow(0px 1px 2px rgba(0, 0, 0, 0.3));\n",
              "      fill: #FFFFFF;\n",
              "    }\n",
              "  </style>\n",
              "\n",
              "      <script>\n",
              "        const buttonEl =\n",
              "          document.querySelector('#df-5812542e-063d-4a57-b729-7b680cffbb4e button.colab-df-convert');\n",
              "        buttonEl.style.display =\n",
              "          google.colab.kernel.accessAllowed ? 'block' : 'none';\n",
              "\n",
              "        async function convertToInteractive(key) {\n",
              "          const element = document.querySelector('#df-5812542e-063d-4a57-b729-7b680cffbb4e');\n",
              "          const dataTable =\n",
              "            await google.colab.kernel.invokeFunction('convertToInteractive',\n",
              "                                                     [key], {});\n",
              "          if (!dataTable) return;\n",
              "\n",
              "          const docLinkHtml = 'Like what you see? Visit the ' +\n",
              "            '<a target=\"_blank\" href=https://colab.research.google.com/notebooks/data_table.ipynb>data table notebook</a>'\n",
              "            + ' to learn more about interactive tables.';\n",
              "          element.innerHTML = '';\n",
              "          dataTable['output_type'] = 'display_data';\n",
              "          await google.colab.output.renderOutput(dataTable, element);\n",
              "          const docLink = document.createElement('div');\n",
              "          docLink.innerHTML = docLinkHtml;\n",
              "          element.appendChild(docLink);\n",
              "        }\n",
              "      </script>\n",
              "    </div>\n",
              "  </div>\n",
              "  "
            ]
          },
          "metadata": {},
          "execution_count": 21
        }
      ],
      "source": [
        "def clean_text(df, field):\n",
        "    df[field] = df[field].str.replace(r\"@\",\" at \")\n",
        "    df[field] = df[field].str.replace(\"#[^a-zA-Z0-9_]+\",\" \")\n",
        "    df[field] = df[field].str.replace(r\"[^a-zA-Z(),\\\"'\\n_]\",\" \")\n",
        "    df[field] = df[field].str.replace(r\"http\\S+\",\"\")\n",
        "    df[field] = df[field].str.lower()\n",
        "    return df\n",
        "\n",
        "clean_text(result,1)\n",
        "clean_text(result,2)"
      ]
    },
    {
      "cell_type": "code",
      "execution_count": 22,
      "metadata": {
        "id": "AvAZd_wZbqr0"
      },
      "outputs": [],
      "source": [
        "# Applying Lemmmatizer to remove tenses from texts.\n",
        "lemmatizer = WordNetLemmatizer()\n",
        "\n",
        "def preprocess_text(text):\n",
        "    text = re.sub(r\"won\\'t\", \"will not\", text)\n",
        "    text = re.sub(r\"can\\'t\", \"can not\", text)\n",
        "    text = re.sub('[^a-zA-Z0-9]',' ',text)\n",
        "    #text= re.sub(emoji.get_emoji_regexp(),\"\",text)\n",
        "    text = [lemmatizer.lemmatize(word) for word in text.split() if not word in set(stopwords.words('english'))]\n",
        "    text = ' '.join(text)\n",
        "    return text\n",
        "\n",
        "result[\"clean_title\"] = result[1].apply(preprocess_text)\n",
        "result[\"clean_text\"] = result[2].apply(preprocess_text)"
      ]
    },
    {
      "cell_type": "code",
      "execution_count": 23,
      "metadata": {
        "colab": {
          "base_uri": "https://localhost:8080/",
          "height": 520
        },
        "id": "FUGu684zbquV",
        "outputId": "82eafe18-3984-4749-9836-d60229aaed87"
      },
      "outputs": [
        {
          "output_type": "execute_result",
          "data": {
            "text/plain": [
              "    0                                                1  \\\n",
              "0   1                                     buyer beware   \n",
              "1   1                                       the worst    \n",
              "2   1                                        oh please   \n",
              "3   1                             awful beyond belief    \n",
              "4   1          don't try to fool us with fake reviews    \n",
              "5   1  sizes recomended in the size chart are not real   \n",
              "6   1                                  mens ultrasheer   \n",
              "7   1                     another abysmal digital copy   \n",
              "8   1               problem with charging smaller aaas   \n",
              "9   1                     works, but not as advertised   \n",
              "10  1                                     disappointed   \n",
              "11  1                                          oh dear   \n",
              "12  1                                  incorrect disc    \n",
              "13  1             should be titled \"hollywood debacle\"   \n",
              "14  1                   nothing you don't already know   \n",
              "\n",
              "                                                    2  \\\n",
              "0   this is a self published book, and if you want...   \n",
              "1   a complete waste of time  typographical errors...   \n",
              "2   i guess you have to be a romance novel lover f...   \n",
              "3   i feel i have to write to keep others from was...   \n",
              "4   it's glaringly obvious that all of the glowing...   \n",
              "5   sizes are much smaller than what is recomended...   \n",
              "6   this model may be ok for sedentary types, but ...   \n",
              "7   rather than scratches and insect droppings, th...   \n",
              "8   i have had the charger for more than two years...   \n",
              "9   i bought one of these chargers  the instructio...   \n",
              "10  i read the reviews,made my purchase and was ve...   \n",
              "11  i was excited to find a book ostensibly about ...   \n",
              "12  i am a big jvc fan, but i do not like this mod...   \n",
              "13  the plot is so ridiculous, i have to wonder if...   \n",
              "14  if you have even casually looked into applying...   \n",
              "\n",
              "                        clean_title  \\\n",
              "0                      buyer beware   \n",
              "1                             worst   \n",
              "2                         oh please   \n",
              "3               awful beyond belief   \n",
              "4            try fool u fake review   \n",
              "5   size recomended size chart real   \n",
              "6                    men ultrasheer   \n",
              "7      another abysmal digital copy   \n",
              "8      problem charging smaller aaa   \n",
              "9                   work advertised   \n",
              "10                     disappointed   \n",
              "11                          oh dear   \n",
              "12                   incorrect disc   \n",
              "13         titled hollywood debacle   \n",
              "14             nothing already know   \n",
              "\n",
              "                                           clean_text  \n",
              "0   self published book want know read paragraph s...  \n",
              "1   complete waste time typographical error poor g...  \n",
              "2   guess romance novel lover one discerning one o...  \n",
              "3   feel write keep others wasting money book seem...  \n",
              "4   glaringly obvious glowing review written perso...  \n",
              "5   size much smaller recomended chart tried put s...  \n",
              "6   model may ok sedentary type active get around ...  \n",
              "7   rather scratch insect droppings one random pix...  \n",
              "8   charger two year charge aa battery fine huge p...  \n",
              "9   bought one charger instruction say light stay ...  \n",
              "10  read review made purchase disappointed charger...  \n",
              "11  excited find book ostensibly muslim feminism v...  \n",
              "12  big jvc fan like model suspiscious saw several...  \n",
              "13  plot ridiculous wonder even read script making...  \n",
              "14  even casually looked applying law school alrea...  "
            ],
            "text/html": [
              "\n",
              "  <div id=\"df-b364d4ed-f5fc-4050-922a-ba338d22b72f\">\n",
              "    <div class=\"colab-df-container\">\n",
              "      <div>\n",
              "<style scoped>\n",
              "    .dataframe tbody tr th:only-of-type {\n",
              "        vertical-align: middle;\n",
              "    }\n",
              "\n",
              "    .dataframe tbody tr th {\n",
              "        vertical-align: top;\n",
              "    }\n",
              "\n",
              "    .dataframe thead th {\n",
              "        text-align: right;\n",
              "    }\n",
              "</style>\n",
              "<table border=\"1\" class=\"dataframe\">\n",
              "  <thead>\n",
              "    <tr style=\"text-align: right;\">\n",
              "      <th></th>\n",
              "      <th>0</th>\n",
              "      <th>1</th>\n",
              "      <th>2</th>\n",
              "      <th>clean_title</th>\n",
              "      <th>clean_text</th>\n",
              "    </tr>\n",
              "  </thead>\n",
              "  <tbody>\n",
              "    <tr>\n",
              "      <th>0</th>\n",
              "      <td>1</td>\n",
              "      <td>buyer beware</td>\n",
              "      <td>this is a self published book, and if you want...</td>\n",
              "      <td>buyer beware</td>\n",
              "      <td>self published book want know read paragraph s...</td>\n",
              "    </tr>\n",
              "    <tr>\n",
              "      <th>1</th>\n",
              "      <td>1</td>\n",
              "      <td>the worst</td>\n",
              "      <td>a complete waste of time  typographical errors...</td>\n",
              "      <td>worst</td>\n",
              "      <td>complete waste time typographical error poor g...</td>\n",
              "    </tr>\n",
              "    <tr>\n",
              "      <th>2</th>\n",
              "      <td>1</td>\n",
              "      <td>oh please</td>\n",
              "      <td>i guess you have to be a romance novel lover f...</td>\n",
              "      <td>oh please</td>\n",
              "      <td>guess romance novel lover one discerning one o...</td>\n",
              "    </tr>\n",
              "    <tr>\n",
              "      <th>3</th>\n",
              "      <td>1</td>\n",
              "      <td>awful beyond belief</td>\n",
              "      <td>i feel i have to write to keep others from was...</td>\n",
              "      <td>awful beyond belief</td>\n",
              "      <td>feel write keep others wasting money book seem...</td>\n",
              "    </tr>\n",
              "    <tr>\n",
              "      <th>4</th>\n",
              "      <td>1</td>\n",
              "      <td>don't try to fool us with fake reviews</td>\n",
              "      <td>it's glaringly obvious that all of the glowing...</td>\n",
              "      <td>try fool u fake review</td>\n",
              "      <td>glaringly obvious glowing review written perso...</td>\n",
              "    </tr>\n",
              "    <tr>\n",
              "      <th>5</th>\n",
              "      <td>1</td>\n",
              "      <td>sizes recomended in the size chart are not real</td>\n",
              "      <td>sizes are much smaller than what is recomended...</td>\n",
              "      <td>size recomended size chart real</td>\n",
              "      <td>size much smaller recomended chart tried put s...</td>\n",
              "    </tr>\n",
              "    <tr>\n",
              "      <th>6</th>\n",
              "      <td>1</td>\n",
              "      <td>mens ultrasheer</td>\n",
              "      <td>this model may be ok for sedentary types, but ...</td>\n",
              "      <td>men ultrasheer</td>\n",
              "      <td>model may ok sedentary type active get around ...</td>\n",
              "    </tr>\n",
              "    <tr>\n",
              "      <th>7</th>\n",
              "      <td>1</td>\n",
              "      <td>another abysmal digital copy</td>\n",
              "      <td>rather than scratches and insect droppings, th...</td>\n",
              "      <td>another abysmal digital copy</td>\n",
              "      <td>rather scratch insect droppings one random pix...</td>\n",
              "    </tr>\n",
              "    <tr>\n",
              "      <th>8</th>\n",
              "      <td>1</td>\n",
              "      <td>problem with charging smaller aaas</td>\n",
              "      <td>i have had the charger for more than two years...</td>\n",
              "      <td>problem charging smaller aaa</td>\n",
              "      <td>charger two year charge aa battery fine huge p...</td>\n",
              "    </tr>\n",
              "    <tr>\n",
              "      <th>9</th>\n",
              "      <td>1</td>\n",
              "      <td>works, but not as advertised</td>\n",
              "      <td>i bought one of these chargers  the instructio...</td>\n",
              "      <td>work advertised</td>\n",
              "      <td>bought one charger instruction say light stay ...</td>\n",
              "    </tr>\n",
              "    <tr>\n",
              "      <th>10</th>\n",
              "      <td>1</td>\n",
              "      <td>disappointed</td>\n",
              "      <td>i read the reviews,made my purchase and was ve...</td>\n",
              "      <td>disappointed</td>\n",
              "      <td>read review made purchase disappointed charger...</td>\n",
              "    </tr>\n",
              "    <tr>\n",
              "      <th>11</th>\n",
              "      <td>1</td>\n",
              "      <td>oh dear</td>\n",
              "      <td>i was excited to find a book ostensibly about ...</td>\n",
              "      <td>oh dear</td>\n",
              "      <td>excited find book ostensibly muslim feminism v...</td>\n",
              "    </tr>\n",
              "    <tr>\n",
              "      <th>12</th>\n",
              "      <td>1</td>\n",
              "      <td>incorrect disc</td>\n",
              "      <td>i am a big jvc fan, but i do not like this mod...</td>\n",
              "      <td>incorrect disc</td>\n",
              "      <td>big jvc fan like model suspiscious saw several...</td>\n",
              "    </tr>\n",
              "    <tr>\n",
              "      <th>13</th>\n",
              "      <td>1</td>\n",
              "      <td>should be titled \"hollywood debacle\"</td>\n",
              "      <td>the plot is so ridiculous, i have to wonder if...</td>\n",
              "      <td>titled hollywood debacle</td>\n",
              "      <td>plot ridiculous wonder even read script making...</td>\n",
              "    </tr>\n",
              "    <tr>\n",
              "      <th>14</th>\n",
              "      <td>1</td>\n",
              "      <td>nothing you don't already know</td>\n",
              "      <td>if you have even casually looked into applying...</td>\n",
              "      <td>nothing already know</td>\n",
              "      <td>even casually looked applying law school alrea...</td>\n",
              "    </tr>\n",
              "  </tbody>\n",
              "</table>\n",
              "</div>\n",
              "      <button class=\"colab-df-convert\" onclick=\"convertToInteractive('df-b364d4ed-f5fc-4050-922a-ba338d22b72f')\"\n",
              "              title=\"Convert this dataframe to an interactive table.\"\n",
              "              style=\"display:none;\">\n",
              "        \n",
              "  <svg xmlns=\"http://www.w3.org/2000/svg\" height=\"24px\"viewBox=\"0 0 24 24\"\n",
              "       width=\"24px\">\n",
              "    <path d=\"M0 0h24v24H0V0z\" fill=\"none\"/>\n",
              "    <path d=\"M18.56 5.44l.94 2.06.94-2.06 2.06-.94-2.06-.94-.94-2.06-.94 2.06-2.06.94zm-11 1L8.5 8.5l.94-2.06 2.06-.94-2.06-.94L8.5 2.5l-.94 2.06-2.06.94zm10 10l.94 2.06.94-2.06 2.06-.94-2.06-.94-.94-2.06-.94 2.06-2.06.94z\"/><path d=\"M17.41 7.96l-1.37-1.37c-.4-.4-.92-.59-1.43-.59-.52 0-1.04.2-1.43.59L10.3 9.45l-7.72 7.72c-.78.78-.78 2.05 0 2.83L4 21.41c.39.39.9.59 1.41.59.51 0 1.02-.2 1.41-.59l7.78-7.78 2.81-2.81c.8-.78.8-2.07 0-2.86zM5.41 20L4 18.59l7.72-7.72 1.47 1.35L5.41 20z\"/>\n",
              "  </svg>\n",
              "      </button>\n",
              "      \n",
              "  <style>\n",
              "    .colab-df-container {\n",
              "      display:flex;\n",
              "      flex-wrap:wrap;\n",
              "      gap: 12px;\n",
              "    }\n",
              "\n",
              "    .colab-df-convert {\n",
              "      background-color: #E8F0FE;\n",
              "      border: none;\n",
              "      border-radius: 50%;\n",
              "      cursor: pointer;\n",
              "      display: none;\n",
              "      fill: #1967D2;\n",
              "      height: 32px;\n",
              "      padding: 0 0 0 0;\n",
              "      width: 32px;\n",
              "    }\n",
              "\n",
              "    .colab-df-convert:hover {\n",
              "      background-color: #E2EBFA;\n",
              "      box-shadow: 0px 1px 2px rgba(60, 64, 67, 0.3), 0px 1px 3px 1px rgba(60, 64, 67, 0.15);\n",
              "      fill: #174EA6;\n",
              "    }\n",
              "\n",
              "    [theme=dark] .colab-df-convert {\n",
              "      background-color: #3B4455;\n",
              "      fill: #D2E3FC;\n",
              "    }\n",
              "\n",
              "    [theme=dark] .colab-df-convert:hover {\n",
              "      background-color: #434B5C;\n",
              "      box-shadow: 0px 1px 3px 1px rgba(0, 0, 0, 0.15);\n",
              "      filter: drop-shadow(0px 1px 2px rgba(0, 0, 0, 0.3));\n",
              "      fill: #FFFFFF;\n",
              "    }\n",
              "  </style>\n",
              "\n",
              "      <script>\n",
              "        const buttonEl =\n",
              "          document.querySelector('#df-b364d4ed-f5fc-4050-922a-ba338d22b72f button.colab-df-convert');\n",
              "        buttonEl.style.display =\n",
              "          google.colab.kernel.accessAllowed ? 'block' : 'none';\n",
              "\n",
              "        async function convertToInteractive(key) {\n",
              "          const element = document.querySelector('#df-b364d4ed-f5fc-4050-922a-ba338d22b72f');\n",
              "          const dataTable =\n",
              "            await google.colab.kernel.invokeFunction('convertToInteractive',\n",
              "                                                     [key], {});\n",
              "          if (!dataTable) return;\n",
              "\n",
              "          const docLinkHtml = 'Like what you see? Visit the ' +\n",
              "            '<a target=\"_blank\" href=https://colab.research.google.com/notebooks/data_table.ipynb>data table notebook</a>'\n",
              "            + ' to learn more about interactive tables.';\n",
              "          element.innerHTML = '';\n",
              "          dataTable['output_type'] = 'display_data';\n",
              "          await google.colab.output.renderOutput(dataTable, element);\n",
              "          const docLink = document.createElement('div');\n",
              "          docLink.innerHTML = docLinkHtml;\n",
              "          element.appendChild(docLink);\n",
              "        }\n",
              "      </script>\n",
              "    </div>\n",
              "  </div>\n",
              "  "
            ]
          },
          "metadata": {},
          "execution_count": 23
        }
      ],
      "source": [
        "result.head(15)"
      ]
    },
    {
      "cell_type": "code",
      "execution_count": 24,
      "metadata": {
        "colab": {
          "base_uri": "https://localhost:8080/",
          "height": 303
        },
        "id": "kn3fsHeKbqwy",
        "outputId": "962825dd-27aa-4a70-fb92-fede1f156d4c"
      },
      "outputs": [
        {
          "output_type": "execute_result",
          "data": {
            "text/plain": [
              "Text(0, 0.5, 'Text Length')"
            ]
          },
          "metadata": {},
          "execution_count": 24
        },
        {
          "output_type": "display_data",
          "data": {
            "text/plain": [
              "<Figure size 432x288 with 1 Axes>"
            ],
            "image/png": "[encoded data removed]"
          },
          "metadata": {}
        }
      ],
      "source": [
        "text_length = pd.Series([len(review.split()) for review in result[\"clean_title\"]])\n",
        "text_length.plot(kind=\"box\")\n",
        "plt.ylabel(\"Text Length\")"
      ]
    },
    {
      "cell_type": "code",
      "execution_count": 25,
      "metadata": {
        "colab": {
          "base_uri": "https://localhost:8080/",
          "height": 555
        },
        "id": "8Q2UVxuk6Nln",
        "outputId": "61f48b6e-7b73-4435-fac2-b27dab5dada8"
      },
      "outputs": [
        {
          "output_type": "execute_result",
          "data": {
            "text/plain": [
              "Text(0, 0.5, 'Frequency')"
            ]
          },
          "metadata": {},
          "execution_count": 25
        },
        {
          "output_type": "display_data",
          "data": {
            "text/plain": [
              "<Figure size 864x576 with 1 Axes>"
            ],
            "image/png": "[encoded data removed]"
          },
          "metadata": {}
        }
      ],
      "source": [
        "plt.figure(figsize=(12,8))\n",
        "sns.histplot(text_length,palette=\"deep\")\n",
        "plt.xlabel(\"Text Length\")\n",
        "plt.ylabel(\"Frequency\")"
      ]
    },
    {
      "cell_type": "code",
      "execution_count": 26,
      "metadata": {
        "colab": {
          "base_uri": "https://localhost:8080/",
          "height": 300
        },
        "id": "RJFe9yD_bq3s",
        "outputId": "ef539e41-cc37-4849-a63c-f296cc3401d7"
      },
      "outputs": [
        {
          "output_type": "execute_result",
          "data": {
            "text/plain": [
              "Text(0, 0.5, 'Text Length')"
            ]
          },
          "metadata": {},
          "execution_count": 26
        },
        {
          "output_type": "display_data",
          "data": {
            "text/plain": [
              "<Figure size 432x288 with 1 Axes>"
            ],
            "image/png": "[encoded data removed]"
          },
          "metadata": {}
        }
      ],
      "source": [
        "text_length = pd.Series([len(review.split()) for review in result[\"clean_text\"]])\n",
        "text_length.plot(kind=\"box\")\n",
        "plt.ylabel(\"Text Length\")"
      ]
    },
    {
      "cell_type": "code",
      "execution_count": 27,
      "metadata": {
        "colab": {
          "base_uri": "https://localhost:8080/",
          "height": 555
        },
        "id": "xFPLHiUUbq6V",
        "outputId": "bd9d9ed6-3b2f-4fda-c96f-1fe949e7dc48"
      },
      "outputs": [
        {
          "output_type": "execute_result",
          "data": {
            "text/plain": [
              "Text(0, 0.5, 'Frequency')"
            ]
          },
          "metadata": {},
          "execution_count": 27
        },
        {
          "output_type": "display_data",
          "data": {
            "text/plain": [
              "<Figure size 864x576 with 1 Axes>"
            ],
            "image/png": "[encoded data removed]"
          },
          "metadata": {}
        }
      ],
      "source": [
        "plt.figure(figsize=(12,8))\n",
        "sns.histplot(text_length,palette=\"deep\")\n",
        "plt.xlabel(\"Text Length\")\n",
        "plt.ylabel(\"Frequency\")"
      ]
    },
    {
      "cell_type": "code",
      "execution_count": 28,
      "metadata": {
        "colab": {
          "base_uri": "https://localhost:8080/",
          "height": 424
        },
        "id": "vhRIus0Qbq7q",
        "outputId": "d946aea5-522f-4d65-917b-6cc9feb01dff"
      },
      "outputs": [
        {
          "output_type": "execute_result",
          "data": {
            "text/plain": [
              "        0             clean_title  \\\n",
              "0       1            buyer beware   \n",
              "1       1                   worst   \n",
              "2       1               oh please   \n",
              "3       1     awful beyond belief   \n",
              "4       1  try fool u fake review   \n",
              "...    ..                     ...   \n",
              "199995  2                    work   \n",
              "199996  2               love book   \n",
              "199997  2         good basic book   \n",
              "199998  2    must read new parent   \n",
              "199999  2              great book   \n",
              "\n",
              "                                               clean_text  \n",
              "0       self published book want know read paragraph s...  \n",
              "1       complete waste time typographical error poor g...  \n",
              "2       guess romance novel lover one discerning one o...  \n",
              "3       feel write keep others wasting money book seem...  \n",
              "4       glaringly obvious glowing review written perso...  \n",
              "...                                                   ...  \n",
              "199995  dr harvey karp come way help parent deal colic...  \n",
              "199996  expecting first child book helpful used techni...  \n",
              "199997  got book upon recommendation another parent th...  \n",
              "199998  enjoyed book suggest reading baby get unlike o...  \n",
              "199999  great book take thing may already know put way...  \n",
              "\n",
              "[199991 rows x 3 columns]"
            ],
            "text/html": [
              "\n",
              "  <div id=\"df-baf1a8f5-ccc8-4ae9-806f-c682a8834227\">\n",
              "    <div class=\"colab-df-container\">\n",
              "      <div>\n",
              "<style scoped>\n",
              "    .dataframe tbody tr th:only-of-type {\n",
              "        vertical-align: middle;\n",
              "    }\n",
              "\n",
              "    .dataframe tbody tr th {\n",
              "        vertical-align: top;\n",
              "    }\n",
              "\n",
              "    .dataframe thead th {\n",
              "        text-align: right;\n",
              "    }\n",
              "</style>\n",
              "<table border=\"1\" class=\"dataframe\">\n",
              "  <thead>\n",
              "    <tr style=\"text-align: right;\">\n",
              "      <th></th>\n",
              "      <th>0</th>\n",
              "      <th>clean_title</th>\n",
              "      <th>clean_text</th>\n",
              "    </tr>\n",
              "  </thead>\n",
              "  <tbody>\n",
              "    <tr>\n",
              "      <th>0</th>\n",
              "      <td>1</td>\n",
              "      <td>buyer beware</td>\n",
              "      <td>self published book want know read paragraph s...</td>\n",
              "    </tr>\n",
              "    <tr>\n",
              "      <th>1</th>\n",
              "      <td>1</td>\n",
              "      <td>worst</td>\n",
              "      <td>complete waste time typographical error poor g...</td>\n",
              "    </tr>\n",
              "    <tr>\n",
              "      <th>2</th>\n",
              "      <td>1</td>\n",
              "      <td>oh please</td>\n",
              "      <td>guess romance novel lover one discerning one o...</td>\n",
              "    </tr>\n",
              "    <tr>\n",
              "      <th>3</th>\n",
              "      <td>1</td>\n",
              "      <td>awful beyond belief</td>\n",
              "      <td>feel write keep others wasting money book seem...</td>\n",
              "    </tr>\n",
              "    <tr>\n",
              "      <th>4</th>\n",
              "      <td>1</td>\n",
              "      <td>try fool u fake review</td>\n",
              "      <td>glaringly obvious glowing review written perso...</td>\n",
              "    </tr>\n",
              "    <tr>\n",
              "      <th>...</th>\n",
              "      <td>...</td>\n",
              "      <td>...</td>\n",
              "      <td>...</td>\n",
              "    </tr>\n",
              "    <tr>\n",
              "      <th>199995</th>\n",
              "      <td>2</td>\n",
              "      <td>work</td>\n",
              "      <td>dr harvey karp come way help parent deal colic...</td>\n",
              "    </tr>\n",
              "    <tr>\n",
              "      <th>199996</th>\n",
              "      <td>2</td>\n",
              "      <td>love book</td>\n",
              "      <td>expecting first child book helpful used techni...</td>\n",
              "    </tr>\n",
              "    <tr>\n",
              "      <th>199997</th>\n",
              "      <td>2</td>\n",
              "      <td>good basic book</td>\n",
              "      <td>got book upon recommendation another parent th...</td>\n",
              "    </tr>\n",
              "    <tr>\n",
              "      <th>199998</th>\n",
              "      <td>2</td>\n",
              "      <td>must read new parent</td>\n",
              "      <td>enjoyed book suggest reading baby get unlike o...</td>\n",
              "    </tr>\n",
              "    <tr>\n",
              "      <th>199999</th>\n",
              "      <td>2</td>\n",
              "      <td>great book</td>\n",
              "      <td>great book take thing may already know put way...</td>\n",
              "    </tr>\n",
              "  </tbody>\n",
              "</table>\n",
              "<p>199991 rows × 3 columns</p>\n",
              "</div>\n",
              "      <button class=\"colab-df-convert\" onclick=\"convertToInteractive('df-baf1a8f5-ccc8-4ae9-806f-c682a8834227')\"\n",
              "              title=\"Convert this dataframe to an interactive table.\"\n",
              "              style=\"display:none;\">\n",
              "        \n",
              "  <svg xmlns=\"http://www.w3.org/2000/svg\" height=\"24px\"viewBox=\"0 0 24 24\"\n",
              "       width=\"24px\">\n",
              "    <path d=\"M0 0h24v24H0V0z\" fill=\"none\"/>\n",
              "    <path d=\"M18.56 5.44l.94 2.06.94-2.06 2.06-.94-2.06-.94-.94-2.06-.94 2.06-2.06.94zm-11 1L8.5 8.5l.94-2.06 2.06-.94-2.06-.94L8.5 2.5l-.94 2.06-2.06.94zm10 10l.94 2.06.94-2.06 2.06-.94-2.06-.94-.94-2.06-.94 2.06-2.06.94z\"/><path d=\"M17.41 7.96l-1.37-1.37c-.4-.4-.92-.59-1.43-.59-.52 0-1.04.2-1.43.59L10.3 9.45l-7.72 7.72c-.78.78-.78 2.05 0 2.83L4 21.41c.39.39.9.59 1.41.59.51 0 1.02-.2 1.41-.59l7.78-7.78 2.81-2.81c.8-.78.8-2.07 0-2.86zM5.41 20L4 18.59l7.72-7.72 1.47 1.35L5.41 20z\"/>\n",
              "  </svg>\n",
              "      </button>\n",
              "      \n",
              "  <style>\n",
              "    .colab-df-container {\n",
              "      display:flex;\n",
              "      flex-wrap:wrap;\n",
              "      gap: 12px;\n",
              "    }\n",
              "\n",
              "    .colab-df-convert {\n",
              "      background-color: #E8F0FE;\n",
              "      border: none;\n",
              "      border-radius: 50%;\n",
              "      cursor: pointer;\n",
              "      display: none;\n",
              "      fill: #1967D2;\n",
              "      height: 32px;\n",
              "      padding: 0 0 0 0;\n",
              "      width: 32px;\n",
              "    }\n",
              "\n",
              "    .colab-df-convert:hover {\n",
              "      background-color: #E2EBFA;\n",
              "      box-shadow: 0px 1px 2px rgba(60, 64, 67, 0.3), 0px 1px 3px 1px rgba(60, 64, 67, 0.15);\n",
              "      fill: #174EA6;\n",
              "    }\n",
              "\n",
              "    [theme=dark] .colab-df-convert {\n",
              "      background-color: #3B4455;\n",
              "      fill: #D2E3FC;\n",
              "    }\n",
              "\n",
              "    [theme=dark] .colab-df-convert:hover {\n",
              "      background-color: #434B5C;\n",
              "      box-shadow: 0px 1px 3px 1px rgba(0, 0, 0, 0.15);\n",
              "      filter: drop-shadow(0px 1px 2px rgba(0, 0, 0, 0.3));\n",
              "      fill: #FFFFFF;\n",
              "    }\n",
              "  </style>\n",
              "\n",
              "      <script>\n",
              "        const buttonEl =\n",
              "          document.querySelector('#df-baf1a8f5-ccc8-4ae9-806f-c682a8834227 button.colab-df-convert');\n",
              "        buttonEl.style.display =\n",
              "          google.colab.kernel.accessAllowed ? 'block' : 'none';\n",
              "\n",
              "        async function convertToInteractive(key) {\n",
              "          const element = document.querySelector('#df-baf1a8f5-ccc8-4ae9-806f-c682a8834227');\n",
              "          const dataTable =\n",
              "            await google.colab.kernel.invokeFunction('convertToInteractive',\n",
              "                                                     [key], {});\n",
              "          if (!dataTable) return;\n",
              "\n",
              "          const docLinkHtml = 'Like what you see? Visit the ' +\n",
              "            '<a target=\"_blank\" href=https://colab.research.google.com/notebooks/data_table.ipynb>data table notebook</a>'\n",
              "            + ' to learn more about interactive tables.';\n",
              "          element.innerHTML = '';\n",
              "          dataTable['output_type'] = 'display_data';\n",
              "          await google.colab.output.renderOutput(dataTable, element);\n",
              "          const docLink = document.createElement('div');\n",
              "          docLink.innerHTML = docLinkHtml;\n",
              "          element.appendChild(docLink);\n",
              "        }\n",
              "      </script>\n",
              "    </div>\n",
              "  </div>\n",
              "  "
            ]
          },
          "metadata": {},
          "execution_count": 28
        }
      ],
      "source": [
        "new_result = result[[0,\"clean_title\",\"clean_text\"]]\n",
        "new_result"
      ]
    },
    {
      "cell_type": "code",
      "execution_count": 29,
      "metadata": {
        "colab": {
          "base_uri": "https://localhost:8080/"
        },
        "id": "SID3gd0Sbq9b",
        "outputId": "e07ab0b2-35c8-40e6-dbd0-1d37196bba77"
      },
      "outputs": [
        {
          "output_type": "execute_result",
          "data": {
            "text/plain": [
              "array([1, 2])"
            ]
          },
          "metadata": {},
          "execution_count": 29
        }
      ],
      "source": [
        "new_result[0].unique()"
      ]
    },
    {
      "cell_type": "code",
      "execution_count": 30,
      "metadata": {
        "colab": {
          "base_uri": "https://localhost:8080/"
        },
        "id": "7D2bYg5Gbq-g",
        "outputId": "8ddb4e7a-9437-4099-cb2d-5752373d1970"
      },
      "outputs": [
        {
          "output_type": "stream",
          "name": "stdout",
          "text": [
            "(149993,)\n",
            "(49998,)\n"
          ]
        }
      ],
      "source": [
        "X_train, X_test, y_train, y_test = train_test_split(np.array(new_result[\"clean_text\"]),np.array(new_result[0]), test_size=0.25,random_state=42)\n",
        "print(X_train.shape)\n",
        "print(X_test.shape)"
      ]
    },
    {
      "cell_type": "code",
      "execution_count": 31,
      "metadata": {
        "id": "6muN_T7WbrAC"
      },
      "outputs": [],
      "source": [
        "from sklearn.feature_extraction.text import TfidfVectorizer\n",
        "tfidf2 = TfidfVectorizer(use_idf=True, tokenizer=word_tokenize)\n",
        "X_train_tf2 = tfidf2.fit_transform(X_train)\n",
        "X_test_tf2 = tfidf2.transform(X_test)"
      ]
    },
    {
      "cell_type": "code",
      "execution_count": 32,
      "metadata": {
        "colab": {
          "base_uri": "https://localhost:8080/"
        },
        "id": "U62uo-rMbrBo",
        "outputId": "ff950244-0ca7-4a79-d7d9-701a6208e180"
      },
      "outputs": [
        {
          "output_type": "execute_result",
          "data": {
            "text/plain": [
              "RandomForestClassifier()"
            ]
          },
          "metadata": {},
          "execution_count": 32
        }
      ],
      "source": [
        "rf = RandomForestClassifier()\n",
        "rf.fit(X_train_tf2, y_train)"
      ]
    },
    {
      "cell_type": "code",
      "execution_count": 33,
      "metadata": {
        "colab": {
          "base_uri": "https://localhost:8080/"
        },
        "id": "ywhpjdCibrDK",
        "outputId": "51caf796-5fe0-4aee-a99c-ab09df9f2054"
      },
      "outputs": [
        {
          "output_type": "stream",
          "name": "stdout",
          "text": [
            "Accuracy: 83.99335973438937% and Roc Auc Score:0.8399960210794366\n",
            "              precision    recall  f1-score   support\n",
            "\n",
            "           1       0.83      0.85      0.84     24891\n",
            "           2       0.85      0.83      0.84     25107\n",
            "\n",
            "    accuracy                           0.84     49998\n",
            "   macro avg       0.84      0.84      0.84     49998\n",
            "weighted avg       0.84      0.84      0.84     49998\n",
            "\n"
          ]
        }
      ],
      "source": [
        "from sklearn.metrics import roc_auc_score\n",
        "y_pred = rf.predict(X_test_tf2)\n",
        "acc = accuracy_score(y_pred, y_test)\n",
        "report = classification_report(y_test, y_pred)\n",
        "roc = roc_auc_score(y_test,y_pred)\n",
        "print(f\"Accuracy: {acc*100}% and Roc Auc Score:{roc_auc_score(y_test,y_pred)}\")\n",
        "print(report)"
      ]
    },
    {
      "cell_type": "code",
      "execution_count": 34,
      "metadata": {
        "colab": {
          "base_uri": "https://localhost:8080/"
        },
        "id": "gegzCtYWbrEQ",
        "outputId": "c70922c5-2719-4e97-929a-23ac1b67537a"
      },
      "outputs": [
        {
          "output_type": "execute_result",
          "data": {
            "text/plain": [
              "XGBClassifier(eval_metric='mlogloss')"
            ]
          },
          "metadata": {},
          "execution_count": 34
        }
      ],
      "source": [
        "from xgboost import XGBClassifier\n",
        "from lightgbm import LGBMClassifier\n",
        "xgb = XGBClassifier(eval_metric=\"mlogloss\")\n",
        "xgb.fit(X_train_tf2, y_train)"
      ]
    },
    {
      "cell_type": "code",
      "execution_count": 35,
      "metadata": {
        "colab": {
          "base_uri": "https://localhost:8080/"
        },
        "id": "Vu-CLvl-brFx",
        "outputId": "40e771ee-4434-4c2e-ec21-9cc15e1b65a0"
      },
      "outputs": [
        {
          "output_type": "stream",
          "name": "stdout",
          "text": [
            "Accuracy: 76.78307132285292% and Roc Auc Score:0.7679715462871339\n",
            "              precision    recall  f1-score   support\n",
            "\n",
            "           1       0.75      0.80      0.77     24891\n",
            "           2       0.79      0.74      0.76     25107\n",
            "\n",
            "    accuracy                           0.77     49998\n",
            "   macro avg       0.77      0.77      0.77     49998\n",
            "weighted avg       0.77      0.77      0.77     49998\n",
            "\n"
          ]
        }
      ],
      "source": [
        "y_pred2 = xgb.predict(X_test_tf2)\n",
        "acc2 = accuracy_score(y_pred2, y_test)\n",
        "report2 = classification_report(y_test, y_pred2)\n",
        "roc2 = roc_auc_score(y_test,y_pred2)\n",
        "print(f\"Accuracy: {acc2*100}% and Roc Auc Score:{roc_auc_score(y_test,y_pred2)}\")\n",
        "print(report2)"
      ]
    },
    {
      "cell_type": "code",
      "execution_count": 36,
      "metadata": {
        "colab": {
          "base_uri": "https://localhost:8080/"
        },
        "id": "6k99Q8v_brG1",
        "outputId": "c54a25f2-68aa-4659-aa4b-e8fde28578d5"
      },
      "outputs": [
        {
          "output_type": "execute_result",
          "data": {
            "text/plain": [
              "LGBMClassifier()"
            ]
          },
          "metadata": {},
          "execution_count": 36
        }
      ],
      "source": [
        "lgb = LGBMClassifier()\n",
        "lgb.fit(X_train_tf2, y_train)"
      ]
    },
    {
      "cell_type": "code",
      "execution_count": 37,
      "metadata": {
        "colab": {
          "base_uri": "https://localhost:8080/"
        },
        "id": "FODLby2GbrJq",
        "outputId": "183064df-6a34-4b01-f380-d924c5812e8b"
      },
      "outputs": [
        {
          "output_type": "stream",
          "name": "stdout",
          "text": [
            "Accuracy: 82.8113124524981% and Roc Auc Score:0.8280475294316917\n",
            "              precision    recall  f1-score   support\n",
            "\n",
            "           1       0.84      0.81      0.82     24891\n",
            "           2       0.82      0.84      0.83     25107\n",
            "\n",
            "    accuracy                           0.83     49998\n",
            "   macro avg       0.83      0.83      0.83     49998\n",
            "weighted avg       0.83      0.83      0.83     49998\n",
            "\n"
          ]
        }
      ],
      "source": [
        "y_pred_lgb = lgb.predict(X_test_tf2)\n",
        "acc_lgb = accuracy_score(y_pred_lgb, y_test)\n",
        "report_lgb = classification_report(y_test, y_pred_lgb)\n",
        "roc_lgb = roc_auc_score(y_test,y_pred_lgb)\n",
        "print(f\"Accuracy: {acc_lgb*100}% and Roc Auc Score:{roc_auc_score(y_test,y_pred_lgb)}\")\n",
        "print(report_lgb)"
      ]
    },
    {
      "cell_type": "code",
      "execution_count": 38,
      "metadata": {
        "colab": {
          "base_uri": "https://localhost:8080/"
        },
        "id": "YirX-lRjbrLe",
        "outputId": "0ac14b8b-ea75-47b5-9ac6-421a28ee2c8c"
      },
      "outputs": [
        {
          "output_type": "execute_result",
          "data": {
            "text/plain": [
              "MultinomialNB()"
            ]
          },
          "metadata": {},
          "execution_count": 38
        }
      ],
      "source": [
        "from sklearn.naive_bayes import MultinomialNB\n",
        "nb = MultinomialNB()\n",
        "nb.fit(X_train_tf2, y_train)"
      ]
    },
    {
      "cell_type": "code",
      "execution_count": 39,
      "metadata": {
        "colab": {
          "base_uri": "https://localhost:8080/"
        },
        "id": "_UnZO_k9brMk",
        "outputId": "e19709b0-5d3d-4d21-e67f-f345bd1c2cac"
      },
      "outputs": [
        {
          "output_type": "stream",
          "name": "stdout",
          "text": [
            "Accuracy: 83.06732269290772% and Roc Auc Score:0.8307651159509518\n",
            "              precision    recall  f1-score   support\n",
            "\n",
            "           1       0.82      0.85      0.83     24891\n",
            "           2       0.85      0.81      0.83     25107\n",
            "\n",
            "    accuracy                           0.83     49998\n",
            "   macro avg       0.83      0.83      0.83     49998\n",
            "weighted avg       0.83      0.83      0.83     49998\n",
            "\n"
          ]
        }
      ],
      "source": [
        "y_pred3 = nb.predict(X_test_tf2)\n",
        "acc3 = accuracy_score(y_pred3, y_test)\n",
        "report3 = classification_report(y_test, y_pred3)\n",
        "roc3 = roc_auc_score(y_test,y_pred3)\n",
        "print(f\"Accuracy: {acc3*100}% and Roc Auc Score:{roc_auc_score(y_test,y_pred3)}\")\n",
        "print(report3)"
      ]
    },
    {
      "cell_type": "code",
      "execution_count": 40,
      "metadata": {
        "colab": {
          "base_uri": "https://localhost:8080/"
        },
        "id": "aN7mc3JGbrOX",
        "outputId": "0cd8c4ca-a006-4cc4-ffb2-c86e208c2c44"
      },
      "outputs": [
        {
          "output_type": "execute_result",
          "data": {
            "text/plain": [
              "GradientBoostingClassifier()"
            ]
          },
          "metadata": {},
          "execution_count": 40
        }
      ],
      "source": [
        "gb = GradientBoostingClassifier()\n",
        "gb.fit(X_train_tf2, y_train)"
      ]
    },
    {
      "cell_type": "code",
      "execution_count": 41,
      "metadata": {
        "colab": {
          "base_uri": "https://localhost:8080/"
        },
        "id": "nsSeZfq0brPd",
        "outputId": "de23af7a-a7e3-406b-be83-bbb93392c003"
      },
      "outputs": [
        {
          "output_type": "stream",
          "name": "stdout",
          "text": [
            "Accuracy: 76.98307932317293% and Roc Auc Score:0.7699661334747016\n",
            "              precision    recall  f1-score   support\n",
            "\n",
            "           1       0.75      0.80      0.78     24891\n",
            "           2       0.79      0.74      0.76     25107\n",
            "\n",
            "    accuracy                           0.77     49998\n",
            "   macro avg       0.77      0.77      0.77     49998\n",
            "weighted avg       0.77      0.77      0.77     49998\n",
            "\n"
          ]
        }
      ],
      "source": [
        "y_pred4 = gb.predict(X_test_tf2)\n",
        "acc4 = accuracy_score(y_pred4, y_test)\n",
        "report4 = classification_report(y_test, y_pred4)\n",
        "roc4 = roc_auc_score(y_test,y_pred4)\n",
        "print(f\"Accuracy: {acc4*100}% and Roc Auc Score:{roc_auc_score(y_test,y_pred4)}\")\n",
        "print(report4)"
      ]
    },
    {
      "cell_type": "code",
      "execution_count": 42,
      "metadata": {
        "colab": {
          "base_uri": "https://localhost:8080/"
        },
        "id": "vZSNI0mBbrRS",
        "outputId": "5659d465-da01-4f40-df72-107f44f462de"
      },
      "outputs": [
        {
          "output_type": "stream",
          "name": "stdout",
          "text": [
            "Accuracy: 71.93487739509581% and Roc Auc Score:0.7193236618479371\n",
            "              precision    recall  f1-score   support\n",
            "\n",
            "           1       0.72      0.71      0.72     24891\n",
            "           2       0.72      0.73      0.72     25107\n",
            "\n",
            "    accuracy                           0.72     49998\n",
            "   macro avg       0.72      0.72      0.72     49998\n",
            "weighted avg       0.72      0.72      0.72     49998\n",
            "\n"
          ]
        }
      ],
      "source": [
        "dt = DecisionTreeClassifier()\n",
        "dt.fit(X_train_tf2, y_train)\n",
        "y_pred5 = dt.predict(X_test_tf2)\n",
        "acc5 = accuracy_score(y_pred5, y_test)\n",
        "report5 = classification_report(y_test, y_pred5)\n",
        "roc5 = roc_auc_score(y_test,y_pred5)\n",
        "print(f\"Accuracy: {acc5*100}% and Roc Auc Score:{roc_auc_score(y_test,y_pred5)}\")\n",
        "print(report5)"
      ]
    },
    {
      "cell_type": "code",
      "execution_count": 43,
      "metadata": {
        "id": "eExi7lekbrSU"
      },
      "outputs": [],
      "source": [
        "from sklearn.metrics import precision_score\n",
        "ps = precision_score(y_test, y_pred)\n",
        "ps_lgb = precision_score(y_test,y_pred_lgb)\n",
        "ps2 = precision_score(y_test, y_pred2)\n",
        "ps3 = precision_score(y_test, y_pred3)\n",
        "ps4 = precision_score(y_test, y_pred4)\n",
        "ps5 = precision_score(y_pred5,y_test)"
      ]
    },
    {
      "cell_type": "code",
      "execution_count": 44,
      "metadata": {
        "id": "xDrnZxy_brUF"
      },
      "outputs": [],
      "source": [
        "accuracys = [acc,acc2,acc3,acc4,acc5,acc_lgb]\n",
        "roc_scores = [roc, roc2, roc3, roc4,roc5, roc_lgb]\n",
        "precision_scores = [ps,ps2,ps3,ps4,ps5,ps_lgb]\n",
        "models = {\"Random Forest\":rf,\"XGboost\":xgb,\"Naive Bayes\":nb,\"Gradient Boosting\":gb,\"Decision Tree\":dt,\"LGB Machine\":lgb}\n",
        "\n",
        "model_df = pd.DataFrame({\"Models\":models.keys(),\"Accuracy\":accuracys,\"Precision Score\":precision_scores,\"Roc Scores\": roc_scores}).sort_values(\"Roc Scores\",ascending=False)"
      ]
    },
    {
      "cell_type": "code",
      "execution_count": 45,
      "metadata": {
        "colab": {
          "base_uri": "https://localhost:8080/",
          "height": 238
        },
        "id": "yoDMImrMbrVL",
        "outputId": "40199a24-b7f3-4b30-9968-042cdd00c112"
      },
      "outputs": [
        {
          "output_type": "execute_result",
          "data": {
            "text/plain": [
              "              Models  Accuracy  Precision Score  Roc Scores\n",
              "0      Random Forest  0.839934         0.829226    0.839996\n",
              "2        Naive Bayes  0.830673         0.815975    0.830765\n",
              "5        LGB Machine  0.828113         0.837147    0.828048\n",
              "3  Gradient Boosting  0.769831         0.752443    0.769966\n",
              "1            XGboost  0.767831         0.749953    0.767972\n",
              "4      Decision Tree  0.719349         0.713511    0.719324"
            ],
            "text/html": [
              "\n",
              "  <div id=\"df-6895ff8f-3150-4c16-952f-517419bab3a2\">\n",
              "    <div class=\"colab-df-container\">\n",
              "      <div>\n",
              "<style scoped>\n",
              "    .dataframe tbody tr th:only-of-type {\n",
              "        vertical-align: middle;\n",
              "    }\n",
              "\n",
              "    .dataframe tbody tr th {\n",
              "        vertical-align: top;\n",
              "    }\n",
              "\n",
              "    .dataframe thead th {\n",
              "        text-align: right;\n",
              "    }\n",
              "</style>\n",
              "<table border=\"1\" class=\"dataframe\">\n",
              "  <thead>\n",
              "    <tr style=\"text-align: right;\">\n",
              "      <th></th>\n",
              "      <th>Models</th>\n",
              "      <th>Accuracy</th>\n",
              "      <th>Precision Score</th>\n",
              "      <th>Roc Scores</th>\n",
              "    </tr>\n",
              "  </thead>\n",
              "  <tbody>\n",
              "    <tr>\n",
              "      <th>0</th>\n",
              "      <td>Random Forest</td>\n",
              "      <td>0.839934</td>\n",
              "      <td>0.829226</td>\n",
              "      <td>0.839996</td>\n",
              "    </tr>\n",
              "    <tr>\n",
              "      <th>2</th>\n",
              "      <td>Naive Bayes</td>\n",
              "      <td>0.830673</td>\n",
              "      <td>0.815975</td>\n",
              "      <td>0.830765</td>\n",
              "    </tr>\n",
              "    <tr>\n",
              "      <th>5</th>\n",
              "      <td>LGB Machine</td>\n",
              "      <td>0.828113</td>\n",
              "      <td>0.837147</td>\n",
              "      <td>0.828048</td>\n",
              "    </tr>\n",
              "    <tr>\n",
              "      <th>3</th>\n",
              "      <td>Gradient Boosting</td>\n",
              "      <td>0.769831</td>\n",
              "      <td>0.752443</td>\n",
              "      <td>0.769966</td>\n",
              "    </tr>\n",
              "    <tr>\n",
              "      <th>1</th>\n",
              "      <td>XGboost</td>\n",
              "      <td>0.767831</td>\n",
              "      <td>0.749953</td>\n",
              "      <td>0.767972</td>\n",
              "    </tr>\n",
              "    <tr>\n",
              "      <th>4</th>\n",
              "      <td>Decision Tree</td>\n",
              "      <td>0.719349</td>\n",
              "      <td>0.713511</td>\n",
              "      <td>0.719324</td>\n",
              "    </tr>\n",
              "  </tbody>\n",
              "</table>\n",
              "</div>\n",
              "      <button class=\"colab-df-convert\" onclick=\"convertToInteractive('df-6895ff8f-3150-4c16-952f-517419bab3a2')\"\n",
              "              title=\"Convert this dataframe to an interactive table.\"\n",
              "              style=\"display:none;\">\n",
              "        \n",
              "  <svg xmlns=\"http://www.w3.org/2000/svg\" height=\"24px\"viewBox=\"0 0 24 24\"\n",
              "       width=\"24px\">\n",
              "    <path d=\"M0 0h24v24H0V0z\" fill=\"none\"/>\n",
              "    <path d=\"M18.56 5.44l.94 2.06.94-2.06 2.06-.94-2.06-.94-.94-2.06-.94 2.06-2.06.94zm-11 1L8.5 8.5l.94-2.06 2.06-.94-2.06-.94L8.5 2.5l-.94 2.06-2.06.94zm10 10l.94 2.06.94-2.06 2.06-.94-2.06-.94-.94-2.06-.94 2.06-2.06.94z\"/><path d=\"M17.41 7.96l-1.37-1.37c-.4-.4-.92-.59-1.43-.59-.52 0-1.04.2-1.43.59L10.3 9.45l-7.72 7.72c-.78.78-.78 2.05 0 2.83L4 21.41c.39.39.9.59 1.41.59.51 0 1.02-.2 1.41-.59l7.78-7.78 2.81-2.81c.8-.78.8-2.07 0-2.86zM5.41 20L4 18.59l7.72-7.72 1.47 1.35L5.41 20z\"/>\n",
              "  </svg>\n",
              "      </button>\n",
              "      \n",
              "  <style>\n",
              "    .colab-df-container {\n",
              "      display:flex;\n",
              "      flex-wrap:wrap;\n",
              "      gap: 12px;\n",
              "    }\n",
              "\n",
              "    .colab-df-convert {\n",
              "      background-color: #E8F0FE;\n",
              "      border: none;\n",
              "      border-radius: 50%;\n",
              "      cursor: pointer;\n",
              "      display: none;\n",
              "      fill: #1967D2;\n",
              "      height: 32px;\n",
              "      padding: 0 0 0 0;\n",
              "      width: 32px;\n",
              "    }\n",
              "\n",
              "    .colab-df-convert:hover {\n",
              "      background-color: #E2EBFA;\n",
              "      box-shadow: 0px 1px 2px rgba(60, 64, 67, 0.3), 0px 1px 3px 1px rgba(60, 64, 67, 0.15);\n",
              "      fill: #174EA6;\n",
              "    }\n",
              "\n",
              "    [theme=dark] .colab-df-convert {\n",
              "      background-color: #3B4455;\n",
              "      fill: #D2E3FC;\n",
              "    }\n",
              "\n",
              "    [theme=dark] .colab-df-convert:hover {\n",
              "      background-color: #434B5C;\n",
              "      box-shadow: 0px 1px 3px 1px rgba(0, 0, 0, 0.15);\n",
              "      filter: drop-shadow(0px 1px 2px rgba(0, 0, 0, 0.3));\n",
              "      fill: #FFFFFF;\n",
              "    }\n",
              "  </style>\n",
              "\n",
              "      <script>\n",
              "        const buttonEl =\n",
              "          document.querySelector('#df-6895ff8f-3150-4c16-952f-517419bab3a2 button.colab-df-convert');\n",
              "        buttonEl.style.display =\n",
              "          google.colab.kernel.accessAllowed ? 'block' : 'none';\n",
              "\n",
              "        async function convertToInteractive(key) {\n",
              "          const element = document.querySelector('#df-6895ff8f-3150-4c16-952f-517419bab3a2');\n",
              "          const dataTable =\n",
              "            await google.colab.kernel.invokeFunction('convertToInteractive',\n",
              "                                                     [key], {});\n",
              "          if (!dataTable) return;\n",
              "\n",
              "          const docLinkHtml = 'Like what you see? Visit the ' +\n",
              "            '<a target=\"_blank\" href=https://colab.research.google.com/notebooks/data_table.ipynb>data table notebook</a>'\n",
              "            + ' to learn more about interactive tables.';\n",
              "          element.innerHTML = '';\n",
              "          dataTable['output_type'] = 'display_data';\n",
              "          await google.colab.output.renderOutput(dataTable, element);\n",
              "          const docLink = document.createElement('div');\n",
              "          docLink.innerHTML = docLinkHtml;\n",
              "          element.appendChild(docLink);\n",
              "        }\n",
              "      </script>\n",
              "    </div>\n",
              "  </div>\n",
              "  "
            ]
          },
          "metadata": {},
          "execution_count": 45
        }
      ],
      "source": [
        "# Summary of Machine Learning Models Performance\n",
        "model_df"
      ]
    },
    {
      "cell_type": "code",
      "execution_count": 46,
      "metadata": {
        "colab": {
          "base_uri": "https://localhost:8080/",
          "height": 54
        },
        "id": "IfcAodk7brXC",
        "outputId": "527fd893-12e6-45ec-beea-175d2aec1073"
      },
      "outputs": [
        {
          "output_type": "display_data",
          "data": {
            "text/plain": [
              "(149993,)"
            ]
          },
          "metadata": {}
        },
        {
          "output_type": "display_data",
          "data": {
            "text/plain": [
              "(49998,)"
            ]
          },
          "metadata": {}
        }
      ],
      "source": [
        "from sklearn.model_selection import train_test_split\n",
        "X = new_result[\"clean_text\"]\n",
        "y = new_result[0]\n",
        "X_train, X_test, y_train, y_test = train_test_split(X, y, test_size=0.25, random_state=42)\n",
        "display(X_train.shape)\n",
        "display(X_test.shape)"
      ]
    },
    {
      "cell_type": "code",
      "execution_count": 47,
      "metadata": {
        "id": "x17FPT9obrYP"
      },
      "outputs": [],
      "source": [
        "from keras.preprocessing.text import Tokenizer\n",
        "from keras_preprocessing.sequence import pad_sequences\n",
        "\n",
        "tokenizer = Tokenizer()\n",
        "tokenizer.fit_on_texts(X_train)"
      ]
    },
    {
      "cell_type": "code",
      "execution_count": 48,
      "metadata": {
        "id": "EPXI2olBbrZ3"
      },
      "outputs": [],
      "source": [
        "# using tokenizer to transform text messages into training and testing set\n",
        "X_train_seq = tokenizer.texts_to_sequences(X_train)\n",
        "X_test_seq = tokenizer.texts_to_sequences(X_test)"
      ]
    },
    {
      "cell_type": "code",
      "execution_count": 49,
      "metadata": {
        "id": "YxShNhmpbrbJ"
      },
      "outputs": [],
      "source": [
        "X_train_seq_padded = pad_sequences(X_train_seq, maxlen=64)\n",
        "X_test_seq_padded = pad_sequences(X_test_seq, maxlen=64)"
      ]
    },
    {
      "cell_type": "code",
      "execution_count": 50,
      "metadata": {
        "colab": {
          "base_uri": "https://localhost:8080/"
        },
        "id": "FettSIUAbrcw",
        "outputId": "66559533-4d49-48c7-baa7-83af1ca908c8"
      },
      "outputs": [
        {
          "output_type": "execute_result",
          "data": {
            "text/plain": [
              "array([    0,     0,     0,     0,     0,     0,     0,     0,     0,\n",
              "           0,     0,     0,     0,     0,     0,     0,     0,     0,\n",
              "           0,     0,     0,     0,     0,     0,     0,     0,     0,\n",
              "           0,     0,     0,     0,     0,     0,   331,    42,  1213,\n",
              "       10528,   103,    14,    67,   103,    92,    24,   115,    50,\n",
              "         780,    24,   256,  2260,    42,   115,    24,    10,  3930,\n",
              "        5316,   943,   103,  8793,   188,    67,   115,    42,   760,\n",
              "          50], dtype=int32)"
            ]
          },
          "metadata": {},
          "execution_count": 50
        }
      ],
      "source": [
        "X_train_seq_padded[0]"
      ]
    },
    {
      "cell_type": "markdown",
      "metadata": {
        "id": "CTrSs84xbZVX"
      },
      "source": [
        "Bidirectional LSTM¶"
      ]
    },
    {
      "cell_type": "code",
      "execution_count": 51,
      "metadata": {
        "colab": {
          "base_uri": "https://localhost:8080/",
          "height": 864
        },
        "id": "fNuER-NtbYfD",
        "outputId": "4bd67edf-f750-4e18-9a28-d272f7884bc4"
      },
      "outputs": [
        {
          "output_type": "stream",
          "name": "stdout",
          "text": [
            "Model: \"sequential\"\n",
            "_________________________________________________________________\n",
            " Layer (type)                Output Shape              Param #   \n",
            "=================================================================\n",
            " embedding (Embedding)       (None, None, 64)          7614080   \n",
            "                                                                 \n",
            " bidirectional (Bidirectiona  (None, 200)              132000    \n",
            " l)                                                              \n",
            "                                                                 \n",
            " dense (Dense)               (None, 128)               25728     \n",
            "                                                                 \n",
            " dense_1 (Dense)             (None, 1)                 129       \n",
            "                                                                 \n",
            "=================================================================\n",
            "Total params: 7,771,937\n",
            "Trainable params: 7,771,937\n",
            "Non-trainable params: 0\n",
            "_________________________________________________________________\n"
          ]
        },
        {
          "output_type": "execute_result",
          "data": {
            "image/png": "[encoded data removed]",
            "text/plain": [
              "<IPython.core.display.Image object>"
            ]
          },
          "metadata": {},
          "execution_count": 51
        }
      ],
      "source": [
        "# construct model\n",
        "BATCH_SIZE = 64\n",
        "\n",
        "from keras.utils.vis_utils import plot_model\n",
        "model = Sequential()\n",
        "model.add(Embedding(len(tokenizer.index_word)+1,64))\n",
        "model.add(Bidirectional(LSTM(100, dropout=0,recurrent_dropout=0)))\n",
        "model.add(Dense(128, activation=\"relu\"))\n",
        "model.add(Dense(1,activation=\"sigmoid\"))\n",
        "\n",
        "model.compile(\"adam\",\"binary_crossentropy\",metrics=[\"accuracy\"])\n",
        "model.summary()\n",
        "plot_model(model, to_file='model_plot.png', show_shapes=True, show_layer_names=True)"
      ]
    },
    {
      "cell_type": "code",
      "execution_count": 52,
      "metadata": {
        "id": "q8KM-90ZbYvp"
      },
      "outputs": [],
      "source": [
        "# Used for preventing ovefitting\n",
        "from keras.callbacks import EarlyStopping\n",
        "early_stop = EarlyStopping(monitor=\"val_loss\",patience=5,verbose=True)"
      ]
    },
    {
      "cell_type": "code",
      "execution_count": 53,
      "metadata": {
        "colab": {
          "base_uri": "https://localhost:8080/"
        },
        "id": "2wtM93nwbreB",
        "outputId": "11a1c832-5b81-4558-d28c-d8d91a1cfff0"
      },
      "outputs": [
        {
          "output_type": "stream",
          "name": "stdout",
          "text": [
            "Epoch 1/15\n",
            "2344/2344 [==============================] - 50s 18ms/step - loss: -26857.2520 - accuracy: 0.5007 - val_loss: -76955.2734 - val_accuracy: 0.4978\n",
            "Epoch 2/15\n",
            "2344/2344 [==============================] - 40s 17ms/step - loss: -160803.0781 - accuracy: 0.5007 - val_loss: -261305.9844 - val_accuracy: 0.4978\n",
            "Epoch 3/15\n",
            "2344/2344 [==============================] - 45s 19ms/step - loss: -385694.0000 - accuracy: 0.5007 - val_loss: -527529.8750 - val_accuracy: 0.4978\n",
            "Epoch 4/15\n",
            "2344/2344 [==============================] - 42s 18ms/step - loss: -688109.4375 - accuracy: 0.5007 - val_loss: -869398.0625 - val_accuracy: 0.4978\n",
            "Epoch 5/15\n",
            "2344/2344 [==============================] - 41s 18ms/step - loss: -1065025.0000 - accuracy: 0.5007 - val_loss: -1285598.1250 - val_accuracy: 0.4978\n",
            "Epoch 6/15\n",
            "2344/2344 [==============================] - 40s 17ms/step - loss: -1515485.5000 - accuracy: 0.5007 - val_loss: -1775608.2500 - val_accuracy: 0.4978\n",
            "Epoch 7/15\n",
            "2344/2344 [==============================] - 40s 17ms/step - loss: -2039368.0000 - accuracy: 0.5007 - val_loss: -2338756.0000 - val_accuracy: 0.4978\n",
            "Epoch 8/15\n",
            "2344/2344 [==============================] - 40s 17ms/step - loss: -2634588.2500 - accuracy: 0.5007 - val_loss: -2973348.2500 - val_accuracy: 0.4978\n",
            "Epoch 9/15\n",
            "2344/2344 [==============================] - 41s 17ms/step - loss: -3301625.2500 - accuracy: 0.5007 - val_loss: -3680286.5000 - val_accuracy: 0.4978\n",
            "Epoch 10/15\n",
            "2344/2344 [==============================] - 40s 17ms/step - loss: -4039965.2500 - accuracy: 0.5007 - val_loss: -4458925.0000 - val_accuracy: 0.4978\n",
            "Epoch 11/15\n",
            "2344/2344 [==============================] - 40s 17ms/step - loss: -4849047.5000 - accuracy: 0.5007 - val_loss: -5307708.5000 - val_accuracy: 0.4978\n",
            "Epoch 12/15\n",
            "2344/2344 [==============================] - 41s 17ms/step - loss: -5729421.5000 - accuracy: 0.5007 - val_loss: -6229177.5000 - val_accuracy: 0.4978\n",
            "Epoch 13/15\n",
            "2344/2344 [==============================] - 40s 17ms/step - loss: -6679955.0000 - accuracy: 0.5007 - val_loss: -7220410.5000 - val_accuracy: 0.4978\n",
            "Epoch 14/15\n",
            "2344/2344 [==============================] - 40s 17ms/step - loss: -7700227.5000 - accuracy: 0.5007 - val_loss: -8282424.5000 - val_accuracy: 0.4978\n",
            "Epoch 15/15\n",
            "2344/2344 [==============================] - 40s 17ms/step - loss: -8792243.0000 - accuracy: 0.5007 - val_loss: -9416478.0000 - val_accuracy: 0.4978\n"
          ]
        }
      ],
      "source": [
        "history = model.fit(X_train_seq_padded, y_train,batch_size=BATCH_SIZE,epochs=15,\n",
        "                    validation_data=(X_test_seq_padded, y_test),callbacks=[early_stop])"
      ]
    },
    {
      "cell_type": "code",
      "execution_count": 54,
      "metadata": {
        "colab": {
          "base_uri": "https://localhost:8080/"
        },
        "id": "pIv6pLtIbrfz",
        "outputId": "baf604d4-f04e-47a3-e216-a82fc515c847"
      },
      "outputs": [
        {
          "output_type": "stream",
          "name": "stdout",
          "text": [
            "4688/4688 [==============================] - 22s 5ms/step\n",
            "1563/1563 [==============================] - 7s 4ms/step\n",
            "LSTM Recurrent Neural Network baseline: 0.5\n",
            "LSTM Recurrent Neural Network: 0.5\n"
          ]
        }
      ],
      "source": [
        "from sklearn.metrics import roc_auc_score\n",
        "pred_train = model.predict(X_train_seq_padded)\n",
        "pred_test = model.predict(X_test_seq_padded)\n",
        "print('LSTM Recurrent Neural Network baseline: ' + str(roc_auc_score(y_train, pred_train)))\n",
        "print('LSTM Recurrent Neural Network: ' + str(roc_auc_score(y_test, pred_test)))"
      ]
    },
    {
      "cell_type": "code",
      "execution_count": 55,
      "metadata": {
        "colab": {
          "base_uri": "https://localhost:8080/"
        },
        "id": "L6OdmbJNbqF8",
        "outputId": "63d63470-080a-4de8-debd-eba4c7d7d967"
      },
      "outputs": [
        {
          "output_type": "stream",
          "name": "stdout",
          "text": [
            "1563/1563 [==============================] - 8s 5ms/step - loss: -9416453.0000 - accuracy: 0.4978\n"
          ]
        },
        {
          "output_type": "execute_result",
          "data": {
            "text/plain": [
              "[-9416453.0, 0.49783992767333984]"
            ]
          },
          "metadata": {},
          "execution_count": 55
        }
      ],
      "source": [
        "model.evaluate(X_test_seq_padded, y_test)"
      ]
    },
    {
      "cell_type": "code",
      "execution_count": 56,
      "metadata": {
        "colab": {
          "base_uri": "https://localhost:8080/",
          "height": 437
        },
        "id": "Mp74urAmbqIg",
        "outputId": "51af0209-2bc8-417e-e981-0755902713ef"
      },
      "outputs": [
        {
          "output_type": "execute_result",
          "data": {
            "text/plain": [
              "Text(0.5, 1.0, 'Training and Validation Accuracy')"
            ]
          },
          "metadata": {},
          "execution_count": 56
        },
        {
          "output_type": "display_data",
          "data": {
            "text/plain": [
              "<Figure size 648x432 with 1 Axes>"
            ],
            "image/png": "[encoded data removed]"
          },
          "metadata": {}
        }
      ],
      "source": [
        "acc = history.history[\"accuracy\"]\n",
        "loss = history.history[\"loss\"]\n",
        "\n",
        "val_acc = history.history[\"val_accuracy\"]\n",
        "val_loss = history.history[\"val_loss\"]\n",
        "\n",
        "plt.figure(figsize=(9,6))\n",
        "plt.plot(acc,label=\"Training Accuracy\")\n",
        "plt.plot(val_acc,label=\"Validation Accuracy\")\n",
        "plt.legend()\n",
        "plt.ylabel(\"Accuracy\")\n",
        "plt.title(\"Training and Validation Accuracy\")"
      ]
    },
    {
      "cell_type": "code",
      "execution_count": 57,
      "metadata": {
        "colab": {
          "base_uri": "https://localhost:8080/",
          "height": 437
        },
        "id": "TljmOg6obqP7",
        "outputId": "aee40c65-670f-4fcc-b5ec-0c0cb6ca5ca8"
      },
      "outputs": [
        {
          "output_type": "execute_result",
          "data": {
            "text/plain": [
              "Text(0.5, 1.0, 'Training and Validation Loss')"
            ]
          },
          "metadata": {},
          "execution_count": 57
        },
        {
          "output_type": "display_data",
          "data": {
            "text/plain": [
              "<Figure size 648x432 with 1 Axes>"
            ],
            "image/png": "[encoded data removed]"
          },
          "metadata": {}
        }
      ],
      "source": [
        "plt.figure(figsize=(9,6))\n",
        "plt.plot(loss,label=\"Training Loss\")\n",
        "plt.plot(val_loss, label=\"Validation Loss\")\n",
        "plt.legend()\n",
        "plt.ylabel(\"Loss\")\n",
        "plt.title(\"Training and Validation Loss\")"
      ]
    }
  ],
  "metadata": {
    "accelerator": "GPU",
    "colab": {
      "provenance": []
    },
    "gpuClass": "standard",
    "kernelspec": {
      "display_name": "Python 3 (ipykernel)",
      "language": "python",
      "name": "python3"
    },
    "language_info": {
      "codemirror_mode": {
        "name": "ipython",
        "version": 3
      },
      "file_extension": ".py",
      "mimetype": "text/x-python",
      "name": "python",
      "nbconvert_exporter": "python",
      "pygments_lexer": "ipython3",
      "version": "3.9.7"
    }
  },
  "nbformat": 4,
  "nbformat_minor": 0
}